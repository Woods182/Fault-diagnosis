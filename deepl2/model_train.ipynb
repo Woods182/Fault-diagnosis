{
 "cells": [
  {
   "cell_type": "code",
   "execution_count": 1,
   "metadata": {
    "pycharm": {
     "is_executing": true
    },
    "scrolled": true
   },
   "outputs": [],
   "source": [
    "import os\n",
    "import matplotlib.pyplot as plt\n",
    "from collections import Counter\n",
    "import numpy as np\n",
    "import tensorflow as tf"
   ]
  },
  {
   "cell_type": "markdown",
   "metadata": {},
   "source": [
    "# 读取数据，构造训练集和测试集"
   ]
  },
  {
   "cell_type": "code",
   "execution_count": 3,
   "metadata": {
    "pycharm": {
     "is_executing": true
    }
   },
   "outputs": [],
   "source": [
    "def load_data():\n",
    "    # 读取数据\n",
    "    x = np.load('train_data/train_data.npy')\n",
    "    y = np.load('train_data/label.npy')\n",
    "    num = len(Counter(y))\n",
    "    print(\"类别数量为：\", num)\n",
    "    return x, y, num"
   ]
  },
  {
   "cell_type": "code",
   "execution_count": 4,
   "metadata": {
    "pycharm": {
     "is_executing": true
    }
   },
   "outputs": [],
   "source": [
    "def create_train_data(x, y, ratio=0.7):\n",
    "    \"\"\"\n",
    "    x:data\n",
    "    y:labal\n",
    "    ratio:生成训练集比率\n",
    "    \"\"\"\n",
    "    # 打乱顺序\n",
    "    # 读取data矩阵的第一维数（数据个数）\n",
    "    num_example = x.shape[0]\n",
    "    # 产生一个num_example范围，步长为1的序列\n",
    "    arr = np.arange(num_example)\n",
    "    # 调用函数，打乱顺序\n",
    "    np.random.seed(99)\n",
    "    np.random.shuffle(arr)\n",
    "    # 按照打乱的顺序，重新排序\n",
    "    arr_data = x[arr]\n",
    "    arr_label = y[arr]\n",
    "    # 将数据集分为训练集80%、测试集20%\n",
    "    s = int(num_example * ratio)\n",
    "    x_train = arr_data[:s]\n",
    "    y_train = arr_label[:s]\n",
    "    x_val = arr_data[s:]\n",
    "    y_val = arr_label[s:]\n",
    "    print(\"训练集shape\", x_train.shape)\n",
    "    print(\"训练集类别：\", Counter(y_train))\n",
    "    print(\"测试集shape\", x_val.shape)\n",
    "    print(\"测试集类别：\", Counter(y_val))\n",
    "    return x_train, y_train, x_val, y_val"
   ]
  },
  {
   "cell_type": "markdown",
   "metadata": {},
   "source": [
    "# 数据集构建"
   ]
  },
  {
   "cell_type": "code",
   "execution_count": 5,
   "metadata": {
    "pycharm": {
     "is_executing": true
    }
   },
   "outputs": [
    {
     "name": "stdout",
     "output_type": "stream",
     "text": [
      "类别数量为： 4\n",
      "训练集shape (3919, 1000, 2)\n",
      "训练集类别： Counter({0: 989, 2: 987, 3: 979, 1: 964})\n",
      "测试集shape (1681, 1000, 2)\n",
      "测试集类别： Counter({1: 436, 3: 421, 2: 413, 0: 411})\n",
      "**********\n",
      "训练集数量： 3919\n",
      "测试集数量： 1681\n"
     ]
    }
   ],
   "source": [
    "# 读取数据\n",
    "data, label, label_count = load_data()\n",
    "# 生成训练集测试集,70%用作训练，30%用作测试\n",
    "train_data, train_label, val_data, val_label = create_train_data(data, label, 0.7)\n",
    "print(\"*\"*10)\n",
    "print(\"训练集数量：\",len(train_label))\n",
    "print(\"测试集数量：\",len(val_label))"
   ]
  },
  {
   "cell_type": "markdown",
   "metadata": {},
   "source": [
    "# 随机森林"
   ]
  },
  {
   "cell_type": "code",
   "execution_count": 6,
   "metadata": {
    "pycharm": {
     "is_executing": true
    }
   },
   "outputs": [],
   "source": [
    "# 使用机器学习算法需要对多维数据进行降维\n",
    "m_train = train_data.reshape(train_data.shape[0],train_data.shape[1]*train_data.shape[2])\n",
    "m_val = val_data.reshape(val_data.shape[0],val_data.shape[1]*val_data.shape[2])\n",
    "\n",
    "# 设置训练迭代次数\n",
    "epoch = 30"
   ]
  },
  {
   "cell_type": "code",
   "execution_count": 7,
   "metadata": {
    "pycharm": {
     "is_executing": true
    }
   },
   "outputs": [],
   "source": [
    "from sklearn.ensemble import RandomForestClassifier\n",
    "from sklearn.metrics import roc_curve,roc_auc_score,classification_report,accuracy_score,log_loss\n",
    "from sklearn.model_selection import GridSearchCV,train_test_split\n",
    "from sklearn import model_selection\n",
    "from sklearn.preprocessing import  OneHotEncoder"
   ]
  },
  {
   "cell_type": "markdown",
   "metadata": {},
   "source": [
    "## 模型训练"
   ]
  },
  {
   "cell_type": "code",
   "execution_count": 8,
   "metadata": {
    "pycharm": {
     "is_executing": true
    }
   },
   "outputs": [
    {
     "name": "stdout",
     "output_type": "stream",
     "text": [
      "开始训练\n",
      "完成第 1 轮训练，训练集结果准确率： 0.741\n",
      "完成第 2 轮训练，训练集结果准确率： 0.739\n",
      "完成第 3 轮训练，训练集结果准确率： 0.72\n",
      "完成第 4 轮训练，训练集结果准确率： 0.736\n",
      "完成第 5 轮训练，训练集结果准确率： 0.746\n",
      "完成第 6 轮训练，训练集结果准确率： 0.729\n",
      "完成第 7 轮训练，训练集结果准确率： 0.723\n",
      "完成第 8 轮训练，训练集结果准确率： 0.742\n",
      "完成第 9 轮训练，训练集结果准确率： 0.745\n",
      "完成第 10 轮训练，训练集结果准确率： 0.736\n",
      "完成第 11 轮训练，训练集结果准确率： 0.714\n",
      "完成第 12 轮训练，训练集结果准确率： 0.725\n",
      "完成第 13 轮训练，训练集结果准确率： 0.735\n",
      "完成第 14 轮训练，训练集结果准确率： 0.732\n",
      "完成第 15 轮训练，训练集结果准确率： 0.726\n",
      "完成第 16 轮训练，训练集结果准确率： 0.75\n",
      "完成第 17 轮训练，训练集结果准确率： 0.723\n",
      "完成第 18 轮训练，训练集结果准确率： 0.736\n",
      "完成第 19 轮训练，训练集结果准确率： 0.72\n",
      "完成第 20 轮训练，训练集结果准确率： 0.719\n",
      "完成第 21 轮训练，训练集结果准确率： 0.727\n",
      "完成第 22 轮训练，训练集结果准确率： 0.735\n",
      "完成第 23 轮训练，训练集结果准确率： 0.732\n",
      "完成第 24 轮训练，训练集结果准确率： 0.733\n",
      "完成第 25 轮训练，训练集结果准确率： 0.719\n",
      "完成第 26 轮训练，训练集结果准确率： 0.737\n",
      "完成第 27 轮训练，训练集结果准确率： 0.735\n",
      "完成第 28 轮训练，训练集结果准确率： 0.723\n",
      "完成第 29 轮训练，训练集结果准确率： 0.731\n",
      "完成第 30 轮训练，训练集结果准确率： 0.716\n"
     ]
    }
   ],
   "source": [
    "# 模型参数设置\n",
    "rfc = RandomForestClassifier(n_estimators = 50,min_samples_split = 5,min_samples_leaf = 4,max_depth = 5)\n",
    "\n",
    "# 模型准确率和损失值\n",
    "acc_list = []\n",
    "loss_list = []\n",
    "train_acc_list = []\n",
    "print(\"开始训练\")\n",
    "for i in range(1,epoch +1):\n",
    "\n",
    "    # 模型训练\n",
    "    rfc.fit(m_train,train_label)\n",
    "\n",
    "    # # 训练集\n",
    "    # y_train = rfc.predict(m_train)\n",
    "\n",
    "    # 测试集\n",
    "    y_pred = np.asarray(rfc.predict(m_val),dtype = 'int64')#计算测试集结果和实际结果相符合的比例 \n",
    "\n",
    "    # 计算准确率\n",
    "    acc = round(accuracy_score(val_label, y_pred),3)#小数点三位\n",
    "    \n",
    "    # 训练集\n",
    "    y_pred = np.asarray(rfc.predict(m_train),dtype = 'int64')#计算训练结果和实际结果相符合的比例 \n",
    "    # 计算准确率\n",
    "    train_acc = round(accuracy_score(train_label, y_pred),3)\n",
    "    \n",
    "    # print('测试集准确率:', round(accuracy_score(val_label, y_pred),3))\n",
    "    acc_list.append(acc)\n",
    "    train_acc_list.append(train_acc)\n",
    "    \n",
    "    # 计算损失值\n",
    "    # 使用one-hot编码计算损失值\n",
    "    noe_hot = OneHotEncoder(sparse = False)\n",
    "\n",
    "    y_pred_o = noe_hot.fit_transform(y_pred.reshape(1, -1))\n",
    "    val_label_o = noe_hot.fit_transform(val_label.reshape(1, -1))\n",
    "#     loss = round(log_loss(val_label_o,y_pred_o),3)\n",
    "    # print(\"loss：\",round(log_loss(val_label,y_pred),3))\n",
    "#     loss_list.append(loss)\n",
    "    print(\"完成第\",i,\"轮训练，训练集结果准确率：\",acc)"
   ]
  },
  {
   "cell_type": "markdown",
   "metadata": {},
   "source": [
    "## 测试集得分"
   ]
  },
  {
   "cell_type": "code",
   "execution_count": 9,
   "metadata": {
    "pycharm": {
     "is_executing": true
    }
   },
   "outputs": [
    {
     "name": "stdout",
     "output_type": "stream",
     "text": [
      "------------------测试集上得分：------------------------\n",
      "*****\n",
      "测试集准确率得分: 0.716\n",
      "*****\n",
      "准确率、召回率、f1-值测试报告如下:\n",
      "               precision    recall  f1-score   support\n",
      "\n",
      "           0       0.82      1.00      0.90       411\n",
      "           1       0.69      0.78      0.73       436\n",
      "           2       0.54      0.41      0.46       413\n",
      "           3       0.76      0.67      0.71       421\n",
      "\n",
      "    accuracy                           0.72      1681\n",
      "   macro avg       0.70      0.72      0.70      1681\n",
      "weighted avg       0.70      0.72      0.70      1681\n",
      "\n"
     ]
    }
   ],
   "source": [
    "y_pred = np.asarray(rfc.predict(m_val),dtype = 'int64')\n",
    "print('------------------测试集上得分：------------------------')\n",
    "print('*' * 5)\n",
    "print('测试集准确率得分:', round(accuracy_score(val_label, y_pred),3))\n",
    "print('*' * 5)\n",
    "print('准确率、召回率、f1-值测试报告如下:\\n', classification_report(val_label, y_pred))"
   ]
  },
  {
   "cell_type": "markdown",
   "metadata": {},
   "source": [
    "## 模型迭代准确率"
   ]
  },
  {
   "cell_type": "code",
   "execution_count": 19,
   "metadata": {
    "pycharm": {
     "is_executing": true
    },
    "scrolled": false
   },
   "outputs": [
    {
     "data": {
      "image/png": "[encoded data removed]",
      "text/plain": [
       "<Figure size 432x288 with 1 Axes>"
      ]
     },
     "metadata": {
      "needs_background": "light"
     },
     "output_type": "display_data"
    }
   ],
   "source": [
    "# 设置Y轴范围\n",
    "plt.ylim(0,1)\n",
    "# 训练准确率曲线\n",
    "show_data1_ft= train_acc_list\n",
    "# 测试准确率曲线\n",
    "show_data2_ft= acc_list\n",
    "x_data = list(range(1,len(show_data1_ft)+1))\n",
    "ln1, = plt.plot(x_data,show_data1_ft,color='blue',linewidth=2.0,linestyle='--')\n",
    "ln2, = plt.plot(x_data,show_data2_ft,color='red',linewidth=3.0,linestyle='-.')\n",
    "plt.legend(handles=[ln1,ln2],labels=['train_acc_ft','val_acc_ft'])\n",
    "plt.show()"
   ]
  },
  {
   "cell_type": "markdown",
   "metadata": {},
   "source": [
    "## 保存模型"
   ]
  },
  {
   "cell_type": "code",
   "execution_count": 11,
   "metadata": {
    "pycharm": {
     "is_executing": true
    }
   },
   "outputs": [
    {
     "data": {
      "text/plain": [
       "['models_save/rfc.joblib']"
      ]
     },
     "execution_count": 11,
     "metadata": {},
     "output_type": "execute_result"
    }
   ],
   "source": [
    "from joblib import dump, load\n",
    "# 保存模型\n",
    "dump(rfc, 'models_save/rfc.joblib') \n",
    "# # 加载\n",
    "# rfc = load('models_save/rfc.joblib')\n",
    "# print(rfc)"
   ]
  },
  {
   "cell_type": "markdown",
   "metadata": {},
   "source": [
    "# CNN"
   ]
  },
  {
   "cell_type": "code",
   "execution_count": 12,
   "metadata": {
    "pycharm": {
     "is_executing": true
    }
   },
   "outputs": [
    {
     "name": "stdout",
     "output_type": "stream",
     "text": [
      "WARNING:tensorflow:From <ipython-input-12-3bf4ee66d380>:4: is_gpu_available (from tensorflow.python.framework.test_util) is deprecated and will be removed in a future version.\n",
      "Instructions for updating:\n",
      "Use `tf.config.list_physical_devices('GPU')` instead.\n",
      "True\n"
     ]
    }
   ],
   "source": [
    "from tensorflow import keras\n",
    "from tensorflow.keras import layers, models\n",
    "# 查看GPU是否可用\n",
    "print(tf.test.is_gpu_available())"
   ]
  },
  {
   "cell_type": "markdown",
   "metadata": {},
   "source": [
    "## 网络构建"
   ]
  },
  {
   "cell_type": "code",
   "execution_count": 13,
   "metadata": {
    "pycharm": {
     "is_executing": true
    }
   },
   "outputs": [],
   "source": [
    "def cnn_create():\n",
    "    loss = 'sparse_categorical_crossentropy'\n",
    "    metrics = ['acc']\n",
    "    inputs = keras.Input(shape=(1000, 2))\n",
    "    x = layers.Conv1D(64, 3, activation='relu')(inputs)\n",
    "    x = layers.MaxPooling1D(16)(x)\n",
    "    # 全局平均池化GAP层\n",
    "    x = layers.GlobalAveragePooling1D()(x)\n",
    "    # 几个密集分类层\n",
    "    x = layers.Dense(32, activation='relu')(x)\n",
    "    # 退出层\n",
    "    x = layers.Dropout(0.5)(x)\n",
    "    outputs = layers.Dense(4, activation='softmax')(x)\n",
    "    model = keras.Model(inputs, outputs)\n",
    "    model.compile(optimizer=keras.optimizers.Adam(0.001),\n",
    "                  loss=loss,\n",
    "                  metrics=metrics)\n",
    "    print(\"实例化模型成功，参数如下：\")\n",
    "    print(model.summary())\n",
    "    return model"
   ]
  },
  {
   "cell_type": "code",
   "execution_count": 14,
   "metadata": {
    "pycharm": {
     "is_executing": true
    }
   },
   "outputs": [
    {
     "name": "stdout",
     "output_type": "stream",
     "text": [
      "实例化模型成功，参数如下：\n",
      "Model: \"functional_1\"\n",
      "_________________________________________________________________\n",
      "Layer (type)                 Output Shape              Param #   \n",
      "=================================================================\n",
      "input_1 (InputLayer)         [(None, 1000, 2)]         0         \n",
      "_________________________________________________________________\n",
      "conv1d (Conv1D)              (None, 998, 64)           448       \n",
      "_________________________________________________________________\n",
      "max_pooling1d (MaxPooling1D) (None, 62, 64)            0         \n",
      "_________________________________________________________________\n",
      "global_average_pooling1d (Gl (None, 64)                0         \n",
      "_________________________________________________________________\n",
      "dense (Dense)                (None, 32)                2080      \n",
      "_________________________________________________________________\n",
      "dropout (Dropout)            (None, 32)                0         \n",
      "_________________________________________________________________\n",
      "dense_1 (Dense)              (None, 4)                 132       \n",
      "=================================================================\n",
      "Total params: 2,660\n",
      "Trainable params: 2,660\n",
      "Non-trainable params: 0\n",
      "_________________________________________________________________\n",
      "None\n"
     ]
    }
   ],
   "source": [
    "# 实例化模型\n",
    "cnn_model = cnn_create()\n",
    "\n",
    "# 设置模型log输出地址\n",
    "log_dir = os.path.join(\"logs/CNN\")\n",
    "if not os.path.exists(log_dir):\n",
    "    os.mkdir(log_dir)"
   ]
  },
  {
   "cell_type": "markdown",
   "metadata": {},
   "source": [
    "## 模型训练"
   ]
  },
  {
   "cell_type": "code",
   "execution_count": 15,
   "metadata": {
    "pycharm": {
     "is_executing": true
    },
    "scrolled": true
   },
   "outputs": [
    {
     "name": "stdout",
     "output_type": "stream",
     "text": [
      "Epoch 1/30\n",
      "  1/196 [..............................] - ETA: 0s - loss: 1.3567 - acc: 0.2500WARNING:tensorflow:From C:\\Users\\wuson\\AppData\\Roaming\\Python\\Python36\\site-packages\\tensorflow\\python\\ops\\summary_ops_v2.py:1277: stop (from tensorflow.python.eager.profiler) is deprecated and will be removed after 2020-07-01.\n",
      "Instructions for updating:\n",
      "use `tf.profiler.experimental.stop` instead.\n",
      "WARNING:tensorflow:Callbacks method `on_train_batch_end` is slow compared to the batch time (batch time: 0.0053s vs `on_train_batch_end` time: 0.0407s). Check your callbacks.\n",
      "196/196 [==============================] - 1s 8ms/step - loss: 1.3766 - acc: 0.2817 - val_loss: 1.3600 - val_acc: 0.5038\n",
      "Epoch 2/30\n",
      "196/196 [==============================] - 1s 6ms/step - loss: 1.3249 - acc: 0.4195 - val_loss: 1.2551 - val_acc: 0.5038\n",
      "Epoch 3/30\n",
      "196/196 [==============================] - 1s 6ms/step - loss: 1.1641 - acc: 0.5161 - val_loss: 1.0208 - val_acc: 0.6135\n",
      "Epoch 4/30\n",
      "196/196 [==============================] - 1s 6ms/step - loss: 0.9905 - acc: 0.5579 - val_loss: 0.8552 - val_acc: 0.6186\n",
      "Epoch 5/30\n",
      "196/196 [==============================] - 1s 6ms/step - loss: 0.8869 - acc: 0.5907 - val_loss: 0.7787 - val_acc: 0.6352\n",
      "Epoch 6/30\n",
      "196/196 [==============================] - 1s 6ms/step - loss: 0.8315 - acc: 0.6115 - val_loss: 0.7256 - val_acc: 0.7398\n",
      "Epoch 7/30\n",
      "196/196 [==============================] - 1s 6ms/step - loss: 0.7826 - acc: 0.6348 - val_loss: 0.6836 - val_acc: 0.7207\n",
      "Epoch 8/30\n",
      "196/196 [==============================] - 1s 6ms/step - loss: 0.7699 - acc: 0.6268 - val_loss: 0.6485 - val_acc: 0.7462\n",
      "Epoch 9/30\n",
      "196/196 [==============================] - 1s 6ms/step - loss: 0.7430 - acc: 0.6376 - val_loss: 0.6209 - val_acc: 0.7360\n",
      "Epoch 10/30\n",
      "196/196 [==============================] - 1s 6ms/step - loss: 0.7230 - acc: 0.6498 - val_loss: 0.6098 - val_acc: 0.7258\n",
      "Epoch 11/30\n",
      "196/196 [==============================] - 1s 6ms/step - loss: 0.7036 - acc: 0.6596 - val_loss: 0.5817 - val_acc: 0.7832\n",
      "Epoch 12/30\n",
      "196/196 [==============================] - 1s 6ms/step - loss: 0.6836 - acc: 0.6804 - val_loss: 0.5601 - val_acc: 0.7462\n",
      "Epoch 13/30\n",
      "196/196 [==============================] - 1s 6ms/step - loss: 0.6657 - acc: 0.6944 - val_loss: 0.5535 - val_acc: 0.7997\n",
      "Epoch 14/30\n",
      "196/196 [==============================] - 1s 6ms/step - loss: 0.6501 - acc: 0.7037 - val_loss: 0.5264 - val_acc: 0.7781\n",
      "Epoch 15/30\n",
      "196/196 [==============================] - 1s 6ms/step - loss: 0.6244 - acc: 0.7206 - val_loss: 0.5111 - val_acc: 0.7513\n",
      "Epoch 16/30\n",
      "196/196 [==============================] - 1s 6ms/step - loss: 0.6212 - acc: 0.7053 - val_loss: 0.4947 - val_acc: 0.8010\n",
      "Epoch 17/30\n",
      "196/196 [==============================] - 1s 6ms/step - loss: 0.6246 - acc: 0.7091 - val_loss: 0.4894 - val_acc: 0.8061\n",
      "Epoch 18/30\n",
      "196/196 [==============================] - 1s 6ms/step - loss: 0.6018 - acc: 0.7241 - val_loss: 0.4809 - val_acc: 0.8023\n",
      "Epoch 19/30\n",
      "196/196 [==============================] - 1s 6ms/step - loss: 0.5840 - acc: 0.7270 - val_loss: 0.4684 - val_acc: 0.8125\n",
      "Epoch 20/30\n",
      "196/196 [==============================] - 1s 6ms/step - loss: 0.5835 - acc: 0.7190 - val_loss: 0.4694 - val_acc: 0.8036\n",
      "Epoch 21/30\n",
      "196/196 [==============================] - 1s 6ms/step - loss: 0.5675 - acc: 0.7340 - val_loss: 0.4431 - val_acc: 0.8151\n",
      "Epoch 22/30\n",
      "196/196 [==============================] - 1s 6ms/step - loss: 0.5796 - acc: 0.7346 - val_loss: 0.4471 - val_acc: 0.8176\n",
      "Epoch 23/30\n",
      "196/196 [==============================] - 1s 6ms/step - loss: 0.5474 - acc: 0.7480 - val_loss: 0.4287 - val_acc: 0.8214\n",
      "Epoch 24/30\n",
      "196/196 [==============================] - 1s 6ms/step - loss: 0.5539 - acc: 0.7455 - val_loss: 0.4321 - val_acc: 0.8023\n",
      "Epoch 25/30\n",
      "196/196 [==============================] - 1s 6ms/step - loss: 0.5537 - acc: 0.7404 - val_loss: 0.4221 - val_acc: 0.8227\n",
      "Epoch 26/30\n",
      "196/196 [==============================] - 1s 6ms/step - loss: 0.5585 - acc: 0.7483 - val_loss: 0.4281 - val_acc: 0.8163\n",
      "Epoch 27/30\n",
      "196/196 [==============================] - 1s 6ms/step - loss: 0.5341 - acc: 0.7649 - val_loss: 0.3980 - val_acc: 0.8329\n",
      "Epoch 28/30\n",
      "196/196 [==============================] - 1s 6ms/step - loss: 0.5281 - acc: 0.7662 - val_loss: 0.3846 - val_acc: 0.8622\n",
      "Epoch 29/30\n",
      "196/196 [==============================] - 1s 6ms/step - loss: 0.5294 - acc: 0.7659 - val_loss: 0.4053 - val_acc: 0.8278\n",
      "Epoch 30/30\n",
      "196/196 [==============================] - 1s 6ms/step - loss: 0.5184 - acc: 0.7703 - val_loss: 0.3770 - val_acc: 0.8635\n"
     ]
    }
   ],
   "source": [
    "# 模型训练\n",
    "tensorboard_callback = tf.keras.callbacks.TensorBoard(log_dir=log_dir, histogram_freq=1)\n",
    "history = cnn_model.fit(train_data, train_label,epochs=30, batch_size=16, validation_split=0.2,callbacks=[tensorboard_callback])"
   ]
  },
  {
   "cell_type": "markdown",
   "metadata": {},
   "source": [
    "## 模型预测"
   ]
  },
  {
   "cell_type": "code",
   "execution_count": 20,
   "metadata": {
    "pycharm": {
     "is_executing": true
    }
   },
   "outputs": [
    {
     "name": "stdout",
     "output_type": "stream",
     "text": [
      "*****完成预处理，进行模型评估*****\n"
     ]
    }
   ],
   "source": [
    "from sklearn.metrics import roc_curve,roc_auc_score,classification_report,accuracy_score,log_loss\n",
    "print(\"*****完成预处理，进行模型评估*****\")\n",
    "y_pred = cnn_model.predict(val_data)\n",
    "y_pred = [np.argmax(x) for x in y_pred]"
   ]
  },
  {
   "cell_type": "markdown",
   "metadata": {},
   "source": [
    "## 测试集得分"
   ]
  },
  {
   "cell_type": "code",
   "execution_count": 21,
   "metadata": {
    "pycharm": {
     "is_executing": true
    }
   },
   "outputs": [
    {
     "name": "stdout",
     "output_type": "stream",
     "text": [
      "------------------测试集上得分：------------------------\n",
      "*****\n",
      "测试集准确率得分: 0.888\n",
      "*****\n",
      "准确率、召回率、f1-值测试报告如下:\n",
      "               precision    recall  f1-score   support\n",
      "\n",
      "           0       1.00      1.00      1.00       411\n",
      "           1       0.81      0.88      0.84       436\n",
      "           2       0.78      0.76      0.77       413\n",
      "           3       0.97      0.91      0.94       421\n",
      "\n",
      "    accuracy                           0.89      1681\n",
      "   macro avg       0.89      0.89      0.89      1681\n",
      "weighted avg       0.89      0.89      0.89      1681\n",
      "\n"
     ]
    }
   ],
   "source": [
    "print('------------------测试集上得分：------------------------')\n",
    "print('*' * 5)\n",
    "print('测试集准确率得分:', round(accuracy_score(val_label, y_pred),3))\n",
    "print('*' * 5)\n",
    "print('准确率、召回率、f1-值测试报告如下:\\n', classification_report(val_label, y_pred))"
   ]
  },
  {
   "cell_type": "markdown",
   "metadata": {},
   "source": [
    "## 模型迭代准确率"
   ]
  },
  {
   "cell_type": "code",
   "execution_count": 22,
   "metadata": {
    "pycharm": {
     "is_executing": true
    }
   },
   "outputs": [
    {
     "data": {
      "image/png": "[encoded data removed]",
      "text/plain": [
       "<Figure size 432x288 with 1 Axes>"
      ]
     },
     "metadata": {
      "needs_background": "light"
     },
     "output_type": "display_data"
    }
   ],
   "source": [
    "# 设置Y轴范围\n",
    "plt.ylim(0,1)\n",
    "# 训练准确率曲线\n",
    "show_data1_cnn = history.history['acc']\n",
    "# 测试准确率曲线\n",
    "show_data2_cnn = history.history['val_acc']\n",
    "x_data = list(range(1,len(show_data1_cnn)+1))\n",
    "ln1, = plt.plot(x_data,show_data1_cnn,color='blue',linewidth=2.0,linestyle='--')\n",
    "ln2, = plt.plot(x_data,show_data2_cnn,color='red',linewidth=3.0,linestyle='-.')\n",
    "plt.legend(handles=[ln1,ln2],labels=['train_acc_cnn','val_acc_cnn'])\n",
    "plt.show()"
   ]
  },
  {
   "cell_type": "markdown",
   "metadata": {},
   "source": [
    "## 保存模型"
   ]
  },
  {
   "cell_type": "code",
   "execution_count": 23,
   "metadata": {
    "pycharm": {
     "is_executing": true
    }
   },
   "outputs": [
    {
     "name": "stdout",
     "output_type": "stream",
     "text": [
      "完成模型训练，保存地址： models_save/cnn_model.h5\n"
     ]
    }
   ],
   "source": [
    "# 保存模型\n",
    "model_path = 'models_save/cnn_model.h5'\n",
    "cnn_model.save(model_path)\n",
    "print(\"完成模型训练，保存地址：\", model_path)"
   ]
  },
  {
   "cell_type": "markdown",
   "metadata": {},
   "source": [
    "# CNN+ResNet"
   ]
  },
  {
   "cell_type": "markdown",
   "metadata": {},
   "source": [
    "## 网络构建"
   ]
  },
  {
   "cell_type": "code",
   "execution_count": 24,
   "metadata": {
    "pycharm": {
     "is_executing": true
    },
    "scrolled": true
   },
   "outputs": [
    {
     "name": "stdout",
     "output_type": "stream",
     "text": [
      "实例化模型成功，网络结构如下：\n",
      "Model: \"functional_3\"\n",
      "__________________________________________________________________________________________________\n",
      "Layer (type)                    Output Shape         Param #     Connected to                     \n",
      "==================================================================================================\n",
      "input_2 (InputLayer)            [(None, 1000, 2)]    0                                            \n",
      "__________________________________________________________________________________________________\n",
      "conv1d_1 (Conv1D)               (None, 998, 32)      224         input_2[0][0]                    \n",
      "__________________________________________________________________________________________________\n",
      "conv1d_2 (Conv1D)               (None, 996, 64)      6208        conv1d_1[0][0]                   \n",
      "__________________________________________________________________________________________________\n",
      "max_pooling1d_1 (MaxPooling1D)  (None, 62, 64)       0           conv1d_2[0][0]                   \n",
      "__________________________________________________________________________________________________\n",
      "conv1d_3 (Conv1D)               (None, 62, 64)       12352       max_pooling1d_1[0][0]            \n",
      "__________________________________________________________________________________________________\n",
      "batch_normalization (BatchNorma (None, 62, 64)       256         conv1d_3[0][0]                   \n",
      "__________________________________________________________________________________________________\n",
      "conv1d_4 (Conv1D)               (None, 62, 64)       12352       batch_normalization[0][0]        \n",
      "__________________________________________________________________________________________________\n",
      "batch_normalization_1 (BatchNor (None, 62, 64)       256         conv1d_4[0][0]                   \n",
      "__________________________________________________________________________________________________\n",
      "add (Add)                       (None, 62, 64)       0           batch_normalization_1[0][0]      \n",
      "                                                                 max_pooling1d_1[0][0]            \n",
      "__________________________________________________________________________________________________\n",
      "activation (Activation)         (None, 62, 64)       0           add[0][0]                        \n",
      "__________________________________________________________________________________________________\n",
      "conv1d_5 (Conv1D)               (None, 62, 64)       12352       activation[0][0]                 \n",
      "__________________________________________________________________________________________________\n",
      "batch_normalization_2 (BatchNor (None, 62, 64)       256         conv1d_5[0][0]                   \n",
      "__________________________________________________________________________________________________\n",
      "conv1d_6 (Conv1D)               (None, 62, 64)       12352       batch_normalization_2[0][0]      \n",
      "__________________________________________________________________________________________________\n",
      "batch_normalization_3 (BatchNor (None, 62, 64)       256         conv1d_6[0][0]                   \n",
      "__________________________________________________________________________________________________\n",
      "add_1 (Add)                     (None, 62, 64)       0           batch_normalization_3[0][0]      \n",
      "                                                                 activation[0][0]                 \n",
      "__________________________________________________________________________________________________\n",
      "activation_1 (Activation)       (None, 62, 64)       0           add_1[0][0]                      \n",
      "__________________________________________________________________________________________________\n",
      "conv1d_7 (Conv1D)               (None, 62, 64)       12352       activation_1[0][0]               \n",
      "__________________________________________________________________________________________________\n",
      "batch_normalization_4 (BatchNor (None, 62, 64)       256         conv1d_7[0][0]                   \n",
      "__________________________________________________________________________________________________\n",
      "conv1d_8 (Conv1D)               (None, 62, 64)       12352       batch_normalization_4[0][0]      \n",
      "__________________________________________________________________________________________________\n",
      "batch_normalization_5 (BatchNor (None, 62, 64)       256         conv1d_8[0][0]                   \n",
      "__________________________________________________________________________________________________\n",
      "add_2 (Add)                     (None, 62, 64)       0           batch_normalization_5[0][0]      \n",
      "                                                                 activation_1[0][0]               \n",
      "__________________________________________________________________________________________________\n",
      "activation_2 (Activation)       (None, 62, 64)       0           add_2[0][0]                      \n",
      "__________________________________________________________________________________________________\n",
      "conv1d_9 (Conv1D)               (None, 62, 64)       12352       activation_2[0][0]               \n",
      "__________________________________________________________________________________________________\n",
      "batch_normalization_6 (BatchNor (None, 62, 64)       256         conv1d_9[0][0]                   \n",
      "__________________________________________________________________________________________________\n",
      "conv1d_10 (Conv1D)              (None, 62, 64)       12352       batch_normalization_6[0][0]      \n",
      "__________________________________________________________________________________________________\n",
      "batch_normalization_7 (BatchNor (None, 62, 64)       256         conv1d_10[0][0]                  \n",
      "__________________________________________________________________________________________________\n",
      "add_3 (Add)                     (None, 62, 64)       0           batch_normalization_7[0][0]      \n",
      "                                                                 activation_2[0][0]               \n",
      "__________________________________________________________________________________________________\n",
      "activation_3 (Activation)       (None, 62, 64)       0           add_3[0][0]                      \n",
      "__________________________________________________________________________________________________\n",
      "conv1d_11 (Conv1D)              (None, 62, 64)       12352       activation_3[0][0]               \n",
      "__________________________________________________________________________________________________\n",
      "batch_normalization_8 (BatchNor (None, 62, 64)       256         conv1d_11[0][0]                  \n",
      "__________________________________________________________________________________________________\n",
      "conv1d_12 (Conv1D)              (None, 62, 64)       12352       batch_normalization_8[0][0]      \n",
      "__________________________________________________________________________________________________\n",
      "batch_normalization_9 (BatchNor (None, 62, 64)       256         conv1d_12[0][0]                  \n",
      "__________________________________________________________________________________________________\n",
      "add_4 (Add)                     (None, 62, 64)       0           batch_normalization_9[0][0]      \n",
      "                                                                 activation_3[0][0]               \n",
      "__________________________________________________________________________________________________\n",
      "activation_4 (Activation)       (None, 62, 64)       0           add_4[0][0]                      \n",
      "__________________________________________________________________________________________________\n",
      "conv1d_13 (Conv1D)              (None, 60, 64)       12352       activation_4[0][0]               \n",
      "__________________________________________________________________________________________________\n",
      "global_average_pooling1d_1 (Glo (None, 64)           0           conv1d_13[0][0]                  \n",
      "__________________________________________________________________________________________________\n",
      "dense_2 (Dense)                 (None, 256)          16640       global_average_pooling1d_1[0][0] \n",
      "__________________________________________________________________________________________________\n",
      "dropout_1 (Dropout)             (None, 256)          0           dense_2[0][0]                    \n",
      "__________________________________________________________________________________________________\n",
      "dense_3 (Dense)                 (None, 4)            1028        dropout_1[0][0]                  \n",
      "==================================================================================================\n",
      "Total params: 162,532\n",
      "Trainable params: 161,252\n",
      "Non-trainable params: 1,280\n",
      "__________________________________________________________________________________________________\n",
      "None\n"
     ]
    }
   ],
   "source": [
    "import n_model as md\n",
    "import tensorflow as tf\n",
    "# 模型参数\n",
    "model_param = {\n",
    "    \"a_shape\": 1000,\n",
    "    \"b_shape\": 2,\n",
    "    \"label_count\": 4,\n",
    "    \"num_b\":5\n",
    "}\n",
    "\n",
    "data_shape=(model_param['a_shape'],model_param['b_shape'])\n",
    "# 模型实例化\n",
    "model = md.CNN_ResNet_model(model_param['label_count'] , model_param['num_b'] , data_shape=data_shape)\n",
    "# 使用学习率进行训练\n",
    "res_model = model.model_create(learning_rate = 1e-4)\n",
    "# 模型网络结构\n",
    "print(\"实例化模型成功，网络结构如下：\")\n",
    "print(res_model.summary())\n",
    "# 设置模型log输出地址\n",
    "log_dir = os.path.join(\"logs/ResNet\")\n",
    "if not os.path.exists(log_dir):\n",
    "    os.mkdir(log_dir)"
   ]
  },
  {
   "cell_type": "markdown",
   "metadata": {},
   "source": [
    "## 模型训练"
   ]
  },
  {
   "cell_type": "code",
   "execution_count": 1,
   "metadata": {
    "pycharm": {
     "is_executing": true
    },
    "scrolled": true
   },
   "outputs": [
    {
     "ename": "NameError",
     "evalue": "name 'tf' is not defined",
     "output_type": "error",
     "traceback": [
      "\u001b[1;31m---------------------------------------------------------------------------\u001b[0m",
      "\u001b[1;31mNameError\u001b[0m                                 Traceback (most recent call last)",
      "\u001b[1;32m<ipython-input-1-8154d4b6fbc0>\u001b[0m in \u001b[0;36m<module>\u001b[1;34m\u001b[0m\n\u001b[0;32m      1\u001b[0m \u001b[1;31m# 模型训练\u001b[0m\u001b[1;33m\u001b[0m\u001b[1;33m\u001b[0m\u001b[1;33m\u001b[0m\u001b[0m\n\u001b[1;32m----> 2\u001b[1;33m \u001b[0mtensorboard_callback\u001b[0m \u001b[1;33m=\u001b[0m \u001b[0mtf\u001b[0m\u001b[1;33m.\u001b[0m\u001b[0mkeras\u001b[0m\u001b[1;33m.\u001b[0m\u001b[0mcallbacks\u001b[0m\u001b[1;33m.\u001b[0m\u001b[0mTensorBoard\u001b[0m\u001b[1;33m(\u001b[0m\u001b[0mlog_dir\u001b[0m\u001b[1;33m=\u001b[0m\u001b[0mlog_dir\u001b[0m\u001b[1;33m,\u001b[0m \u001b[0mhistogram_freq\u001b[0m\u001b[1;33m=\u001b[0m\u001b[1;36m1\u001b[0m\u001b[1;33m)\u001b[0m\u001b[1;33m\u001b[0m\u001b[1;33m\u001b[0m\u001b[0m\n\u001b[0m\u001b[0;32m      3\u001b[0m \u001b[1;32mif\u001b[0m \u001b[0mnp\u001b[0m\u001b[1;33m.\u001b[0m\u001b[0many\u001b[0m\u001b[1;33m(\u001b[0m\u001b[0mnp\u001b[0m\u001b[1;33m.\u001b[0m\u001b[0misnan\u001b[0m\u001b[1;33m(\u001b[0m\u001b[0mcontents\u001b[0m\u001b[1;33m)\u001b[0m\u001b[1;33m)\u001b[0m\u001b[1;33m:\u001b[0m\u001b[1;33m\u001b[0m\u001b[1;33m\u001b[0m\u001b[0m\n\u001b[0;32m      4\u001b[0m     \u001b[0mprint\u001b[0m\u001b[1;33m(\u001b[0m\u001b[1;34m'contents contain nan'\u001b[0m\u001b[1;33m)\u001b[0m\u001b[1;33m\u001b[0m\u001b[1;33m\u001b[0m\u001b[0m\n\u001b[0;32m      5\u001b[0m \u001b[0mhistory\u001b[0m \u001b[1;33m=\u001b[0m \u001b[0mres_model\u001b[0m\u001b[1;33m.\u001b[0m\u001b[0mfit\u001b[0m\u001b[1;33m(\u001b[0m\u001b[0mtrain_data\u001b[0m\u001b[1;33m,\u001b[0m \u001b[0mtrain_label\u001b[0m\u001b[1;33m,\u001b[0m\u001b[0mepochs\u001b[0m\u001b[1;33m=\u001b[0m\u001b[1;36m30\u001b[0m\u001b[1;33m,\u001b[0m \u001b[0mbatch_size\u001b[0m\u001b[1;33m=\u001b[0m\u001b[1;36m32\u001b[0m\u001b[1;33m,\u001b[0m \u001b[0mvalidation_split\u001b[0m\u001b[1;33m=\u001b[0m\u001b[1;36m0.2\u001b[0m\u001b[1;33m,\u001b[0m\u001b[0mcallbacks\u001b[0m\u001b[1;33m=\u001b[0m\u001b[1;33m[\u001b[0m\u001b[0mtensorboard_callback\u001b[0m\u001b[1;33m]\u001b[0m\u001b[1;33m)\u001b[0m\u001b[1;33m\u001b[0m\u001b[1;33m\u001b[0m\u001b[0m\n",
      "\u001b[1;31mNameError\u001b[0m: name 'tf' is not defined"
     ]
    }
   ],
   "source": [
    "# 模型训练\n",
    "tensorboard_callback = tf.keras.callbacks.TensorBoard(log_dir=log_dir, histogram_freq=1)\n",
    "history = res_model.fit(train_data, train_label,epochs=30, batch_size=32, validation_split=0.2,callbacks=[tensorboard_callback])\n"
   ]
  },
  {
   "cell_type": "markdown",
   "metadata": {},
   "source": [
    "## 测试集得分"
   ]
  },
  {
   "cell_type": "code",
   "execution_count": 26,
   "metadata": {
    "pycharm": {
     "is_executing": true
    }
   },
   "outputs": [
    {
     "name": "stdout",
     "output_type": "stream",
     "text": [
      "*****完成预处理，进行模型评估*****\n",
      "------------------测试集上得分：------------------------\n",
      "*****\n",
      "测试集准确率得分: 0.999\n",
      "*****\n",
      "准确率、召回率、f1-值测试报告如下:\n",
      "               precision    recall  f1-score   support\n",
      "\n",
      "           0       1.00      1.00      1.00       411\n",
      "           1       1.00      1.00      1.00       436\n",
      "           2       1.00      1.00      1.00       413\n",
      "           3       1.00      1.00      1.00       421\n",
      "\n",
      "    accuracy                           1.00      1681\n",
      "   macro avg       1.00      1.00      1.00      1681\n",
      "weighted avg       1.00      1.00      1.00      1681\n",
      "\n"
     ]
    }
   ],
   "source": [
    "from sklearn.metrics import roc_curve,roc_auc_score,classification_report,accuracy_score,log_loss\n",
    "print(\"*****完成预处理，进行模型评估*****\")\n",
    "y_pred = res_model.predict(val_data)\n",
    "y_pred = [np.argmax(x) for x in y_pred]\n",
    "print('------------------测试集上得分：------------------------')\n",
    "print('*' * 5)\n",
    "print('测试集准确率得分:', round(accuracy_score(val_label, y_pred),3))\n",
    "print('*' * 5)\n",
    "print('准确率、召回率、f1-值测试报告如下:\\n', classification_report(val_label, y_pred))"
   ]
  },
  {
   "cell_type": "markdown",
   "metadata": {},
   "source": [
    "## 模型迭代准确率"
   ]
  },
  {
   "cell_type": "code",
   "execution_count": 27,
   "metadata": {
    "pycharm": {
     "is_executing": true
    }
   },
   "outputs": [
    {
     "data": {
      "image/png": "[encoded data removed]",
      "text/plain": [
       "<Figure size 432x288 with 1 Axes>"
      ]
     },
     "metadata": {
      "needs_background": "light"
     },
     "output_type": "display_data"
    }
   ],
   "source": [
    "# 设置Y轴范围\n",
    "plt.ylim(0,1)\n",
    "# 训练准确率曲线\n",
    "show_data1_rescnn = history.history['acc']\n",
    "# 测试准确率曲线\n",
    "show_data2_rescnn = history.history['val_acc']\n",
    "x_data = list(range(1,len(show_data1_rescnn)+1))\n",
    "ln1, = plt.plot(x_data,show_data1_rescnn,color='blue',linewidth=2.0,linestyle='--')\n",
    "ln2, = plt.plot(x_data,show_data2_rescnn,color='red',linewidth=3.0,linestyle='-.')\n",
    "plt.legend(handles=[ln1,ln2],labels=['train_acc','val_acc'])\n",
    "plt.show()"
   ]
  },
  {
   "cell_type": "markdown",
   "metadata": {},
   "source": [
    "# 保存模型"
   ]
  },
  {
   "cell_type": "code",
   "execution_count": 28,
   "metadata": {
    "pycharm": {
     "is_executing": true
    }
   },
   "outputs": [
    {
     "name": "stdout",
     "output_type": "stream",
     "text": [
      "完成模型训练，保存地址： models_save/cnn_resnet_model.h5\n"
     ]
    }
   ],
   "source": [
    "# 保存模型\n",
    "model_path = 'models_save/cnn_resnet_model.h5'\n",
    "res_model.save(model_path)\n",
    "print(\"完成模型训练，保存地址：\", model_path)"
   ]
  },
  {
   "cell_type": "markdown",
   "metadata": {},
   "source": [
    "# 最终三个模型准确率结果得分如下："
   ]
  },
  {
   "cell_type": "markdown",
   "metadata": {},
   "source": []
  },
  {
   "cell_type": "markdown",
   "metadata": {},
   "source": [
    "## 随机森林-准确率得分：0.716"
   ]
  },
  {
   "cell_type": "markdown",
   "metadata": {},
   "source": [
    "## CNN-准确率得分：0.888"
   ]
  },
  {
   "cell_type": "markdown",
   "metadata": {},
   "source": [
    "## CNN+ResNet-准确率得分：0.999"
   ]
  },
  {
   "cell_type": "markdown",
   "metadata": {},
   "source": [
    "## LSTM"
   ]
  },
  {
   "cell_type": "code",
   "execution_count": 30,
   "metadata": {},
   "outputs": [],
   "source": [
    "from tensorflow.keras.layers import  LSTM\n",
    "train_data1=train_data.reshape(3919,50,-1)\n",
    "\n",
    "def lstm_create():\n",
    "    loss = 'sparse_categorical_crossentropy'\n",
    "    metrics = ['acc']\n",
    "    inputs = keras.Input(shape=(50, 40))\n",
    "    x=LSTM(32,return_sequences=True)(inputs)\n",
    "    x=LSTM(64)(x)\n",
    "    #x = layers.Conv1D(64, 3, activation='relu')(inputs)\n",
    "    #x = layers.MaxPooling1D(16)(x)\n",
    "    # 全局平均池化GAP层\n",
    "    #x = layers.GlobalAveragePooling1D()(x)\n",
    "    # 几个密集分类层\n",
    "    #x = layers.Dense(32, activation='relu')(x)\n",
    "    # 退出层\n",
    "    x = layers.Dropout(0.1)(x)\n",
    "    outputs = layers.Dense(4, activation='softmax')(x)\n",
    "    model = keras.Model(inputs, outputs)\n",
    "    model.compile(optimizer='rmsprop',\n",
    "                  loss=loss,\n",
    "                  metrics=metrics)\n",
    "    print(\"实例化模型成功，参数如下：\")\n",
    "    print(model.summary())\n",
    "    return model"
   ]
  },
  {
   "cell_type": "code",
   "execution_count": 31,
   "metadata": {},
   "outputs": [
    {
     "name": "stdout",
     "output_type": "stream",
     "text": [
      "(3919, 50, 40)\n"
     ]
    }
   ],
   "source": [
    "print(train_data1.shape)"
   ]
  },
  {
   "cell_type": "code",
   "execution_count": 32,
   "metadata": {},
   "outputs": [
    {
     "name": "stdout",
     "output_type": "stream",
     "text": [
      "实例化模型成功，参数如下：\n",
      "Model: \"functional_5\"\n",
      "_________________________________________________________________\n",
      "Layer (type)                 Output Shape              Param #   \n",
      "=================================================================\n",
      "input_3 (InputLayer)         [(None, 50, 40)]          0         \n",
      "_________________________________________________________________\n",
      "lstm (LSTM)                  (None, 50, 32)            9344      \n",
      "_________________________________________________________________\n",
      "lstm_1 (LSTM)                (None, 64)                24832     \n",
      "_________________________________________________________________\n",
      "dropout_2 (Dropout)          (None, 64)                0         \n",
      "_________________________________________________________________\n",
      "dense_4 (Dense)              (None, 4)                 260       \n",
      "=================================================================\n",
      "Total params: 34,436\n",
      "Trainable params: 34,436\n",
      "Non-trainable params: 0\n",
      "_________________________________________________________________\n",
      "None\n"
     ]
    }
   ],
   "source": [
    "# 实例化模型\n",
    "lstm_model = lstm_create()\n",
    "\n",
    "# 设置模型log输出地址\n",
    "log_dir = os.path.join(\"logs/LSTM\")\n",
    "if not os.path.exists(log_dir):\n",
    "    os.mkdir(log_dir)"
   ]
  },
  {
   "cell_type": "code",
   "execution_count": 33,
   "metadata": {},
   "outputs": [
    {
     "name": "stdout",
     "output_type": "stream",
     "text": [
      "Epoch 1/30\n",
      " 2/98 [..............................] - ETA: 12s - loss: 1.4070 - acc: 0.1875WARNING:tensorflow:Callbacks method `on_train_batch_end` is slow compared to the batch time (batch time: 0.0162s vs `on_train_batch_end` time: 0.2350s). Check your callbacks.\n",
      "98/98 [==============================] - 3s 28ms/step - loss: 1.2615 - acc: 0.3869 - val_loss: 1.1622 - val_acc: 0.4247\n",
      "Epoch 2/30\n",
      "98/98 [==============================] - 1s 15ms/step - loss: 1.1429 - acc: 0.4689 - val_loss: 1.1223 - val_acc: 0.4719\n",
      "Epoch 3/30\n",
      "98/98 [==============================] - 1s 15ms/step - loss: 1.1002 - acc: 0.4925 - val_loss: 0.9886 - val_acc: 0.4923\n",
      "Epoch 4/30\n",
      "98/98 [==============================] - 1s 15ms/step - loss: 1.0731 - acc: 0.5088 - val_loss: 1.0204 - val_acc: 0.4643\n",
      "Epoch 5/30\n",
      "98/98 [==============================] - 2s 16ms/step - loss: 1.0493 - acc: 0.5164 - val_loss: 0.9525 - val_acc: 0.5510\n",
      "Epoch 6/30\n",
      "98/98 [==============================] - 2s 17ms/step - loss: 1.0414 - acc: 0.5113 - val_loss: 0.9303 - val_acc: 0.5191\n",
      "Epoch 7/30\n",
      "98/98 [==============================] - 2s 16ms/step - loss: 1.0241 - acc: 0.5282 - val_loss: 0.9872 - val_acc: 0.5638\n",
      "Epoch 8/30\n",
      "98/98 [==============================] - 2s 16ms/step - loss: 1.0118 - acc: 0.5333 - val_loss: 0.9243 - val_acc: 0.5663\n",
      "Epoch 9/30\n",
      "98/98 [==============================] - 2s 16ms/step - loss: 0.9992 - acc: 0.5333 - val_loss: 0.8942 - val_acc: 0.5446\n",
      "Epoch 10/30\n",
      "98/98 [==============================] - 2s 15ms/step - loss: 0.9879 - acc: 0.5234 - val_loss: 0.9571 - val_acc: 0.5523\n",
      "Epoch 11/30\n",
      "98/98 [==============================] - 2s 16ms/step - loss: 0.9942 - acc: 0.5362 - val_loss: 0.9210 - val_acc: 0.5383\n",
      "Epoch 12/30\n",
      "98/98 [==============================] - 2s 17ms/step - loss: 0.9612 - acc: 0.5496 - val_loss: 1.0290 - val_acc: 0.4962\n",
      "Epoch 13/30\n",
      "98/98 [==============================] - 2s 16ms/step - loss: 0.9191 - acc: 0.5802 - val_loss: 0.8034 - val_acc: 0.5638\n",
      "Epoch 14/30\n",
      "98/98 [==============================] - 2s 16ms/step - loss: 0.8949 - acc: 0.5732 - val_loss: 0.8112 - val_acc: 0.5612\n",
      "Epoch 15/30\n",
      "98/98 [==============================] - 2s 16ms/step - loss: 0.8523 - acc: 0.6064 - val_loss: 0.7517 - val_acc: 0.6186\n",
      "Epoch 16/30\n",
      "98/98 [==============================] - 2s 16ms/step - loss: 0.7725 - acc: 0.6392 - val_loss: 0.8536 - val_acc: 0.5727\n",
      "Epoch 17/30\n",
      "98/98 [==============================] - 2s 16ms/step - loss: 0.7568 - acc: 0.6348 - val_loss: 0.6569 - val_acc: 0.6709\n",
      "Epoch 18/30\n",
      "98/98 [==============================] - 2s 17ms/step - loss: 0.7150 - acc: 0.6581 - val_loss: 0.6842 - val_acc: 0.6199\n",
      "Epoch 19/30\n",
      "98/98 [==============================] - 2s 17ms/step - loss: 0.6778 - acc: 0.6676 - val_loss: 0.6674 - val_acc: 0.6798\n",
      "Epoch 20/30\n",
      "98/98 [==============================] - 2s 16ms/step - loss: 0.6595 - acc: 0.6858 - val_loss: 0.6293 - val_acc: 0.6888\n",
      "Epoch 21/30\n",
      "98/98 [==============================] - 2s 16ms/step - loss: 0.6407 - acc: 0.7065 - val_loss: 0.6507 - val_acc: 0.7079\n",
      "Epoch 22/30\n",
      "98/98 [==============================] - 2s 17ms/step - loss: 0.6153 - acc: 0.7203 - val_loss: 0.5540 - val_acc: 0.7857\n",
      "Epoch 23/30\n",
      "98/98 [==============================] - 2s 16ms/step - loss: 0.5944 - acc: 0.7372 - val_loss: 0.5578 - val_acc: 0.7500\n",
      "Epoch 24/30\n",
      "98/98 [==============================] - 2s 16ms/step - loss: 0.5638 - acc: 0.7502 - val_loss: 0.5438 - val_acc: 0.7372\n",
      "Epoch 25/30\n",
      "98/98 [==============================] - 2s 16ms/step - loss: 0.5456 - acc: 0.7687 - val_loss: 0.4958 - val_acc: 0.7972\n",
      "Epoch 26/30\n",
      "98/98 [==============================] - 2s 16ms/step - loss: 0.5338 - acc: 0.7662 - val_loss: 0.5108 - val_acc: 0.7844\n",
      "Epoch 27/30\n",
      "98/98 [==============================] - 2s 18ms/step - loss: 0.5250 - acc: 0.7732 - val_loss: 0.6221 - val_acc: 0.7245\n",
      "Epoch 28/30\n",
      "98/98 [==============================] - 2s 16ms/step - loss: 0.4978 - acc: 0.8006 - val_loss: 0.6814 - val_acc: 0.7028\n",
      "Epoch 29/30\n",
      "98/98 [==============================] - 2s 17ms/step - loss: 0.4912 - acc: 0.7904 - val_loss: 0.5914 - val_acc: 0.7462\n",
      "Epoch 30/30\n",
      "98/98 [==============================] - 2s 16ms/step - loss: 0.4957 - acc: 0.7933 - val_loss: 0.4254 - val_acc: 0.8291\n"
     ]
    }
   ],
   "source": [
    "# 模型训练\n",
    "tensorboard_callback = tf.keras.callbacks.TensorBoard(log_dir=log_dir, histogram_freq=1)\n",
    "history = lstm_model.fit(train_data1, train_label,epochs=30, batch_size=32, validation_split=0.2,callbacks=[tensorboard_callback])"
   ]
  },
  {
   "cell_type": "code",
   "execution_count": 35,
   "metadata": {},
   "outputs": [],
   "source": [
    "val_data1=val_data.reshape(1681,50,-1)"
   ]
  },
  {
   "cell_type": "code",
   "execution_count": 36,
   "metadata": {},
   "outputs": [
    {
     "name": "stdout",
     "output_type": "stream",
     "text": [
      "*****完成预处理，进行模型评估*****\n",
      "------------------测试集上得分：------------------------\n",
      "*****\n",
      "测试集准确率得分: 0.847\n",
      "*****\n",
      "准确率、召回率、f1-值测试报告如下:\n",
      "               precision    recall  f1-score   support\n",
      "\n",
      "           0       1.00      1.00      1.00       411\n",
      "           1       0.86      0.78      0.82       436\n",
      "           2       0.84      0.66      0.74       413\n",
      "           3       0.73      0.96      0.83       421\n",
      "\n",
      "    accuracy                           0.85      1681\n",
      "   macro avg       0.86      0.85      0.85      1681\n",
      "weighted avg       0.86      0.85      0.84      1681\n",
      "\n"
     ]
    }
   ],
   "source": [
    "from sklearn.metrics import roc_curve,roc_auc_score,classification_report,accuracy_score,log_loss\n",
    "print(\"*****完成预处理，进行模型评估*****\")\n",
    "y_pred = lstm_model.predict(val_data1)\n",
    "y_pred = [np.argmax(x) for x in y_pred]\n",
    "print('------------------测试集上得分：------------------------')\n",
    "print('*' * 5)\n",
    "print('测试集准确率得分:', round(accuracy_score(val_label, y_pred),3))\n",
    "print('*' * 5)\n",
    "print('准确率、召回率、f1-值测试报告如下:\\n', classification_report(val_label, y_pred))"
   ]
  },
  {
   "cell_type": "code",
   "execution_count": 37,
   "metadata": {},
   "outputs": [
    {
     "data": {
      "image/png": "[encoded data removed]",
      "text/plain": [
       "<Figure size 432x288 with 1 Axes>"
      ]
     },
     "metadata": {
      "needs_background": "light"
     },
     "output_type": "display_data"
    }
   ],
   "source": [
    "# 设置Y轴范围\n",
    "plt.ylim(0,1)\n",
    "# 训练准确率曲线\n",
    "plt.xlabel(\"Epoch\")\n",
    "show_data1_lstm = history.history['acc']\n",
    "# 测试准确率曲线\n",
    "show_data2_lstm= history.history['val_acc']\n",
    "x_data = list(range(1,len(show_data1_lstm)+1))\n",
    "ln1, = plt.plot(x_data,show_data1_lstm,color='blue',linewidth=2.0,linestyle='--')\n",
    "ln2, = plt.plot(x_data,show_data2_lstm,color='red',linewidth=3.0,linestyle='-.')\n",
    "plt.legend(handles=[ln1,ln2],labels=['train_acc','val_acc'])\n",
    "plt.show()"
   ]
  },
  {
   "cell_type": "markdown",
   "metadata": {},
   "source": [
    "# BiLSTM"
   ]
  },
  {
   "cell_type": "code",
   "execution_count": 51,
   "metadata": {},
   "outputs": [],
   "source": [
    "from tensorflow.keras.layers import  LSTM,Bidirectional\n",
    "def bilstm_create():\n",
    "    loss = 'sparse_categorical_crossentropy'\n",
    "    metrics = ['acc']\n",
    "    inputs = keras.Input(shape=(50, 40))\n",
    "    x=Bidirectional(LSTM(32))(inputs)\n",
    "    #x = layers.Conv1D(64, 3, activation='relu')(inputs)\n",
    "    #x = layers.MaxPooling1D(16)(x)\n",
    "    # 全局平均池化GAP层\n",
    "    #x = layers.GlobalAveragePooling1D()(x)\n",
    "    # 几个密集分类层\n",
    "    #x = layers.Dense(32, activation='relu')(x)\n",
    "    # 退出层\n",
    "    x = layers.Dropout(0.1)(x)\n",
    "    outputs = layers.Dense(4, activation='softmax')(x)\n",
    "    model = keras.Model(inputs, outputs)\n",
    "    model.compile(optimizer='rmsprop',\n",
    "                  loss=loss,\n",
    "                  metrics=metrics)\n",
    "    print(\"实例化模型成功，参数如下：\")\n",
    "    print(model.summary())\n",
    "    return model"
   ]
  },
  {
   "cell_type": "code",
   "execution_count": 52,
   "metadata": {},
   "outputs": [
    {
     "name": "stdout",
     "output_type": "stream",
     "text": [
      "实例化模型成功，参数如下：\n",
      "Model: \"functional_9\"\n",
      "_________________________________________________________________\n",
      "Layer (type)                 Output Shape              Param #   \n",
      "=================================================================\n",
      "input_5 (InputLayer)         [(None, 50, 40)]          0         \n",
      "_________________________________________________________________\n",
      "bidirectional_1 (Bidirection (None, 64)                18688     \n",
      "_________________________________________________________________\n",
      "dropout_4 (Dropout)          (None, 64)                0         \n",
      "_________________________________________________________________\n",
      "dense_6 (Dense)              (None, 4)                 260       \n",
      "=================================================================\n",
      "Total params: 18,948\n",
      "Trainable params: 18,948\n",
      "Non-trainable params: 0\n",
      "_________________________________________________________________\n",
      "None\n"
     ]
    }
   ],
   "source": [
    "# 实例化模型\n",
    "bilstm_model = bilstm_create()\n",
    "\n",
    "# 设置模型log输出地址\n",
    "log_dir = os.path.join(\"logs/BiLSTM\")\n",
    "if not os.path.exists(log_dir):\n",
    "    os.mkdir(log_dir)"
   ]
  },
  {
   "cell_type": "code",
   "execution_count": 58,
   "metadata": {},
   "outputs": [
    {
     "name": "stdout",
     "output_type": "stream",
     "text": [
      "Epoch 1/30\n",
      " 2/98 [..............................] - ETA: 5s - loss: 1.0364 - acc: 0.4531WARNING:tensorflow:Callbacks method `on_train_batch_end` is slow compared to the batch time (batch time: 0.0150s vs `on_train_batch_end` time: 0.0987s). Check your callbacks.\n",
      "98/98 [==============================] - 2s 17ms/step - loss: 0.8354 - acc: 0.6089 - val_loss: 0.7602 - val_acc: 0.6543\n",
      "Epoch 2/30\n",
      "98/98 [==============================] - 1s 13ms/step - loss: 0.8096 - acc: 0.6306 - val_loss: 0.8187 - val_acc: 0.6059\n",
      "Epoch 3/30\n",
      "98/98 [==============================] - 1s 13ms/step - loss: 0.8113 - acc: 0.6150 - val_loss: 0.7192 - val_acc: 0.6620\n",
      "Epoch 4/30\n",
      "98/98 [==============================] - 1s 13ms/step - loss: 0.7914 - acc: 0.6367 - val_loss: 0.7669 - val_acc: 0.6531\n",
      "Epoch 5/30\n",
      "98/98 [==============================] - 1s 13ms/step - loss: 0.7660 - acc: 0.6453 - val_loss: 0.6790 - val_acc: 0.6633\n",
      "Epoch 6/30\n",
      "98/98 [==============================] - 1s 13ms/step - loss: 0.7557 - acc: 0.6491 - val_loss: 0.6767 - val_acc: 0.6658\n",
      "Epoch 7/30\n",
      "98/98 [==============================] - 1s 13ms/step - loss: 0.7232 - acc: 0.6654 - val_loss: 0.5984 - val_acc: 0.6786\n",
      "Epoch 8/30\n",
      "98/98 [==============================] - 1s 13ms/step - loss: 0.7391 - acc: 0.6549 - val_loss: 0.7248 - val_acc: 0.6441\n",
      "Epoch 9/30\n",
      "98/98 [==============================] - 1s 13ms/step - loss: 0.7163 - acc: 0.6737 - val_loss: 0.7109 - val_acc: 0.6327\n",
      "Epoch 10/30\n",
      "98/98 [==============================] - 1s 13ms/step - loss: 0.7075 - acc: 0.6753 - val_loss: 0.5918 - val_acc: 0.6952\n",
      "Epoch 11/30\n",
      "98/98 [==============================] - 1s 13ms/step - loss: 0.7023 - acc: 0.6833 - val_loss: 0.6738 - val_acc: 0.6786\n",
      "Epoch 12/30\n",
      "98/98 [==============================] - 1s 13ms/step - loss: 0.6920 - acc: 0.6887 - val_loss: 1.1555 - val_acc: 0.5332\n",
      "Epoch 13/30\n",
      "98/98 [==============================] - 1s 13ms/step - loss: 0.6732 - acc: 0.6998 - val_loss: 0.6052 - val_acc: 0.6862\n",
      "Epoch 14/30\n",
      "98/98 [==============================] - 1s 13ms/step - loss: 0.6774 - acc: 0.6890 - val_loss: 0.8322 - val_acc: 0.6913\n",
      "Epoch 15/30\n",
      "98/98 [==============================] - 1s 13ms/step - loss: 0.6460 - acc: 0.7040 - val_loss: 0.5347 - val_acc: 0.7908\n",
      "Epoch 16/30\n",
      "98/98 [==============================] - 1s 13ms/step - loss: 0.6589 - acc: 0.7113 - val_loss: 0.6043 - val_acc: 0.7207\n",
      "Epoch 17/30\n",
      "98/98 [==============================] - 1s 13ms/step - loss: 0.6292 - acc: 0.7155 - val_loss: 0.7992 - val_acc: 0.5842\n",
      "Epoch 18/30\n",
      "98/98 [==============================] - 1s 13ms/step - loss: 0.6387 - acc: 0.7033 - val_loss: 0.5532 - val_acc: 0.7500\n",
      "Epoch 19/30\n",
      "98/98 [==============================] - 1s 13ms/step - loss: 0.6136 - acc: 0.7234 - val_loss: 0.8401 - val_acc: 0.5969\n",
      "Epoch 20/30\n",
      "98/98 [==============================] - 1s 13ms/step - loss: 0.6136 - acc: 0.7161 - val_loss: 0.7364 - val_acc: 0.7232\n",
      "Epoch 21/30\n",
      "98/98 [==============================] - 1s 13ms/step - loss: 0.5942 - acc: 0.7368 - val_loss: 0.5673 - val_acc: 0.7015\n",
      "Epoch 22/30\n",
      "98/98 [==============================] - 1s 13ms/step - loss: 0.5890 - acc: 0.7321 - val_loss: 0.5268 - val_acc: 0.7895\n",
      "Epoch 23/30\n",
      "98/98 [==============================] - 1s 13ms/step - loss: 0.5756 - acc: 0.7448 - val_loss: 0.8031 - val_acc: 0.6263\n",
      "Epoch 24/30\n",
      "98/98 [==============================] - 1s 13ms/step - loss: 0.5756 - acc: 0.7384 - val_loss: 0.4914 - val_acc: 0.7819\n",
      "Epoch 25/30\n",
      "98/98 [==============================] - 1s 13ms/step - loss: 0.5637 - acc: 0.7340 - val_loss: 0.5135 - val_acc: 0.7436\n",
      "Epoch 26/30\n",
      "98/98 [==============================] - 1s 13ms/step - loss: 0.5544 - acc: 0.7509 - val_loss: 0.5093 - val_acc: 0.8010\n",
      "Epoch 27/30\n",
      "98/98 [==============================] - 1s 13ms/step - loss: 0.5162 - acc: 0.7636 - val_loss: 0.5217 - val_acc: 0.7474\n",
      "Epoch 28/30\n",
      "98/98 [==============================] - 1s 13ms/step - loss: 0.5484 - acc: 0.7684 - val_loss: 0.4848 - val_acc: 0.7500\n",
      "Epoch 29/30\n",
      "98/98 [==============================] - ETA: 0s - loss: 0.5012 - acc: 0.762 - 1s 13ms/step - loss: 0.4994 - acc: 0.7636 - val_loss: 1.2332 - val_acc: 0.6505\n",
      "Epoch 30/30\n",
      "98/98 [==============================] - 1s 13ms/step - loss: 0.5397 - acc: 0.7566 - val_loss: 0.5221 - val_acc: 0.7691\n"
     ]
    }
   ],
   "source": [
    "# 模型训练\n",
    "tensorboard_callback = tf.keras.callbacks.TensorBoard(log_dir=log_dir, histogram_freq=1)\n",
    "history = bilstm_model.fit(train_data1, train_label,epochs=30, batch_size=32, validation_split=0.2,callbacks=[tensorboard_callback])"
   ]
  },
  {
   "cell_type": "code",
   "execution_count": 59,
   "metadata": {},
   "outputs": [
    {
     "name": "stdout",
     "output_type": "stream",
     "text": [
      "*****完成预处理，进行模型评估*****\n",
      "------------------测试集上得分：------------------------\n",
      "*****\n",
      "测试集准确率得分: 0.76\n",
      "*****\n",
      "准确率、召回率、f1-值测试报告如下:\n",
      "               precision    recall  f1-score   support\n",
      "\n",
      "           0       1.00      1.00      1.00       411\n",
      "           1       0.65      0.63      0.64       436\n",
      "           2       0.59      0.75      0.66       413\n",
      "           3       0.87      0.67      0.76       421\n",
      "\n",
      "    accuracy                           0.76      1681\n",
      "   macro avg       0.78      0.76      0.76      1681\n",
      "weighted avg       0.78      0.76      0.76      1681\n",
      "\n"
     ]
    }
   ],
   "source": [
    "from sklearn.metrics import roc_curve,roc_auc_score,classification_report,accuracy_score,log_loss\n",
    "print(\"*****完成预处理，进行模型评估*****\")\n",
    "y_pred = bilstm_model.predict(val_data1)\n",
    "y_pred = [np.argmax(x) for x in y_pred]\n",
    "print('------------------测试集上得分：------------------------')\n",
    "print('*' * 5)\n",
    "print('测试集准确率得分:', round(accuracy_score(val_label, y_pred),3))\n",
    "print('*' * 5)\n",
    "print('准确率、召回率、f1-值测试报告如下:\\n', classification_report(val_label, y_pred))"
   ]
  },
  {
   "cell_type": "code",
   "execution_count": 60,
   "metadata": {},
   "outputs": [
    {
     "data": {
      "image/png": "[encoded data removed]",
      "text/plain": [
       "<Figure size 432x288 with 1 Axes>"
      ]
     },
     "metadata": {
      "needs_background": "light"
     },
     "output_type": "display_data"
    }
   ],
   "source": [
    "# 设置Y轴范围\n",
    "plt.ylim(0,1)\n",
    "# 训练准确率曲线\n",
    "plt.xlabel(\"Epoch\")\n",
    "show_data1_bilstm = history.history['acc']\n",
    "# 测试准确率曲线\n",
    "show_data2_bilstm = history.history['val_acc']\n",
    "x_data = list(range(1,len(show_data1_bilstm)+1))\n",
    "ln1, = plt.plot(x_data,show_data1_bilstm,color='blue',linewidth=2.0,linestyle='--')\n",
    "ln2, = plt.plot(x_data,show_data2_bilstm,color='red',linewidth=3.0,linestyle='-.')\n",
    "plt.legend(handles=[ln1,ln2],labels=['train_acc','val_acc'])\n",
    "plt.show()"
   ]
  },
  {
   "cell_type": "markdown",
   "metadata": {},
   "source": [
    "# CNN-BiLSTM"
   ]
  },
  {
   "cell_type": "code",
   "execution_count": 38,
   "metadata": {},
   "outputs": [
    {
     "name": "stdout",
     "output_type": "stream",
     "text": [
      "(3919, 1000, 2)\n"
     ]
    }
   ],
   "source": [
    "print(train_data.shape)"
   ]
  },
  {
   "cell_type": "code",
   "execution_count": 72,
   "metadata": {},
   "outputs": [],
   "source": [
    "from tensorflow.keras.layers import  LSTM,Bidirectional\n",
    "def cnnbilstm_create():\n",
    "    loss = 'sparse_categorical_crossentropy'\n",
    "    metrics = ['acc']\n",
    "    inputs = keras.Input(shape=(1000, 2))\n",
    "    #x = layers.Conv1D(32, 3, activation='relu')(inputs)\n",
    "    x = layers.Conv1D(64, 3, activation='relu')(inputs)\n",
    "    x = layers.MaxPooling1D(16)(x)\n",
    "    x = layers.Conv1D(64, 3, activation='relu')(x)\n",
    "    x=Bidirectional(LSTM(32))(x)\n",
    "    # 添加一个CNN层,return_sequences=True\n",
    "    #x = layers.Conv1D(64, 3, activation='relu')(x)\n",
    "    # 全局平均池化GAP层\n",
    "    #x = layers.GlobalAveragePooling1D()(x)\n",
    "        # 几个密集分类层\n",
    "    #x = layers.Dense(256, activation='relu')(x)\n",
    "    #x = layers.GlobalAveragePooling1D()(x)\n",
    "    # 几个密集分类层\n",
    "    #x = layers.Dense(32, activation='relu')(x)\n",
    "    # 退出层\n",
    "    x = layers.Dropout(0.1)(x)\n",
    "    outputs = layers.Dense(4, activation='softmax')(x)\n",
    "    model = keras.Model(inputs, outputs)\n",
    "    model.compile(optimizer='rmsprop',\n",
    "                  loss=loss,\n",
    "                  metrics=metrics)\n",
    "    print(\"实例化模型成功，参数如下：\")\n",
    "    print(model.summary())\n",
    "    return model"
   ]
  },
  {
   "cell_type": "code",
   "execution_count": 73,
   "metadata": {},
   "outputs": [
    {
     "name": "stdout",
     "output_type": "stream",
     "text": [
      "实例化模型成功，参数如下：\n",
      "Model: \"functional_11\"\n",
      "_________________________________________________________________\n",
      "Layer (type)                 Output Shape              Param #   \n",
      "=================================================================\n",
      "input_6 (InputLayer)         [(None, 1000, 2)]         0         \n",
      "_________________________________________________________________\n",
      "conv1d_18 (Conv1D)           (None, 998, 64)           448       \n",
      "_________________________________________________________________\n",
      "max_pooling1d_3 (MaxPooling1 (None, 62, 64)            0         \n",
      "_________________________________________________________________\n",
      "conv1d_19 (Conv1D)           (None, 60, 64)            12352     \n",
      "_________________________________________________________________\n",
      "bidirectional_2 (Bidirection (None, 64)                24832     \n",
      "_________________________________________________________________\n",
      "dropout_5 (Dropout)          (None, 64)                0         \n",
      "_________________________________________________________________\n",
      "dense_7 (Dense)              (None, 4)                 260       \n",
      "=================================================================\n",
      "Total params: 37,892\n",
      "Trainable params: 37,892\n",
      "Non-trainable params: 0\n",
      "_________________________________________________________________\n",
      "None\n"
     ]
    }
   ],
   "source": [
    "# 实例化模型\n",
    "cnnbilstm_model = cnnbilstm_create()\n",
    "\n",
    "# 设置模型log输出地址\n",
    "log_dir = os.path.join(\"logs/CNN_BiLSTM\")\n",
    "if not os.path.exists(log_dir):\n",
    "    os.mkdir(log_dir)"
   ]
  },
  {
   "cell_type": "code",
   "execution_count": 74,
   "metadata": {},
   "outputs": [
    {
     "name": "stdout",
     "output_type": "stream",
     "text": [
      "Epoch 1/30\n",
      " 2/98 [..............................] - ETA: 10s - loss: 1.4119 - acc: 0.2188WARNING:tensorflow:Callbacks method `on_train_batch_end` is slow compared to the batch time (batch time: 0.0444s vs `on_train_batch_end` time: 0.1598s). Check your callbacks.\n",
      "98/98 [==============================] - 3s 36ms/step - loss: 1.1526 - acc: 0.4491 - val_loss: 0.7779 - val_acc: 0.6186\n",
      "Epoch 2/30\n",
      "98/98 [==============================] - 2s 20ms/step - loss: 0.8301 - acc: 0.6169 - val_loss: 0.7976 - val_acc: 0.5587\n",
      "Epoch 3/30\n",
      "98/98 [==============================] - 2s 19ms/step - loss: 0.7499 - acc: 0.6753 - val_loss: 1.1722 - val_acc: 0.4885\n",
      "Epoch 4/30\n",
      "98/98 [==============================] - 2s 20ms/step - loss: 0.6835 - acc: 0.7069 - val_loss: 1.0283 - val_acc: 0.5918\n",
      "Epoch 5/30\n",
      "98/98 [==============================] - 2s 20ms/step - loss: 0.5905 - acc: 0.7337 - val_loss: 1.1637 - val_acc: 0.5217\n",
      "Epoch 6/30\n",
      "98/98 [==============================] - 2s 20ms/step - loss: 0.5623 - acc: 0.7544 - val_loss: 1.0279 - val_acc: 0.4643\n",
      "Epoch 7/30\n",
      "98/98 [==============================] - 2s 20ms/step - loss: 0.5062 - acc: 0.7818 - val_loss: 0.5444 - val_acc: 0.7092\n",
      "Epoch 8/30\n",
      "98/98 [==============================] - 2s 20ms/step - loss: 0.4933 - acc: 0.7981 - val_loss: 0.4030 - val_acc: 0.7921\n",
      "Epoch 9/30\n",
      "98/98 [==============================] - 2s 20ms/step - loss: 0.4437 - acc: 0.8077 - val_loss: 0.3288 - val_acc: 0.8661\n",
      "Epoch 10/30\n",
      "98/98 [==============================] - 2s 20ms/step - loss: 0.4057 - acc: 0.8217 - val_loss: 0.6160 - val_acc: 0.7194\n",
      "Epoch 11/30\n",
      "98/98 [==============================] - 2s 20ms/step - loss: 0.4069 - acc: 0.8376 - val_loss: 0.2626 - val_acc: 0.9082\n",
      "Epoch 12/30\n",
      "98/98 [==============================] - 2s 20ms/step - loss: 0.3691 - acc: 0.8456 - val_loss: 0.2890 - val_acc: 0.8980\n",
      "Epoch 13/30\n",
      "98/98 [==============================] - 2s 20ms/step - loss: 0.3152 - acc: 0.8813 - val_loss: 0.2483 - val_acc: 0.9171\n",
      "Epoch 14/30\n",
      "98/98 [==============================] - 2s 20ms/step - loss: 0.2484 - acc: 0.9152 - val_loss: 0.2441 - val_acc: 0.8839\n",
      "Epoch 15/30\n",
      "98/98 [==============================] - 2s 21ms/step - loss: 0.2420 - acc: 0.9177 - val_loss: 0.0914 - val_acc: 0.9834\n",
      "Epoch 16/30\n",
      "98/98 [==============================] - 2s 20ms/step - loss: 0.1832 - acc: 0.9458 - val_loss: 0.1054 - val_acc: 0.9707\n",
      "Epoch 17/30\n",
      "98/98 [==============================] - 2s 20ms/step - loss: 0.1784 - acc: 0.9375 - val_loss: 0.6973 - val_acc: 0.8061\n",
      "Epoch 18/30\n",
      "98/98 [==============================] - 2s 20ms/step - loss: 0.1944 - acc: 0.9429 - val_loss: 0.0408 - val_acc: 0.9898\n",
      "Epoch 19/30\n",
      "98/98 [==============================] - 2s 19ms/step - loss: 0.1822 - acc: 0.9483 - val_loss: 0.0364 - val_acc: 0.9949\n",
      "Epoch 20/30\n",
      "98/98 [==============================] - 2s 19ms/step - loss: 0.1536 - acc: 0.9563 - val_loss: 0.3147 - val_acc: 0.8992\n",
      "Epoch 21/30\n",
      "98/98 [==============================] - 2s 20ms/step - loss: 0.1816 - acc: 0.9483 - val_loss: 0.0678 - val_acc: 0.9821\n",
      "Epoch 22/30\n",
      "98/98 [==============================] - 2s 20ms/step - loss: 0.1305 - acc: 0.9617 - val_loss: 0.0436 - val_acc: 0.9923\n",
      "Epoch 23/30\n",
      "98/98 [==============================] - 2s 19ms/step - loss: 0.1319 - acc: 0.9640 - val_loss: 0.2601 - val_acc: 0.9158\n",
      "Epoch 24/30\n",
      "98/98 [==============================] - 2s 20ms/step - loss: 0.1577 - acc: 0.9537 - val_loss: 0.0990 - val_acc: 0.9668\n",
      "Epoch 25/30\n",
      "98/98 [==============================] - 2s 20ms/step - loss: 0.1213 - acc: 0.9691 - val_loss: 0.0453 - val_acc: 0.9872\n",
      "Epoch 26/30\n",
      "98/98 [==============================] - 2s 20ms/step - loss: 0.1030 - acc: 0.9687 - val_loss: 0.0485 - val_acc: 0.9872\n",
      "Epoch 27/30\n",
      "98/98 [==============================] - 2s 20ms/step - loss: 0.0951 - acc: 0.9738 - val_loss: 0.0165 - val_acc: 0.9962\n",
      "Epoch 28/30\n",
      "98/98 [==============================] - 2s 19ms/step - loss: 0.0978 - acc: 0.9694 - val_loss: 0.0202 - val_acc: 0.9949\n",
      "Epoch 29/30\n",
      "98/98 [==============================] - 2s 20ms/step - loss: 0.0855 - acc: 0.9722 - val_loss: 0.0546 - val_acc: 0.9809\n",
      "Epoch 30/30\n",
      "98/98 [==============================] - 2s 20ms/step - loss: 0.0838 - acc: 0.9777 - val_loss: 0.0134 - val_acc: 0.9974\n"
     ]
    }
   ],
   "source": [
    "# 模型训练\n",
    "tensorboard_callback = tf.keras.callbacks.TensorBoard(log_dir=log_dir, histogram_freq=1)\n",
    "history = cnnbilstm_model.fit(train_data, train_label,epochs=30, batch_size=32, validation_split=0.2,callbacks=[tensorboard_callback])"
   ]
  },
  {
   "cell_type": "code",
   "execution_count": 75,
   "metadata": {},
   "outputs": [
    {
     "name": "stdout",
     "output_type": "stream",
     "text": [
      "*****完成预处理，进行模型评估*****\n",
      "------------------测试集上得分：------------------------\n",
      "*****\n",
      "测试集准确率得分: 0.998\n",
      "*****\n",
      "准确率、召回率、f1-值测试报告如下:\n",
      "               precision    recall  f1-score   support\n",
      "\n",
      "           0       1.00      1.00      1.00       411\n",
      "           1       0.99      1.00      1.00       436\n",
      "           2       1.00      0.99      1.00       413\n",
      "           3       1.00      1.00      1.00       421\n",
      "\n",
      "    accuracy                           1.00      1681\n",
      "   macro avg       1.00      1.00      1.00      1681\n",
      "weighted avg       1.00      1.00      1.00      1681\n",
      "\n"
     ]
    }
   ],
   "source": [
    "from sklearn.metrics import roc_curve,roc_auc_score,classification_report,accuracy_score,log_loss\n",
    "print(\"*****完成预处理，进行模型评估*****\")\n",
    "y_pred = cnnbilstm_model.predict(val_data)\n",
    "y_pred = [np.argmax(x) for x in y_pred]\n",
    "print('------------------测试集上得分：------------------------')\n",
    "print('*' * 5)\n",
    "print('测试集准确率得分:', round(accuracy_score(val_label, y_pred),3))\n",
    "print('*' * 5)\n",
    "print('准确率、召回率、f1-值测试报告如下:\\n', classification_report(val_label, y_pred))"
   ]
  },
  {
   "cell_type": "code",
   "execution_count": 77,
   "metadata": {},
   "outputs": [
    {
     "data": {
      "image/png": "[encoded data removed]",
      "text/plain": [
       "<Figure size 432x288 with 1 Axes>"
      ]
     },
     "metadata": {
      "needs_background": "light"
     },
     "output_type": "display_data"
    }
   ],
   "source": [
    "# 设置Y轴范围\n",
    "plt.ylim(0.3,1)\n",
    "# 训练准确率曲线\n",
    "show_data1_cnnbilstm= history.history['acc']\n",
    "# 测试准确率曲线\n",
    "plt.ylabel(\"Accuracy\")\n",
    "plt.xlabel(\"Epoch\")\n",
    "show_data2_cnnbilstm= history.history['val_acc']\n",
    "x_data = list(range(1,len(show_data1_cnnbilstm)+1))\n",
    "ln1, = plt.plot(x_data,show_data1_cnnbilstm,color='blue',linewidth=2.0,linestyle='--')\n",
    "ln2, = plt.plot(x_data,show_data2_cnnbilstm,color='red',linewidth=3.0,linestyle='-.')\n",
    "plt.legend(handles=[ln1,ln2],labels=['train','val'])\n",
    "plt.show()"
   ]
  },
  {
   "cell_type": "markdown",
   "metadata": {},
   "source": [
    "# 模型对比 "
   ]
  },
  {
   "cell_type": "code",
   "execution_count": 78,
   "metadata": {},
   "outputs": [
    {
     "data": {
      "image/png": "[encoded data removed]",
      "text/plain": [
       "<Figure size 432x288 with 1 Axes>"
      ]
     },
     "metadata": {
      "needs_background": "light"
     },
     "output_type": "display_data"
    }
   ],
   "source": [
    "# 设置Y轴范围\n",
    "plt.ylim(0,1.05)\n",
    "# 测试准确率曲线\n",
    "plt.xlabel(\"Epoch\")\n",
    "plt.ylabel(\"Accuracy\")\n",
    "x_data = list(range(1,len(show_data1_cnnbilstm)+1))\n",
    "ln1, = plt.plot(x_data,show_data2_cnnbilstm,color='blue',linewidth=2.0,linestyle='--')\n",
    "ln2, = plt.plot(x_data,show_data2_ft,color='skyblue',linewidth=2.0,linestyle='-')\n",
    "ln3, = plt.plot(x_data,show_data2_cnn,color='red',linewidth=2.0,linestyle='-.')\n",
    "ln4, = plt.plot(x_data,show_data2_rescnn,color='gold',linewidth=2.0,linestyle=':' )\n",
    "ln5, = plt.plot(x_data,show_data2_lstm,color='lightgreen',linewidth=2.0,linestyle='--')\n",
    "ln6, = plt.plot(x_data,show_data2_bilstm,color='cyan',linewidth=2.0,linestyle='-')\n",
    "plt.legend(handles=[ln1,ln2,ln3,ln4,ln5,ln6],labels=['CNN_BiLSTM','Random Forest','CNN','ResCNN','LSTM','BiLSTM'])\n",
    "plt.show()"
   ]
  },
  {
   "cell_type": "code",
   "execution_count": null,
   "metadata": {},
   "outputs": [],
   "source": []
  }
 ],
 "metadata": {
  "kernelspec": {
   "display_name": "pytorch",
   "language": "python",
   "name": "pytorch"
  },
  "language_info": {
   "codemirror_mode": {
    "name": "ipython",
    "version": 3
   },
   "file_extension": ".py",
   "mimetype": "text/x-python",
   "name": "python",
   "nbconvert_exporter": "python",
   "pygments_lexer": "ipython3",
   "version": "3.6.13"
  },
  "toc": {
   "base_numbering": 1,
   "nav_menu": {},
   "number_sections": true,
   "sideBar": true,
   "skip_h1_title": false,
   "title_cell": "Table of Contents",
   "title_sidebar": "Contents",
   "toc_cell": false,
   "toc_position": {
    "height": "calc(100% - 180px)",
    "left": "10px",
    "top": "150px",
    "width": "209px"
   },
   "toc_section_display": true,
   "toc_window_display": true
  }
 },
 "nbformat": 4,
 "nbformat_minor": 2
}
