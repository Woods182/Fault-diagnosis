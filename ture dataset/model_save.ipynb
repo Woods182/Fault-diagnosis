{
 "cells": [
  {
   "cell_type": "code",
   "execution_count": 1,
   "id": "57ddea4c",
   "metadata": {},
   "outputs": [
    {
     "name": "stdout",
     "output_type": "stream",
     "text": [
      "WARNING:tensorflow:From <ipython-input-1-763a6c7e3bd0>:10: is_gpu_available (from tensorflow.python.framework.test_util) is deprecated and will be removed in a future version.\n",
      "Instructions for updating:\n",
      "Use `tf.config.list_physical_devices('GPU')` instead.\n",
      "True\n"
     ]
    }
   ],
   "source": [
    "import os\n",
    "import matplotlib.pyplot as plt\n",
    "from collections import Counter\n",
    "import numpy as np\n",
    "import tensorflow as tf\n",
    "from tensorflow import keras\n",
    "from sklearn.preprocessing import MinMaxScaler\n",
    "from tensorflow.keras import layers, models\n",
    "# 查看GPU是否可用\n",
    "print(tf.test.is_gpu_available())"
   ]
  },
  {
   "cell_type": "code",
   "execution_count": 8,
   "id": "4e2c8874",
   "metadata": {},
   "outputs": [],
   "source": [
    "from sklearn.preprocessing import scale\n",
    "def load_data(data_name,label_name):\n",
    "    path_x=os.path.join('train_data',data_name)\n",
    "    path_y=os.path.join('train_data',label_name)\n",
    "    # 读取数据\n",
    "    x = np.load(path_x)\n",
    "#     scaler = MinMaxScaler()\n",
    "#      x = scaler.fit_transform(x)\n",
    "    x=scale(x)\n",
    "    y = np.load(path_y)\n",
    "    num = len(Counter(y))\n",
    "    print(\"类别数量为：\", num)\n",
    "    return x, y, num"
   ]
  },
  {
   "cell_type": "code",
   "execution_count": 9,
   "id": "a75074f7",
   "metadata": {},
   "outputs": [],
   "source": [
    "def create_train_data(x, y, ratio=0.7):\n",
    "    \"\"\"\n",
    "    x:data\n",
    "    y:labal\n",
    "    ratio:生成训练集比率\n",
    "    \"\"\"\n",
    "    # 打乱顺序\n",
    "    # 读取data矩阵的第一维数（数据个数）\n",
    "    num_example = x.shape[0]\n",
    "    # 产生一个num_example范围，步长为1的序列\n",
    "    arr = np.arange(num_example)\n",
    "    # 调用函数，打乱顺序\n",
    "    np.random.seed(99)\n",
    "    np.random.shuffle(arr)\n",
    "    # 按照打乱的顺序，重新排序\n",
    "    arr_data = x[arr]\n",
    "    arr_label = y[arr]\n",
    "    # 将数据集分为训练集80%、测试集20%\n",
    "    s = int(num_example * ratio)\n",
    "    x_train = arr_data[:s]\n",
    "    y_train = arr_label[:s]\n",
    "    x_val = arr_data[s:]\n",
    "    y_val = arr_label[s:]\n",
    "    print(\"训练集shape\", x_train.shape)\n",
    "    print(\"训练集类别：\", Counter(y_train))\n",
    "    print(\"测试集shape\", x_val.shape)\n",
    "    print(\"测试集类别：\", Counter(y_val))\n",
    "    return x_train, y_train, x_val, y_val"
   ]
  },
  {
   "cell_type": "code",
   "execution_count": 10,
   "id": "8a6b4668",
   "metadata": {},
   "outputs": [
    {
     "name": "stdout",
     "output_type": "stream",
     "text": [
      "类别数量为： 4\n",
      "训练集shape (3753, 2014)\n",
      "训练集类别： Counter({1: 995, 0: 950, 2: 941, 3: 867})\n",
      "测试集shape (939, 2014)\n",
      "测试集类别： Counter({1: 241, 2: 239, 0: 230, 3: 229})\n",
      "**********\n",
      "训练集数量： 3753\n",
      "测试集数量： 939\n"
     ]
    }
   ],
   "source": [
    "# 读取数据\n",
    "data, label, label_count= load_data('train_data_wavelet.npy','label_wavelet.npy')\n",
    "# 生成训练集测试集,70%用作训练，30%用作测试\n",
    "train_data, train_label, val_data, val_label= create_train_data(data, label, 0.8)\n",
    "print(\"*\"*10)\n",
    "print(\"训练集数量：\",len(train_label))\n",
    "print(\"测试集数量：\",len(val_label))"
   ]
  },
  {
   "cell_type": "code",
   "execution_count": 27,
   "id": "cd124451",
   "metadata": {},
   "outputs": [],
   "source": [
    "#保存测试集\n",
    "np.save(file=\"data/val_data.npy\", arr=val_data)\n",
    "np.save(file=\"data/val_label.npy\", arr=val_label)\n"
   ]
  },
  {
   "cell_type": "code",
   "execution_count": 11,
   "id": "4a00ce14",
   "metadata": {},
   "outputs": [],
   "source": [
    "from tensorflow.keras.layers import  LSTM,Bidirectional"
   ]
  },
  {
   "cell_type": "markdown",
   "id": "a7c02a95",
   "metadata": {},
   "source": [
    "#  结构"
   ]
  },
  {
   "cell_type": "code",
   "execution_count": 14,
   "id": "a2de6120",
   "metadata": {},
   "outputs": [],
   "source": [
    "def cnnbilstm_optimize2():\n",
    "    loss = 'sparse_categorical_crossentropy'\n",
    "    metrics = ['acc']\n",
    "    inputs = keras.Input(shape=(2014,1))\n",
    "    #CNN+POOLING\n",
    "    x = layers.Conv1D(128, 3, activation='relu')(inputs)\n",
    "    x = layers.Conv1D(128, 3, activation='relu')(x)\n",
    "    x = layers.MaxPooling1D(16)(x)\n",
    "    x = layers.Conv1D(64, 3, activation='relu')(x)\n",
    "    x = layers.MaxPooling1D(16)(x)\n",
    "    #BiLSTM\n",
    "    #x=Bidirectional(LSTM(128,return_sequences=True))(x)\n",
    "    x=Bidirectional(LSTM(128))(x)\n",
    "    outputs = layers.Dense(4, activation='softmax')(x)\n",
    "    model = keras.Model(inputs, outputs)\n",
    "    model.compile(optimizer='adam',\n",
    "                  loss=loss,\n",
    "                  metrics=metrics)\n",
    "    print(\"实例化模型成功，参数如下：\")\n",
    "    print(model.summary())\n",
    "    return model"
   ]
  },
  {
   "cell_type": "code",
   "execution_count": 15,
   "id": "82b8d5a0",
   "metadata": {},
   "outputs": [
    {
     "name": "stdout",
     "output_type": "stream",
     "text": [
      "实例化模型成功，参数如下：\n",
      "Model: \"functional_3\"\n",
      "_________________________________________________________________\n",
      "Layer (type)                 Output Shape              Param #   \n",
      "=================================================================\n",
      "input_2 (InputLayer)         [(None, 2014, 1)]         0         \n",
      "_________________________________________________________________\n",
      "conv1d_2 (Conv1D)            (None, 2012, 128)         512       \n",
      "_________________________________________________________________\n",
      "conv1d_3 (Conv1D)            (None, 2010, 128)         49280     \n",
      "_________________________________________________________________\n",
      "max_pooling1d_1 (MaxPooling1 (None, 125, 128)          0         \n",
      "_________________________________________________________________\n",
      "conv1d_4 (Conv1D)            (None, 123, 64)           24640     \n",
      "_________________________________________________________________\n",
      "max_pooling1d_2 (MaxPooling1 (None, 7, 64)             0         \n",
      "_________________________________________________________________\n",
      "bidirectional_1 (Bidirection (None, 256)               197632    \n",
      "_________________________________________________________________\n",
      "dense_1 (Dense)              (None, 4)                 1028      \n",
      "=================================================================\n",
      "Total params: 273,092\n",
      "Trainable params: 273,092\n",
      "Non-trainable params: 0\n",
      "_________________________________________________________________\n",
      "None\n"
     ]
    }
   ],
   "source": [
    "# 实例化模型\n",
    "cnnbilstm_model1= cnnbilstm_optimize2()\n",
    "\n",
    "# 设置模型log输出地址\n",
    "log_dir = os.path.join(\"logs/optimizer2\")\n",
    "if not os.path.exists(log_dir):\n",
    "    os.mkdir(log_dir)"
   ]
  },
  {
   "cell_type": "code",
   "execution_count": 16,
   "id": "36f1f9ad",
   "metadata": {},
   "outputs": [
    {
     "name": "stdout",
     "output_type": "stream",
     "text": [
      "Epoch 1/40\n",
      " 1/94 [..............................] - ETA: 0s - loss: 1.3860 - acc: 0.2188WARNING:tensorflow:From C:\\Users\\wuson\\AppData\\Roaming\\Python\\Python36\\site-packages\\tensorflow\\python\\ops\\summary_ops_v2.py:1277: stop (from tensorflow.python.eager.profiler) is deprecated and will be removed after 2020-07-01.\n",
      "Instructions for updating:\n",
      "use `tf.profiler.experimental.stop` instead.\n",
      " 2/94 [..............................] - ETA: 5s - loss: 1.3543 - acc: 0.2344WARNING:tensorflow:Callbacks method `on_train_batch_end` is slow compared to the batch time (batch time: 0.0319s vs `on_train_batch_end` time: 0.0859s). Check your callbacks.\n",
      "94/94 [==============================] - 8s 85ms/step - loss: 0.5948 - acc: 0.6542 - val_loss: 0.3448 - val_acc: 0.7963\n",
      "Epoch 2/40\n",
      "94/94 [==============================] - 7s 72ms/step - loss: 0.3159 - acc: 0.8231 - val_loss: 0.2992 - val_acc: 0.8216\n",
      "Epoch 3/40\n",
      "94/94 [==============================] - 7s 72ms/step - loss: 0.2875 - acc: 0.8434 - val_loss: 0.2780 - val_acc: 0.8535\n",
      "Epoch 4/40\n",
      "94/94 [==============================] - 7s 72ms/step - loss: 0.2737 - acc: 0.8508 - val_loss: 0.2886 - val_acc: 0.8349\n",
      "Epoch 5/40\n",
      "94/94 [==============================] - 7s 73ms/step - loss: 0.2899 - acc: 0.8548 - val_loss: 0.2805 - val_acc: 0.8402\n",
      "Epoch 6/40\n",
      "94/94 [==============================] - 7s 72ms/step - loss: 0.2681 - acc: 0.8581 - val_loss: 0.3083 - val_acc: 0.8322\n",
      "Epoch 7/40\n",
      "94/94 [==============================] - 7s 73ms/step - loss: 0.2628 - acc: 0.8601 - val_loss: 0.2615 - val_acc: 0.8642\n",
      "Epoch 8/40\n",
      "94/94 [==============================] - 7s 73ms/step - loss: 0.2519 - acc: 0.8688 - val_loss: 0.2106 - val_acc: 0.9161\n",
      "Epoch 9/40\n",
      "94/94 [==============================] - 7s 72ms/step - loss: 0.1903 - acc: 0.9084 - val_loss: 0.1160 - val_acc: 0.9574\n",
      "Epoch 10/40\n",
      "94/94 [==============================] - 7s 72ms/step - loss: 0.1358 - acc: 0.9460 - val_loss: 0.0835 - val_acc: 0.9667- loss: 0.1367 - acc: 0.\n",
      "Epoch 11/40\n",
      "94/94 [==============================] - 7s 73ms/step - loss: 0.0930 - acc: 0.9630 - val_loss: 0.0700 - val_acc: 0.9734\n",
      "Epoch 12/40\n",
      "94/94 [==============================] - 7s 72ms/step - loss: 0.0746 - acc: 0.9707 - val_loss: 0.0550 - val_acc: 0.9787\n",
      "Epoch 13/40\n",
      "94/94 [==============================] - 7s 72ms/step - loss: 0.0679 - acc: 0.9747 - val_loss: 0.0505 - val_acc: 0.9760: 1s - loss\n",
      "Epoch 14/40\n",
      "94/94 [==============================] - 7s 72ms/step - loss: 0.0653 - acc: 0.9714 - val_loss: 0.0466 - val_acc: 0.9854\n",
      "Epoch 15/40\n",
      "94/94 [==============================] - 7s 73ms/step - loss: 0.0939 - acc: 0.9627 - val_loss: 0.0728 - val_acc: 0.9680\n",
      "Epoch 16/40\n",
      "94/94 [==============================] - 7s 74ms/step - loss: 0.0535 - acc: 0.9777 - val_loss: 0.0471 - val_acc: 0.9787\n",
      "Epoch 17/40\n",
      "94/94 [==============================] - 7s 75ms/step - loss: 0.0414 - acc: 0.9843 - val_loss: 0.0368 - val_acc: 0.9867 1s - loss: 0.0411 - acc:  - ETA: 0s - loss: 0.041\n",
      "Epoch 18/40\n",
      "94/94 [==============================] - 7s 74ms/step - loss: 0.0522 - acc: 0.9807 - val_loss: 0.2340 - val_acc: 0.8961\n",
      "Epoch 19/40\n",
      "94/94 [==============================] - 7s 74ms/step - loss: 0.0946 - acc: 0.9627 - val_loss: 0.0591 - val_acc: 0.9760\n",
      "Epoch 20/40\n",
      "94/94 [==============================] - 7s 75ms/step - loss: 0.0291 - acc: 0.9903 - val_loss: 0.0488 - val_acc: 0.9787 0s - loss: 0.0296\n",
      "Epoch 21/40\n",
      "94/94 [==============================] - 7s 75ms/step - loss: 0.0358 - acc: 0.9860 - val_loss: 0.1794 - val_acc: 0.9454\n",
      "Epoch 22/40\n",
      "94/94 [==============================] - 7s 75ms/step - loss: 0.0490 - acc: 0.9807 - val_loss: 0.0369 - val_acc: 0.9854\n",
      "Epoch 23/40\n",
      "94/94 [==============================] - 7s 75ms/step - loss: 0.0263 - acc: 0.9910 - val_loss: 0.0537 - val_acc: 0.9787\n",
      "Epoch 24/40\n",
      "94/94 [==============================] - 7s 74ms/step - loss: 0.0130 - acc: 0.9943 - val_loss: 0.0337 - val_acc: 0.9907\n",
      "Epoch 25/40\n",
      "94/94 [==============================] - 7s 75ms/step - loss: 0.0480 - acc: 0.9840 - val_loss: 0.0730 - val_acc: 0.9654\n",
      "Epoch 26/40\n",
      "94/94 [==============================] - 7s 76ms/step - loss: 0.0091 - acc: 0.9970 - val_loss: 0.0256 - val_acc: 0.9907\n",
      "Epoch 27/40\n",
      "94/94 [==============================] - 7s 76ms/step - loss: 0.0106 - acc: 0.9953 - val_loss: 0.0331 - val_acc: 0.9854\n",
      "Epoch 28/40\n",
      "94/94 [==============================] - 7s 75ms/step - loss: 0.0148 - acc: 0.9950 - val_loss: 0.0410 - val_acc: 0.9854\n",
      "Epoch 29/40\n",
      "94/94 [==============================] - 7s 75ms/step - loss: 0.0201 - acc: 0.9937 - val_loss: 0.0374 - val_acc: 0.9880\n",
      "Epoch 30/40\n",
      "94/94 [==============================] - 7s 75ms/step - loss: 0.0209 - acc: 0.9920 - val_loss: 0.1428 - val_acc: 0.9521\n",
      "Epoch 31/40\n",
      "94/94 [==============================] - 7s 76ms/step - loss: 0.0150 - acc: 0.9937 - val_loss: 0.0340 - val_acc: 0.9827\n",
      "Epoch 32/40\n",
      "94/94 [==============================] - 7s 76ms/step - loss: 0.0272 - acc: 0.9910 - val_loss: 0.0469 - val_acc: 0.9787\n",
      "Epoch 33/40\n",
      "94/94 [==============================] - 7s 75ms/step - loss: 0.0083 - acc: 0.9977 - val_loss: 0.0204 - val_acc: 0.9933\n",
      "Epoch 34/40\n",
      "94/94 [==============================] - 7s 75ms/step - loss: 0.0025 - acc: 0.9993 - val_loss: 0.0195 - val_acc: 0.9907\n",
      "Epoch 35/40\n",
      "94/94 [==============================] - 7s 75ms/step - loss: 6.4800e-04 - acc: 1.0000 - val_loss: 0.0160 - val_acc: 0.9947\n",
      "Epoch 36/40\n",
      "94/94 [==============================] - 7s 76ms/step - loss: 3.7671e-04 - acc: 1.0000 - val_loss: 0.0172 - val_acc: 0.9933\n",
      "Epoch 37/40\n",
      "94/94 [==============================] - 7s 76ms/step - loss: 2.5941e-04 - acc: 1.0000 - val_loss: 0.0180 - val_acc: 0.9920\n",
      "Epoch 38/40\n",
      "94/94 [==============================] - 7s 76ms/step - loss: 1.9186e-04 - acc: 1.0000 - val_loss: 0.0178 - val_acc: 0.9933\n",
      "Epoch 39/40\n",
      "94/94 [==============================] - 7s 76ms/step - loss: 1.5655e-04 - acc: 1.0000 - val_loss: 0.0185 - val_acc: 0.9920\n",
      "Epoch 40/40\n",
      "94/94 [==============================] - 7s 75ms/step - loss: 1.2611e-04 - acc: 1.0000 - val_loss: 0.0182 - val_acc: 0.9933\n"
     ]
    }
   ],
   "source": [
    "# 模型训练\n",
    "tensorboard_callback = tf.keras.callbacks.TensorBoard(log_dir=log_dir, histogram_freq=1)\n",
    "history2 = cnnbilstm_model1.fit(train_data, train_label,epochs=40, batch_size=32, validation_split=0.2,callbacks=[tensorboard_callback])"
   ]
  },
  {
   "cell_type": "code",
   "execution_count": 24,
   "id": "9dd7a0e8",
   "metadata": {},
   "outputs": [
    {
     "name": "stdout",
     "output_type": "stream",
     "text": [
      "INFO:tensorflow:Assets written to: tmp/cnnbilstm\\assets\n"
     ]
    }
   ],
   "source": [
    "keras_model_path = \"tmp/cnnbilstm\"\n",
    "cnnbilstm_model1.save(keras_model_path)"
   ]
  },
  {
   "cell_type": "code",
   "execution_count": 17,
   "id": "dc85c927",
   "metadata": {},
   "outputs": [
    {
     "name": "stdout",
     "output_type": "stream",
     "text": [
      "*****完成预处理，进行模型评估*****\n",
      "------------------测试集上得分：------------------------\n",
      "*****\n",
      "测试集准确率得分: 0.99\n",
      "*****\n",
      "准确率、召回率、f1-值测试报告如下:\n",
      "               precision    recall  f1-score   support\n",
      "\n",
      "           0       1.00      1.00      1.00       230\n",
      "           1       0.98      0.99      0.98       241\n",
      "           2       0.99      0.97      0.98       239\n",
      "           3       1.00      1.00      1.00       229\n",
      "\n",
      "    accuracy                           0.99       939\n",
      "   macro avg       0.99      0.99      0.99       939\n",
      "weighted avg       0.99      0.99      0.99       939\n",
      "\n"
     ]
    }
   ],
   "source": [
    "from sklearn.metrics import roc_curve,roc_auc_score,classification_report,accuracy_score,log_loss\n",
    "print(\"*****完成预处理，进行模型评估*****\")\n",
    "y_pred = cnnbilstm_model1.predict(val_data)\n",
    "y_pred = [np.argmax(x) for x in y_pred]\n",
    "print('------------------测试集上得分：------------------------')\n",
    "print('*' * 5)\n",
    "print('测试集准确率得分:', round(accuracy_score(val_label, y_pred),3))\n",
    "print('*' * 5)\n",
    "print('准确率、召回率、f1-值测试报告如下:\\n', classification_report(val_label, y_pred))"
   ]
  },
  {
   "cell_type": "code",
   "execution_count": 18,
   "id": "2564963a",
   "metadata": {},
   "outputs": [
    {
     "data": {
      "image/png": "[encoded data removed]",
      "text/plain": [
       "<Figure size 432x288 with 1 Axes>"
      ]
     },
     "metadata": {
      "needs_background": "light"
     },
     "output_type": "display_data"
    }
   ],
   "source": [
    "#本网络的acc\n",
    "plt.ylim(0.3,1.2)\n",
    "# 训练准确率曲线\n",
    "show_data1_cnnbilstm= history2.history['acc']\n",
    "# 测试准确率曲线\n",
    "plt.ylabel(\"Accuracy\")\n",
    "plt.xlabel(\"Epoch\")\n",
    "show_data2_cnnbilstm= history2.history['val_acc']\n",
    "x_data = list(range(1,len(show_data1_cnnbilstm)+1))\n",
    "ln1, = plt.plot(x_data,show_data1_cnnbilstm,color='blue',linewidth=2.0,linestyle='--')\n",
    "ln2, = plt.plot(x_data,show_data2_cnnbilstm,color='red',linewidth=3.0,linestyle='solid')\n",
    "plt.legend(handles=[ln1,ln2],labels=['train','val'])\n",
    "plt.show()"
   ]
  },
  {
   "cell_type": "code",
   "execution_count": 19,
   "id": "95d95963",
   "metadata": {},
   "outputs": [
    {
     "data": {
      "image/png": "[encoded data removed]",
      "text/plain": [
       "<Figure size 432x288 with 1 Axes>"
      ]
     },
     "metadata": {
      "needs_background": "light"
     },
     "output_type": "display_data"
    }
   ],
   "source": [
    "#本网络的loss\n",
    "# 设置Y轴范围\n",
    "#plt.ylim(0.3,1)\n",
    "# 训练准确率曲线\n",
    "show_data1_cnnbilstm= history2.history['loss']\n",
    "# 测试准确率曲线\n",
    "plt.ylabel(\"Loss\")\n",
    "plt.xlabel(\"Epoch\")\n",
    "show_data2_cnnbilstm= history2.history['val_loss']\n",
    "x_data = list(range(1,len(show_data1_cnnbilstm)+1))\n",
    "ln1, = plt.plot(x_data,show_data1_cnnbilstm,color='blue',linewidth=2.0,linestyle='--')\n",
    "ln2, = plt.plot(x_data,show_data2_cnnbilstm,color='red',linewidth=3.0,linestyle='solid')\n",
    "plt.legend(handles=[ln1,ln2],labels=['train','val'])\n",
    "plt.show()"
   ]
  },
  {
   "cell_type": "markdown",
   "id": "b1e32557",
   "metadata": {},
   "source": [
    "## 对比测试集"
   ]
  },
  {
   "cell_type": "code",
   "execution_count": 23,
   "id": "51a7a426",
   "metadata": {},
   "outputs": [],
   "source": [
    "plt.rcParams['font.sans-serif']=['SimHei']\n",
    "plt.rcParams['axes.unicode_minus'] = False"
   ]
  },
  {
   "cell_type": "code",
   "execution_count": 24,
   "id": "291ab16a",
   "metadata": {},
   "outputs": [
    {
     "data": {
      "image/png": "[encoded data removed]",
      "text/plain": [
       "<Figure size 432x288 with 1 Axes>"
      ]
     },
     "metadata": {
      "needs_background": "light"
     },
     "output_type": "display_data"
    }
   ],
   "source": [
    "#acc\n",
    "plt.ylim(0.3,1.2)\n",
    "# 训练准确率曲线\n",
    "show_data1_cnnbilstm= history.history['val_acc']\n",
    "# 测试准确率曲线\n",
    "plt.ylabel(\"Accuracy\")\n",
    "plt.xlabel(\"Epoch\")\n",
    "show_data2_cnnbilstm= history2.history['val_acc']\n",
    "x_data = list(range(1,len(show_data1_cnnbilstm)+1))\n",
    "ln1, = plt.plot(x_data,show_data1_cnnbilstm,color='blue',linewidth=2.0,linestyle='--')\n",
    "ln2, = plt.plot(x_data,show_data2_cnnbilstm,color='red',linewidth=3.0,linestyle='solid')\n",
    "plt.legend(handles=[ln1,ln2],labels=['单卷积池化','两层卷积池化'])\n",
    "plt.show()"
   ]
  },
  {
   "cell_type": "code",
   "execution_count": 25,
   "id": "5decc78f",
   "metadata": {},
   "outputs": [
    {
     "data": {
      "image/png": "[encoded data removed]",
      "text/plain": [
       "<Figure size 432x288 with 1 Axes>"
      ]
     },
     "metadata": {
      "needs_background": "light"
     },
     "output_type": "display_data"
    }
   ],
   "source": [
    "#loss\n",
    "# 设置Y轴范围\n",
    "#plt.ylim(0.3,1)\n",
    "# 训练准确率曲线\n",
    "show_data1_cnnbilstm= history.history['val_loss']\n",
    "# 测试准确率曲线\n",
    "plt.ylabel(\"Loss\")\n",
    "plt.xlabel(\"Epoch\")\n",
    "show_data2_cnnbilstm= history2.history['val_loss']\n",
    "x_data = list(range(1,len(show_data1_cnnbilstm)+1))\n",
    "ln1, = plt.plot(x_data,show_data1_cnnbilstm,color='blue',linewidth=2.0,linestyle='--')\n",
    "ln2, = plt.plot(x_data,show_data2_cnnbilstm,color='red',linewidth=3.0,linestyle='solid')\n",
    "plt.legend(handles=[ln1,ln2],labels=['单卷积池化','两层卷积池化'])\n",
    "plt.show()"
   ]
  },
  {
   "cell_type": "markdown",
   "id": "d88018d3",
   "metadata": {},
   "source": [
    "## dropout层"
   ]
  },
  {
   "cell_type": "code",
   "execution_count": 26,
   "id": "0a1e78c8",
   "metadata": {},
   "outputs": [],
   "source": [
    "def cnnbilstm_optimize3():\n",
    "    loss = 'sparse_categorical_crossentropy'\n",
    "    metrics = ['acc']\n",
    "    inputs = keras.Input(shape=(2014,1))\n",
    "    #CNN+POOLING\n",
    "    x = layers.Conv1D(128, 3, activation='relu')(inputs)\n",
    "    x = layers.Conv1D(128, 3, activation='relu')(x)\n",
    "    x = layers.MaxPooling1D(16)(x)\n",
    "    x = layers.Conv1D(64, 3, activation='relu')(x)\n",
    "    x = layers.MaxPooling1D(16)(x)\n",
    "    #BiLSTM\n",
    "    #x=Bidirectional(LSTM(128,return_sequences=True))(x)\n",
    "    x=Bidirectional(LSTM(128))(x)\n",
    "    x = layers.Dropout(0.1)(x)\n",
    "    outputs = layers.Dense(4, activation='softmax')(x)\n",
    "    model = keras.Model(inputs, outputs)\n",
    "    model.compile(optimizer='adam',\n",
    "                  loss=loss,\n",
    "                  metrics=metrics)\n",
    "    print(\"实例化模型成功，参数如下：\")\n",
    "    print(model.summary())\n",
    "    return model"
   ]
  },
  {
   "cell_type": "code",
   "execution_count": 27,
   "id": "dcf4a6a5",
   "metadata": {},
   "outputs": [
    {
     "name": "stdout",
     "output_type": "stream",
     "text": [
      "实例化模型成功，参数如下：\n",
      "Model: \"model_3\"\n",
      "_________________________________________________________________\n",
      " Layer (type)                Output Shape              Param #   \n",
      "=================================================================\n",
      " input_5 (InputLayer)        [(None, 2014, 1)]         0         \n",
      "                                                                 \n",
      " conv1d_8 (Conv1D)           (None, 2012, 128)         512       \n",
      "                                                                 \n",
      " conv1d_9 (Conv1D)           (None, 2010, 128)         49280     \n",
      "                                                                 \n",
      " max_pooling1d_4 (MaxPooling  (None, 125, 128)         0         \n",
      " 1D)                                                             \n",
      "                                                                 \n",
      " conv1d_10 (Conv1D)          (None, 123, 64)           24640     \n",
      "                                                                 \n",
      " max_pooling1d_5 (MaxPooling  (None, 7, 64)            0         \n",
      " 1D)                                                             \n",
      "                                                                 \n",
      " bidirectional_3 (Bidirectio  (None, 256)              197632    \n",
      " nal)                                                            \n",
      "                                                                 \n",
      " dropout (Dropout)           (None, 256)               0         \n",
      "                                                                 \n",
      " dense_3 (Dense)             (None, 4)                 1028      \n",
      "                                                                 \n",
      "=================================================================\n",
      "Total params: 273,092\n",
      "Trainable params: 273,092\n",
      "Non-trainable params: 0\n",
      "_________________________________________________________________\n",
      "None\n"
     ]
    }
   ],
   "source": [
    "# 实例化模型\n",
    "cnnbilstm_model2= cnnbilstm_optimize3()\n",
    "\n",
    "# 设置模型log输出地址\n",
    "log_dir = os.path.join(\"logs/optimizer4\")\n",
    "if not os.path.exists(log_dir):\n",
    "    os.mkdir(log_dir)"
   ]
  },
  {
   "cell_type": "code",
   "execution_count": 28,
   "id": "1dab19c3",
   "metadata": {
    "scrolled": true
   },
   "outputs": [
    {
     "name": "stdout",
     "output_type": "stream",
     "text": [
      "Epoch 1/40\n",
      "94/94 [==============================] - 3s 13ms/step - loss: 0.5451 - acc: 0.6975 - val_loss: 0.3397 - val_acc: 0.7816\n",
      "Epoch 2/40\n",
      "94/94 [==============================] - 1s 8ms/step - loss: 0.3162 - acc: 0.8248 - val_loss: 0.2814 - val_acc: 0.8682\n",
      "Epoch 3/40\n",
      "94/94 [==============================] - 1s 8ms/step - loss: 0.2894 - acc: 0.8448 - val_loss: 0.2922 - val_acc: 0.8455\n",
      "Epoch 4/40\n",
      "94/94 [==============================] - 1s 8ms/step - loss: 0.2724 - acc: 0.8544 - val_loss: 0.2958 - val_acc: 0.8269\n",
      "Epoch 5/40\n",
      "94/94 [==============================] - 1s 9ms/step - loss: 0.2813 - acc: 0.8504 - val_loss: 0.2637 - val_acc: 0.8482\n",
      "Epoch 6/40\n",
      "94/94 [==============================] - 1s 9ms/step - loss: 0.2276 - acc: 0.8924 - val_loss: 0.1696 - val_acc: 0.9241\n",
      "Epoch 7/40\n",
      "94/94 [==============================] - 1s 8ms/step - loss: 0.1964 - acc: 0.9057 - val_loss: 0.1256 - val_acc: 0.9427\n",
      "Epoch 8/40\n",
      "94/94 [==============================] - 1s 8ms/step - loss: 0.1571 - acc: 0.9280 - val_loss: 0.1090 - val_acc: 0.9427\n",
      "Epoch 9/40\n",
      "94/94 [==============================] - 1s 8ms/step - loss: 0.1070 - acc: 0.9574 - val_loss: 0.1583 - val_acc: 0.9268\n",
      "Epoch 10/40\n",
      "94/94 [==============================] - 1s 8ms/step - loss: 0.1037 - acc: 0.9590 - val_loss: 0.0444 - val_acc: 0.9787\n",
      "Epoch 11/40\n",
      "94/94 [==============================] - 1s 8ms/step - loss: 0.0732 - acc: 0.9714 - val_loss: 0.1068 - val_acc: 0.9601\n",
      "Epoch 12/40\n",
      "94/94 [==============================] - 1s 8ms/step - loss: 0.0523 - acc: 0.9787 - val_loss: 0.3190 - val_acc: 0.8948\n",
      "Epoch 13/40\n",
      "94/94 [==============================] - 1s 8ms/step - loss: 0.0998 - acc: 0.9554 - val_loss: 0.0620 - val_acc: 0.9694\n",
      "Epoch 14/40\n",
      "94/94 [==============================] - 1s 8ms/step - loss: 0.0427 - acc: 0.9833 - val_loss: 0.0745 - val_acc: 0.9734\n",
      "Epoch 15/40\n",
      "94/94 [==============================] - 1s 8ms/step - loss: 0.0565 - acc: 0.9760 - val_loss: 0.1241 - val_acc: 0.9427\n",
      "Epoch 16/40\n",
      "94/94 [==============================] - 1s 8ms/step - loss: 0.0289 - acc: 0.9883 - val_loss: 0.1517 - val_acc: 0.9387\n",
      "Epoch 17/40\n",
      "94/94 [==============================] - 1s 8ms/step - loss: 0.0365 - acc: 0.9830 - val_loss: 0.0191 - val_acc: 0.9947\n",
      "Epoch 18/40\n",
      "94/94 [==============================] - 1s 8ms/step - loss: 0.0326 - acc: 0.9867 - val_loss: 0.0352 - val_acc: 0.9867\n",
      "Epoch 19/40\n",
      "94/94 [==============================] - 1s 8ms/step - loss: 0.0485 - acc: 0.9827 - val_loss: 0.0345 - val_acc: 0.9854\n",
      "Epoch 20/40\n",
      "94/94 [==============================] - 1s 8ms/step - loss: 0.0350 - acc: 0.9870 - val_loss: 0.0217 - val_acc: 0.9947\n",
      "Epoch 21/40\n",
      "94/94 [==============================] - 1s 8ms/step - loss: 0.0280 - acc: 0.9890 - val_loss: 0.1055 - val_acc: 0.9574\n",
      "Epoch 22/40\n",
      "94/94 [==============================] - 1s 8ms/step - loss: 0.0197 - acc: 0.9927 - val_loss: 0.0137 - val_acc: 0.9973\n",
      "Epoch 23/40\n",
      "94/94 [==============================] - 1s 9ms/step - loss: 0.0094 - acc: 0.9973 - val_loss: 0.0658 - val_acc: 0.9800\n",
      "Epoch 24/40\n",
      "94/94 [==============================] - 1s 9ms/step - loss: 0.0223 - acc: 0.9917 - val_loss: 0.1121 - val_acc: 0.9561\n",
      "Epoch 25/40\n",
      "94/94 [==============================] - 1s 8ms/step - loss: 0.0154 - acc: 0.9957 - val_loss: 0.0201 - val_acc: 0.9907\n",
      "Epoch 26/40\n",
      "94/94 [==============================] - 1s 8ms/step - loss: 0.0117 - acc: 0.9947 - val_loss: 0.0166 - val_acc: 0.9947\n",
      "Epoch 27/40\n",
      "94/94 [==============================] - 1s 8ms/step - loss: 0.0826 - acc: 0.9660 - val_loss: 0.0529 - val_acc: 0.9800\n",
      "Epoch 28/40\n",
      "94/94 [==============================] - 1s 8ms/step - loss: 0.0212 - acc: 0.9920 - val_loss: 0.0180 - val_acc: 0.9960\n",
      "Epoch 29/40\n",
      "94/94 [==============================] - 1s 8ms/step - loss: 0.0063 - acc: 0.9973 - val_loss: 0.0139 - val_acc: 0.9920\n",
      "Epoch 30/40\n",
      "94/94 [==============================] - 1s 8ms/step - loss: 0.0251 - acc: 0.9897 - val_loss: 0.0311 - val_acc: 0.9880\n",
      "Epoch 31/40\n",
      "94/94 [==============================] - 1s 9ms/step - loss: 0.0087 - acc: 0.9973 - val_loss: 0.0145 - val_acc: 0.9933\n",
      "Epoch 32/40\n",
      "94/94 [==============================] - 1s 8ms/step - loss: 0.0041 - acc: 0.9987 - val_loss: 0.0179 - val_acc: 0.9933\n",
      "Epoch 33/40\n",
      "94/94 [==============================] - 1s 9ms/step - loss: 0.0185 - acc: 0.9933 - val_loss: 0.0366 - val_acc: 0.9867\n",
      "Epoch 34/40\n",
      "94/94 [==============================] - 1s 9ms/step - loss: 0.1315 - acc: 0.9624 - val_loss: 0.1298 - val_acc: 0.9401\n",
      "Epoch 35/40\n",
      "94/94 [==============================] - 1s 8ms/step - loss: 0.0294 - acc: 0.9893 - val_loss: 0.0675 - val_acc: 0.9680\n",
      "Epoch 36/40\n",
      "94/94 [==============================] - 1s 8ms/step - loss: 0.0188 - acc: 0.9930 - val_loss: 0.0886 - val_acc: 0.9680\n",
      "Epoch 37/40\n",
      "94/94 [==============================] - 1s 8ms/step - loss: 0.0091 - acc: 0.9960 - val_loss: 0.0219 - val_acc: 0.9933\n",
      "Epoch 38/40\n",
      "94/94 [==============================] - 1s 8ms/step - loss: 0.0107 - acc: 0.9953 - val_loss: 0.0398 - val_acc: 0.9867\n",
      "Epoch 39/40\n",
      "94/94 [==============================] - 1s 8ms/step - loss: 0.0159 - acc: 0.9940 - val_loss: 0.0126 - val_acc: 0.9960\n",
      "Epoch 40/40\n",
      "94/94 [==============================] - 1s 8ms/step - loss: 0.0058 - acc: 0.9983 - val_loss: 0.0134 - val_acc: 0.9933\n"
     ]
    }
   ],
   "source": [
    "# 模型训练\n",
    "tensorboard_callback = tf.keras.callbacks.TensorBoard(log_dir=log_dir, histogram_freq=1)\n",
    "history3 = cnnbilstm_model2.fit(train_data, train_label,epochs=40, batch_size=32, validation_split=0.2,callbacks=[tensorboard_callback])"
   ]
  },
  {
   "cell_type": "code",
   "execution_count": 29,
   "id": "a35c148d",
   "metadata": {},
   "outputs": [
    {
     "name": "stdout",
     "output_type": "stream",
     "text": [
      "*****完成预处理，进行模型评估*****\n",
      "------------------测试集上得分：------------------------\n",
      "*****\n",
      "测试集准确率得分: 0.991\n",
      "*****\n",
      "准确率、召回率、f1-值测试报告如下:\n",
      "               precision    recall  f1-score   support\n",
      "\n",
      "           0       1.00      1.00      1.00       230\n",
      "           1       0.98      0.98      0.98       241\n",
      "           2       0.98      0.98      0.98       239\n",
      "           3       1.00      1.00      1.00       229\n",
      "\n",
      "    accuracy                           0.99       939\n",
      "   macro avg       0.99      0.99      0.99       939\n",
      "weighted avg       0.99      0.99      0.99       939\n",
      "\n"
     ]
    }
   ],
   "source": [
    "from sklearn.metrics import roc_curve,roc_auc_score,classification_report,accuracy_score,log_loss\n",
    "print(\"*****完成预处理，进行模型评估*****\")\n",
    "y_pred = cnnbilstm_model2.predict(val_data)\n",
    "y_pred = [np.argmax(x) for x in y_pred]\n",
    "print('------------------测试集上得分：------------------------')\n",
    "print('*' * 5)\n",
    "print('测试集准确率得分:', round(accuracy_score(val_label, y_pred),3))\n",
    "print('*' * 5)\n",
    "print('准确率、召回率、f1-值测试报告如下:\\n', classification_report(val_label, y_pred))"
   ]
  },
  {
   "cell_type": "code",
   "execution_count": 30,
   "id": "d24c5bb4",
   "metadata": {},
   "outputs": [
    {
     "data": {
      "image/png": "[encoded data removed]",
      "text/plain": [
       "<Figure size 432x288 with 1 Axes>"
      ]
     },
     "metadata": {
      "needs_background": "light"
     },
     "output_type": "display_data"
    }
   ],
   "source": [
    "#acc\n",
    "plt.ylim(0.3,1.2)\n",
    "# 训练准确率曲线\n",
    "show_data1_cnnbilstm= history3.history['val_acc']\n",
    "# 测试准确率曲线\n",
    "plt.ylabel(\"Accuracy\")\n",
    "plt.xlabel(\"Epoch\")\n",
    "show_data2_cnnbilstm= history2.history['val_acc']\n",
    "x_data = list(range(1,len(show_data1_cnnbilstm)+1))\n",
    "ln1, = plt.plot(x_data,show_data1_cnnbilstm,color='blue',linewidth=2.0,linestyle='--')\n",
    "ln2, = plt.plot(x_data,show_data2_cnnbilstm,color='red',linewidth=3.0,linestyle='solid')\n",
    "plt.legend(handles=[ln1,ln2],labels=['有dropout','无dropout'])\n",
    "plt.show()"
   ]
  },
  {
   "cell_type": "code",
   "execution_count": 31,
   "id": "39afa37b",
   "metadata": {},
   "outputs": [
    {
     "data": {
      "image/png": "[encoded data removed]",
      "text/plain": [
       "<Figure size 432x288 with 1 Axes>"
      ]
     },
     "metadata": {
      "needs_background": "light"
     },
     "output_type": "display_data"
    }
   ],
   "source": [
    "#loss\n",
    "# 设置Y轴范围\n",
    "#plt.ylim(0.3,1)\n",
    "# 训练准确率曲线\n",
    "show_data1_cnnbilstm= history3.history['val_loss']\n",
    "# 测试准确率曲线\n",
    "plt.ylabel(\"Loss\")\n",
    "plt.xlabel(\"Epoch\")\n",
    "show_data2_cnnbilstm= history2.history['val_loss']\n",
    "x_data = list(range(1,len(show_data1_cnnbilstm)+1))\n",
    "ln1, = plt.plot(x_data,show_data1_cnnbilstm,color='blue',linewidth=2.0,linestyle='--')\n",
    "ln2, = plt.plot(x_data,show_data2_cnnbilstm,color='red',linewidth=3.0,linestyle='solid')\n",
    "plt.legend(handles=[ln1,ln2],labels=['有dropout','无dropout'])\n",
    "plt.show()"
   ]
  },
  {
   "cell_type": "code",
   "execution_count": null,
   "id": "bbc68f96",
   "metadata": {},
   "outputs": [],
   "source": []
  },
  {
   "cell_type": "code",
   "execution_count": null,
   "id": "a312d7dd",
   "metadata": {},
   "outputs": [],
   "source": []
  }
 ],
 "metadata": {
  "kernelspec": {
   "display_name": "Python 3",
   "language": "python",
   "name": "python3"
  },
  "language_info": {
   "codemirror_mode": {
    "name": "ipython",
    "version": 3
   },
   "file_extension": ".py",
   "mimetype": "text/x-python",
   "name": "python",
   "nbconvert_exporter": "python",
   "pygments_lexer": "ipython3",
   "version": "3.6.13"
  }
 },
 "nbformat": 4,
 "nbformat_minor": 5
}
