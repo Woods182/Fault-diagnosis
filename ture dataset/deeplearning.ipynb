{
 "cells": [
  {
   "cell_type": "code",
   "execution_count": 24,
   "metadata": {},
   "outputs": [
    {
     "name": "stdout",
     "output_type": "stream",
     "text": [
      "True\n"
     ]
    }
   ],
   "source": [
    "import os\n",
    "import matplotlib.pyplot as plt\n",
    "from collections import Counter\n",
    "import numpy as np\n",
    "import tensorflow as tf\n",
    "from tensorflow import keras\n",
    "from sklearn.preprocessing import MinMaxScaler\n",
    "from tensorflow.keras import layers, models\n",
    "# 查看GPU是否可用\n",
    "print(tf.test.is_gpu_available())"
   ]
  },
  {
   "cell_type": "code",
   "execution_count": 34,
   "metadata": {},
   "outputs": [],
   "source": [
    "from sklearn.preprocessing import scale\n",
    "def load_data(data_name,label_name):\n",
    "    path_x=os.path.join('train_data',data_name)\n",
    "    path_y=os.path.join('train_data',label_name)\n",
    "    # 读取数据\n",
    "    x = np.load(path_x)\n",
    "#     scaler = MinMaxScaler()\n",
    "#      x = scaler.fit_transform(x)\n",
    " #   x=scale(x)\n",
    "    y = np.load(path_y)\n",
    "    num = len(Counter(y))\n",
    "    print(\"类别数量为：\", num)\n",
    "    return x, y, num"
   ]
  },
  {
   "cell_type": "code",
   "execution_count": 26,
   "metadata": {},
   "outputs": [],
   "source": [
    "def create_train_data(x, y, ratio=0.7):\n",
    "    \"\"\"\n",
    "    x:data\n",
    "    y:labal\n",
    "    ratio:生成训练集比率\n",
    "    \"\"\"\n",
    "    # 打乱顺序\n",
    "    # 读取data矩阵的第一维数（数据个数）\n",
    "    num_example = x.shape[0]\n",
    "    # 产生一个num_example范围，步长为1的序列\n",
    "    arr = np.arange(num_example)\n",
    "    # 调用函数，打乱顺序\n",
    "    np.random.seed(99)\n",
    "    np.random.shuffle(arr)\n",
    "    # 按照打乱的顺序，重新排序\n",
    "    arr_data = x[arr]\n",
    "    arr_label = y[arr]\n",
    "    # 将数据集分为训练集80%、测试集20%\n",
    "    s = int(num_example * ratio)\n",
    "    x_train = arr_data[:s]\n",
    "    y_train = arr_label[:s]\n",
    "    x_val = arr_data[s:]\n",
    "    y_val = arr_label[s:]\n",
    "    print(\"训练集shape\", x_train.shape)\n",
    "    print(\"训练集类别：\", Counter(y_train))\n",
    "    print(\"测试集shape\", x_val.shape)\n",
    "    print(\"测试集类别：\", Counter(y_val))\n",
    "    return x_train, y_train, x_val, y_val"
   ]
  },
  {
   "cell_type": "code",
   "execution_count": 28,
   "metadata": {},
   "outputs": [
    {
     "name": "stdout",
     "output_type": "stream",
     "text": [
      "类别数量为： 4\n",
      "训练集shape (3753, 2015)\n",
      "训练集类别： Counter({1: 995, 0: 950, 2: 941, 3: 867})\n",
      "测试集shape (939, 2015)\n",
      "测试集类别： Counter({1: 241, 2: 239, 0: 230, 3: 229})\n",
      "**********\n",
      "训练集数量： 3753\n",
      "测试集数量： 939\n"
     ]
    }
   ],
   "source": [
    "# 读取数据\n",
    "data, label, label_count= load_data('train_data_nodenoise.npy','label_nodenoise.npy')\n",
    "# 生成训练集测试集,70%用作训练，30%用作测试\n",
    "train_data, train_label, val_data, val_label= create_train_data(data, label, 0.8)\n",
    "print(\"*\"*10)\n",
    "print(\"训练集数量：\",len(train_label))\n",
    "print(\"测试集数量：\",len(val_label))"
   ]
  },
  {
   "cell_type": "markdown",
   "metadata": {},
   "source": [
    "# 模型训练"
   ]
  },
  {
   "cell_type": "markdown",
   "metadata": {},
   "source": [
    "## CNN—BiLSTM"
   ]
  },
  {
   "cell_type": "code",
   "execution_count": 29,
   "metadata": {},
   "outputs": [],
   "source": [
    "from tensorflow.keras.layers import  LSTM,Bidirectional\n",
    "def cnnbilstm_create():\n",
    "    loss = 'sparse_categorical_crossentropy'\n",
    "    metrics = ['acc']\n",
    "    inputs = keras.Input(shape=(2015, 1))\n",
    "    #x = layers.Conv1D(32, 3, activation='relu')(inputs)\n",
    "    x = layers.Conv1D(64, 3, activation='relu')(inputs)\n",
    "    x = layers.MaxPooling1D(16)(x)\n",
    "    x = layers.Conv1D(64, 3, activation='relu')(x)\n",
    "    x=Bidirectional(LSTM(32))(x)\n",
    "    # 添加一个CNN层,return_sequences=True\n",
    "    #x = layers.Conv1D(64, 3, activation='relu')(x)\n",
    "    # 全局平均池化GAP层\n",
    "    #x = layers.GlobalAveragePooling1D()(x)\n",
    "        # 几个密集分类层\n",
    "    #x = layers.Dense(256, activation='relu')(x)\n",
    "    #x = layers.GlobalAveragePooling1D()(x)\n",
    "    # 几个密集分类层\n",
    "    #x = layers.Dense(32, activation='relu')(x)\n",
    "    # 退出层\n",
    "    x = layers.Dropout(0.1)(x)\n",
    "    outputs = layers.Dense(4, activation='softmax')(x)\n",
    "    model = keras.Model(inputs, outputs)\n",
    "    model.compile(optimizer='rmsprop',\n",
    "                  loss=loss,\n",
    "                  metrics=metrics)\n",
    "    print(\"实例化模型成功，参数如下：\")\n",
    "    print(model.summary())\n",
    "    return model"
   ]
  },
  {
   "cell_type": "code",
   "execution_count": 40,
   "metadata": {
    "scrolled": true
   },
   "outputs": [
    {
     "name": "stdout",
     "output_type": "stream",
     "text": [
      "实例化模型成功，参数如下：\n",
      "Model: \"functional_3\"\n",
      "_________________________________________________________________\n",
      "Layer (type)                 Output Shape              Param #   \n",
      "=================================================================\n",
      "input_2 (InputLayer)         [(None, 2015, 1)]         0         \n",
      "_________________________________________________________________\n",
      "conv1d_2 (Conv1D)            (None, 2013, 64)          256       \n",
      "_________________________________________________________________\n",
      "max_pooling1d_1 (MaxPooling1 (None, 125, 64)           0         \n",
      "_________________________________________________________________\n",
      "conv1d_3 (Conv1D)            (None, 123, 64)           12352     \n",
      "_________________________________________________________________\n",
      "bidirectional_1 (Bidirection (None, 64)                24832     \n",
      "_________________________________________________________________\n",
      "dropout_1 (Dropout)          (None, 64)                0         \n",
      "_________________________________________________________________\n",
      "dense_1 (Dense)              (None, 4)                 260       \n",
      "=================================================================\n",
      "Total params: 37,700\n",
      "Trainable params: 37,700\n",
      "Non-trainable params: 0\n",
      "_________________________________________________________________\n",
      "None\n"
     ]
    }
   ],
   "source": [
    "# 实例化模型\n",
    "cnnbilstm_model = cnnbilstm_create()\n",
    "\n",
    "# 设置模型log输出地址\n",
    "log_dir = os.path.join(\"logs/CNN_BiLSTM2\")\n",
    "if not os.path.exists(log_dir):\n",
    "    os.mkdir(log_dir)"
   ]
  },
  {
   "cell_type": "markdown",
   "metadata": {},
   "source": [
    "### z-均值归一化"
   ]
  },
  {
   "cell_type": "code",
   "execution_count": 31,
   "metadata": {},
   "outputs": [
    {
     "name": "stdout",
     "output_type": "stream",
     "text": [
      "Epoch 1/30\n",
      " 1/94 [..............................] - ETA: 0s - loss: 1.4377 - acc: 0.2812WARNING:tensorflow:From C:\\Users\\wuson\\AppData\\Roaming\\Python\\Python36\\site-packages\\tensorflow\\python\\ops\\summary_ops_v2.py:1277: stop (from tensorflow.python.eager.profiler) is deprecated and will be removed after 2020-07-01.\n",
      "Instructions for updating:\n",
      "use `tf.profiler.experimental.stop` instead.\n",
      " 2/94 [..............................] - ETA: 5s - loss: 1.3960 - acc: 0.2500WARNING:tensorflow:Callbacks method `on_train_batch_end` is slow compared to the batch time (batch time: 0.0319s vs `on_train_batch_end` time: 0.0788s). Check your callbacks.\n",
      "94/94 [==============================] - 5s 54ms/step - loss: 0.6895 - acc: 0.6409 - val_loss: 0.3838 - val_acc: 0.7643\n",
      "Epoch 2/30\n",
      "94/94 [==============================] - 3s 36ms/step - loss: 0.4206 - acc: 0.7432 - val_loss: 0.3783 - val_acc: 0.7696\n",
      "Epoch 3/30\n",
      "94/94 [==============================] - 3s 36ms/step - loss: 0.4077 - acc: 0.7508 - val_loss: 0.4023 - val_acc: 0.7031\n",
      "Epoch 4/30\n",
      "94/94 [==============================] - 3s 36ms/step - loss: 0.4161 - acc: 0.7445 - val_loss: 0.3667 - val_acc: 0.7510\n",
      "Epoch 5/30\n",
      "94/94 [==============================] - 3s 36ms/step - loss: 0.4097 - acc: 0.7432 - val_loss: 0.3915 - val_acc: 0.7550\n",
      "Epoch 6/30\n",
      "94/94 [==============================] - 4s 37ms/step - loss: 0.3639 - acc: 0.7495 - val_loss: 0.3692 - val_acc: 0.7790\n",
      "Epoch 7/30\n",
      "94/94 [==============================] - 3s 36ms/step - loss: 0.3680 - acc: 0.7582 - val_loss: 0.3644 - val_acc: 0.7483\n",
      "Epoch 8/30\n",
      "94/94 [==============================] - 3s 36ms/step - loss: 0.3626 - acc: 0.7542 - val_loss: 0.3666 - val_acc: 0.7656\n",
      "Epoch 9/30\n",
      "94/94 [==============================] - 3s 36ms/step - loss: 0.3649 - acc: 0.7532 - val_loss: 0.3858 - val_acc: 0.7497\n",
      "Epoch 10/30\n",
      "94/94 [==============================] - 3s 36ms/step - loss: 0.3579 - acc: 0.7642 - val_loss: 0.3780 - val_acc: 0.7417\n",
      "Epoch 11/30\n",
      "94/94 [==============================] - 3s 36ms/step - loss: 0.3472 - acc: 0.7831 - val_loss: 0.3584 - val_acc: 0.7497\n",
      "Epoch 12/30\n",
      "94/94 [==============================] - 3s 36ms/step - loss: 0.3496 - acc: 0.7858 - val_loss: 0.3662 - val_acc: 0.7630\n",
      "Epoch 13/30\n",
      "94/94 [==============================] - 3s 36ms/step - loss: 0.3416 - acc: 0.7871 - val_loss: 0.3491 - val_acc: 0.7803\n",
      "Epoch 14/30\n",
      "94/94 [==============================] - 3s 36ms/step - loss: 0.3338 - acc: 0.8021 - val_loss: 0.3602 - val_acc: 0.7670\n",
      "Epoch 15/30\n",
      "94/94 [==============================] - 3s 36ms/step - loss: 0.3281 - acc: 0.8108 - val_loss: 0.3330 - val_acc: 0.7989\n",
      "Epoch 16/30\n",
      "94/94 [==============================] - 3s 36ms/step - loss: 0.3149 - acc: 0.8284 - val_loss: 0.3114 - val_acc: 0.8282\n",
      "Epoch 17/30\n",
      "94/94 [==============================] - 3s 36ms/step - loss: 0.3096 - acc: 0.8338 - val_loss: 0.3914 - val_acc: 0.7683\n",
      "Epoch 18/30\n",
      "94/94 [==============================] - 3s 36ms/step - loss: 0.2898 - acc: 0.8454 - val_loss: 0.2880 - val_acc: 0.8575\n",
      "Epoch 19/30\n",
      "94/94 [==============================] - 3s 36ms/step - loss: 0.2773 - acc: 0.8481 - val_loss: 0.2835 - val_acc: 0.8349\n",
      "Epoch 20/30\n",
      "94/94 [==============================] - 3s 36ms/step - loss: 0.2664 - acc: 0.8674 - val_loss: 0.2329 - val_acc: 0.8961\n",
      "Epoch 21/30\n",
      "94/94 [==============================] - 3s 36ms/step - loss: 0.2470 - acc: 0.8761 - val_loss: 0.2148 - val_acc: 0.8828\n",
      "Epoch 22/30\n",
      "94/94 [==============================] - 3s 36ms/step - loss: 0.2433 - acc: 0.8787 - val_loss: 0.2461 - val_acc: 0.8615\n",
      "Epoch 23/30\n",
      "94/94 [==============================] - 3s 36ms/step - loss: 0.2228 - acc: 0.8921 - val_loss: 0.1737 - val_acc: 0.9041\n",
      "Epoch 24/30\n",
      "94/94 [==============================] - 3s 36ms/step - loss: 0.2206 - acc: 0.8951 - val_loss: 0.2006 - val_acc: 0.8961\n",
      "Epoch 25/30\n",
      "94/94 [==============================] - 3s 36ms/step - loss: 0.2121 - acc: 0.8974 - val_loss: 0.2100 - val_acc: 0.8881\n",
      "Epoch 26/30\n",
      "94/94 [==============================] - 3s 36ms/step - loss: 0.2022 - acc: 0.9001 - val_loss: 0.1337 - val_acc: 0.9534\n",
      "Epoch 27/30\n",
      "94/94 [==============================] - 3s 36ms/step - loss: 0.2057 - acc: 0.9091 - val_loss: 0.2165 - val_acc: 0.8881\n",
      "Epoch 28/30\n",
      "94/94 [==============================] - 4s 37ms/step - loss: 0.1811 - acc: 0.9161 - val_loss: 0.2394 - val_acc: 0.8682\n",
      "Epoch 29/30\n",
      "94/94 [==============================] - 3s 37ms/step - loss: 0.1911 - acc: 0.9124 - val_loss: 0.1338 - val_acc: 0.9494\n",
      "Epoch 30/30\n",
      "94/94 [==============================] - 3s 37ms/step - loss: 0.1802 - acc: 0.9131 - val_loss: 0.1368 - val_acc: 0.9427\n"
     ]
    }
   ],
   "source": [
    "# 模型训练\n",
    "tensorboard_callback = tf.keras.callbacks.TensorBoard(log_dir=log_dir, histogram_freq=1)\n",
    "history = cnnbilstm_model.fit(train_data, train_label,epochs=20, batch_size=32, validation_split=0.2,callbacks=[tensorboard_callback])"
   ]
  },
  {
   "cell_type": "code",
   "execution_count": 32,
   "metadata": {},
   "outputs": [
    {
     "name": "stdout",
     "output_type": "stream",
     "text": [
      "*****完成预处理，进行模型评估*****\n",
      "------------------测试集上得分：------------------------\n",
      "*****\n",
      "测试集准确率得分: 0.952\n",
      "*****\n",
      "准确率、召回率、f1-值测试报告如下:\n",
      "               precision    recall  f1-score   support\n",
      "\n",
      "           0       1.00      1.00      1.00       230\n",
      "           1       0.93      0.88      0.90       241\n",
      "           2       0.88      0.94      0.91       239\n",
      "           3       1.00      1.00      1.00       229\n",
      "\n",
      "    accuracy                           0.95       939\n",
      "   macro avg       0.95      0.95      0.95       939\n",
      "weighted avg       0.95      0.95      0.95       939\n",
      "\n"
     ]
    }
   ],
   "source": [
    "from sklearn.metrics import roc_curve,roc_auc_score,classification_report,accuracy_score,log_loss\n",
    "print(\"*****完成预处理，进行模型评估*****\")\n",
    "y_pred = cnnbilstm_model.predict(val_data)\n",
    "y_pred = [np.argmax(x) for x in y_pred]\n",
    "print('------------------测试集上得分：------------------------')\n",
    "print('*' * 5)\n",
    "print('测试集准确率得分:', round(accuracy_score(val_label, y_pred),3))\n",
    "print('*' * 5)\n",
    "print('准确率、召回率、f1-值测试报告如下:\\n', classification_report(val_label, y_pred))"
   ]
  },
  {
   "cell_type": "code",
   "execution_count": 33,
   "metadata": {},
   "outputs": [
    {
     "data": {
      "image/png": "[encoded data removed]",
      "text/plain": [
       "<Figure size 432x288 with 1 Axes>"
      ]
     },
     "metadata": {
      "needs_background": "light"
     },
     "output_type": "display_data"
    }
   ],
   "source": [
    "# 设置Y轴范围\n",
    "plt.ylim(0.3,1)\n",
    "# 训练准确率曲线\n",
    "show_data1_cnnbilstm= history.history['acc']\n",
    "# 测试准确率曲线\n",
    "plt.ylabel(\"Accuracy\")\n",
    "plt.xlabel(\"Epoch\")\n",
    "show_data2_cnnbilstm= history.history['val_acc']\n",
    "x_data = list(range(1,len(show_data1_cnnbilstm)+1))\n",
    "ln1, = plt.plot(x_data,show_data1_cnnbilstm,color='blue',linewidth=2.0,linestyle='--')\n",
    "ln2, = plt.plot(x_data,show_data2_cnnbilstm,color='red',linewidth=3.0,linestyle='-.')\n",
    "plt.legend(handles=[ln1,ln2],labels=['train','val'])\n",
    "plt.show()"
   ]
  },
  {
   "cell_type": "markdown",
   "metadata": {},
   "source": [
    "# 原始数据"
   ]
  },
  {
   "cell_type": "code",
   "execution_count": 37,
   "metadata": {},
   "outputs": [
    {
     "name": "stdout",
     "output_type": "stream",
     "text": [
      "类别数量为： 4\n",
      "训练集shape (3753, 2015)\n",
      "训练集类别： Counter({1: 995, 0: 950, 2: 941, 3: 867})\n",
      "测试集shape (939, 2015)\n",
      "测试集类别： Counter({1: 241, 2: 239, 0: 230, 3: 229})\n",
      "**********\n",
      "训练集数量： 3753\n",
      "测试集数量： 939\n"
     ]
    }
   ],
   "source": [
    "# 读取数据\n",
    "data1, label1, label_count1 =  load_data('train_data_nodenoise.npy','label_nodenoise.npy')\n",
    "# 生成训练集测试集,70%用作训练，30%用作测试\n",
    "train_data1, train_label1, val_data1, val_label1 = create_train_data(data1, label1, 0.8)\n",
    "print(\"*\"*10)\n",
    "print(\"训练集数量：\",len(train_label1))\n",
    "print(\"测试集数量：\",len(val_label1))"
   ]
  },
  {
   "cell_type": "code",
   "execution_count": 41,
   "metadata": {},
   "outputs": [
    {
     "name": "stdout",
     "output_type": "stream",
     "text": [
      "Epoch 1/30\n",
      " 2/94 [..............................] - ETA: 7s - loss: 1.3829 - acc: 0.3125WARNING:tensorflow:Callbacks method `on_train_batch_end` is slow compared to the batch time (batch time: 0.0300s vs `on_train_batch_end` time: 0.1321s). Check your callbacks.\n",
      "94/94 [==============================] - 5s 49ms/step - loss: 0.7090 - acc: 0.6895 - val_loss: 0.6750 - val_acc: 0.6578\n",
      "Epoch 2/30\n",
      "94/94 [==============================] - 3s 36ms/step - loss: 0.4541 - acc: 0.7412 - val_loss: 0.3860 - val_acc: 0.7656\n",
      "Epoch 3/30\n",
      "94/94 [==============================] - 3s 36ms/step - loss: 0.3939 - acc: 0.7495 - val_loss: 0.3888 - val_acc: 0.7150\n",
      "Epoch 4/30\n",
      "94/94 [==============================] - 3s 36ms/step - loss: 0.3795 - acc: 0.7545 - val_loss: 0.3699 - val_acc: 0.7656\n",
      "Epoch 5/30\n",
      "94/94 [==============================] - 3s 36ms/step - loss: 0.3798 - acc: 0.7478 - val_loss: 0.3655 - val_acc: 0.7736\n",
      "Epoch 6/30\n",
      "94/94 [==============================] - 3s 36ms/step - loss: 0.3664 - acc: 0.7605 - val_loss: 0.4865 - val_acc: 0.6884\n",
      "Epoch 7/30\n",
      "94/94 [==============================] - 3s 36ms/step - loss: 0.3602 - acc: 0.7612 - val_loss: 0.3498 - val_acc: 0.7843\n",
      "Epoch 8/30\n",
      "94/94 [==============================] - 3s 36ms/step - loss: 0.3425 - acc: 0.7888 - val_loss: 0.4194 - val_acc: 0.7750\n",
      "Epoch 9/30\n",
      "94/94 [==============================] - 3s 36ms/step - loss: 0.3224 - acc: 0.8195 - val_loss: 0.3267 - val_acc: 0.8136\n",
      "Epoch 10/30\n",
      "94/94 [==============================] - 3s 37ms/step - loss: 0.2907 - acc: 0.8491 - val_loss: 0.2304 - val_acc: 0.8868\n",
      "Epoch 11/30\n",
      "94/94 [==============================] - 3s 36ms/step - loss: 0.2471 - acc: 0.8761 - val_loss: 0.2462 - val_acc: 0.8815\n",
      "Epoch 12/30\n",
      "94/94 [==============================] - 3s 36ms/step - loss: 0.2194 - acc: 0.8977 - val_loss: 0.1899 - val_acc: 0.8961\n",
      "Epoch 13/30\n",
      "94/94 [==============================] - 3s 36ms/step - loss: 0.2175 - acc: 0.8927 - val_loss: 0.2316 - val_acc: 0.8935\n",
      "Epoch 14/30\n",
      "94/94 [==============================] - 3s 36ms/step - loss: 0.1926 - acc: 0.9067 - val_loss: 0.2054 - val_acc: 0.8921\n",
      "Epoch 15/30\n",
      "94/94 [==============================] - 3s 36ms/step - loss: 0.1796 - acc: 0.9111 - val_loss: 0.1723 - val_acc: 0.9241\n",
      "Epoch 16/30\n",
      "94/94 [==============================] - 3s 36ms/step - loss: 0.1554 - acc: 0.9264 - val_loss: 0.1960 - val_acc: 0.9015\n",
      "Epoch 17/30\n",
      "94/94 [==============================] - 3s 37ms/step - loss: 0.1532 - acc: 0.9344 - val_loss: 0.1438 - val_acc: 0.9321\n",
      "Epoch 18/30\n",
      "94/94 [==============================] - 3s 37ms/step - loss: 0.1395 - acc: 0.9414 - val_loss: 0.1022 - val_acc: 0.9547\n",
      "Epoch 19/30\n",
      "94/94 [==============================] - 3s 35ms/step - loss: 0.1300 - acc: 0.9467 - val_loss: 0.1472 - val_acc: 0.9308\n",
      "Epoch 20/30\n",
      "94/94 [==============================] - 3s 35ms/step - loss: 0.1055 - acc: 0.9567 - val_loss: 0.3218 - val_acc: 0.8642\n",
      "Epoch 21/30\n",
      "94/94 [==============================] - 3s 35ms/step - loss: 0.0990 - acc: 0.9597 - val_loss: 0.1774 - val_acc: 0.9214\n",
      "Epoch 22/30\n",
      "94/94 [==============================] - 3s 35ms/step - loss: 0.0848 - acc: 0.9650 - val_loss: 0.1226 - val_acc: 0.9494\n",
      "Epoch 23/30\n",
      "94/94 [==============================] - 3s 36ms/step - loss: 0.0584 - acc: 0.9800 - val_loss: 0.1700 - val_acc: 0.9241\n",
      "Epoch 24/30\n",
      "94/94 [==============================] - 3s 36ms/step - loss: 0.0582 - acc: 0.9777 - val_loss: 0.2985 - val_acc: 0.8735\n",
      "Epoch 25/30\n",
      "94/94 [==============================] - 3s 36ms/step - loss: 0.0476 - acc: 0.9823 - val_loss: 0.4471 - val_acc: 0.8615\n",
      "Epoch 26/30\n",
      "94/94 [==============================] - 4s 38ms/step - loss: 0.0446 - acc: 0.9847 - val_loss: 0.0412 - val_acc: 0.9854\n",
      "Epoch 27/30\n",
      "94/94 [==============================] - 4s 38ms/step - loss: 0.0343 - acc: 0.9873 - val_loss: 0.0149 - val_acc: 0.9973\n",
      "Epoch 28/30\n",
      "94/94 [==============================] - 4s 37ms/step - loss: 0.0350 - acc: 0.9867 - val_loss: 0.1398 - val_acc: 0.9521\n",
      "Epoch 29/30\n",
      "94/94 [==============================] - 4s 38ms/step - loss: 0.0429 - acc: 0.9873 - val_loss: 0.0102 - val_acc: 0.9960\n",
      "Epoch 30/30\n",
      "94/94 [==============================] - 4s 38ms/step - loss: 0.0352 - acc: 0.9853 - val_loss: 0.0110 - val_acc: 0.9973\n"
     ]
    }
   ],
   "source": [
    "# 模型训练\n",
    "tensorboard_callback = tf.keras.callbacks.TensorBoard(log_dir=log_dir, histogram_freq=1)\n",
    "history11 = cnnbilstm_model.fit(train_data1, train_label1,epochs=30, batch_size=32, validation_split=0.2,callbacks=[tensorboard_callback])"
   ]
  },
  {
   "cell_type": "code",
   "execution_count": 42,
   "metadata": {},
   "outputs": [
    {
     "name": "stdout",
     "output_type": "stream",
     "text": [
      "*****完成预处理，进行模型评估*****\n",
      "------------------测试集上得分：------------------------\n",
      "*****\n",
      "测试集准确率得分: 0.995\n",
      "*****\n",
      "准确率、召回率、f1-值测试报告如下:\n",
      "               precision    recall  f1-score   support\n",
      "\n",
      "           0       1.00      1.00      1.00       230\n",
      "           1       0.99      0.99      0.99       241\n",
      "           2       0.99      0.99      0.99       239\n",
      "           3       1.00      1.00      1.00       229\n",
      "\n",
      "    accuracy                           0.99       939\n",
      "   macro avg       0.99      0.99      0.99       939\n",
      "weighted avg       0.99      0.99      0.99       939\n",
      "\n"
     ]
    }
   ],
   "source": [
    "from sklearn.metrics import roc_curve,roc_auc_score,classification_report,accuracy_score,log_loss\n",
    "print(\"*****完成预处理，进行模型评估*****\")\n",
    "y_pred1 = cnnbilstm_model.predict(val_data1)\n",
    "y_pred1 = [np.argmax(x) for x in y_pred1]\n",
    "print('------------------测试集上得分：------------------------')\n",
    "print('*' * 5)\n",
    "print('测试集准确率得分:', round(accuracy_score(val_label1, y_pred1),3))\n",
    "print('*' * 5)\n",
    "print('准确率、召回率、f1-值测试报告如下:\\n', classification_report(val_label1, y_pred1))"
   ]
  },
  {
   "cell_type": "code",
   "execution_count": 45,
   "metadata": {},
   "outputs": [
    {
     "data": {
      "image/png": "[encoded data removed]",
      "text/plain": [
       "<Figure size 432x288 with 1 Axes>"
      ]
     },
     "metadata": {
      "needs_background": "light"
     },
     "output_type": "display_data"
    }
   ],
   "source": [
    "# 设置Y轴范围\n",
    "plt.ylim(0.3,1)\n",
    "# 训练准确率曲线\n",
    "show_data1_cnnbilstm1= history11.history['acc']\n",
    "# 测试准确率曲线\n",
    "plt.ylabel(\"Accuracy\")\n",
    "plt.xlabel(\"Epoch\")\n",
    "show_data2_cnnbilstm1= history11.history['val_acc']\n",
    "x_data1 = list(range(1,len(show_data1_cnnbilstm1)+1))\n",
    "ln1, = plt.plot(x_data1,show_data1_cnnbilstm1,color='blue',linewidth=2.0,linestyle='--')\n",
    "ln2, = plt.plot(x_data1,show_data2_cnnbilstm1,color='red',linewidth=3.0,linestyle='-.')\n",
    "plt.legend(handles=[ln1,ln2],labels=['train','val'])\n",
    "plt.show()"
   ]
  },
  {
   "cell_type": "markdown",
   "metadata": {},
   "source": [
    "# 最大最小归一化"
   ]
  },
  {
   "cell_type": "code",
   "execution_count": 31,
   "metadata": {},
   "outputs": [
    {
     "name": "stdout",
     "output_type": "stream",
     "text": [
      "类别数量为： 4\n",
      "训练集shape (3284, 2015, 1)\n",
      "训练集类别： Counter({1: 857, 2: 831, 0: 828, 3: 768})\n",
      "测试集shape (1408, 2015, 1)\n",
      "测试集类别： Counter({1: 379, 0: 352, 2: 349, 3: 328})\n",
      "**********\n",
      "训练集数量： 3284\n",
      "测试集数量： 1408\n"
     ]
    }
   ],
   "source": [
    "# 读取数据\n",
    "data2, label2, label_count2 = load_data('train_data_nlm.npy','label_nml.npy')\n",
    "# 生成训练集测试集,70%用作训练，30%用作测试\n",
    "train_data2, train_label2, val_data2, val_label2 = create_train_data(data2, label2, 0.7)\n",
    "print(\"*\"*10)\n",
    "print(\"训练集数量：\",len(train_label2))\n",
    "print(\"测试集数量：\",len(val_label2))"
   ]
  },
  {
   "cell_type": "code",
   "execution_count": 32,
   "metadata": {},
   "outputs": [
    {
     "name": "stdout",
     "output_type": "stream",
     "text": [
      "Epoch 1/30\n",
      " 2/83 [..............................] - ETA: 7s - loss: 2.8053 - acc: 0.3750WARNING:tensorflow:Callbacks method `on_train_batch_end` is slow compared to the batch time (batch time: 0.0353s vs `on_train_batch_end` time: 0.1430s). Check your callbacks.\n",
      "83/83 [==============================] - 3s 42ms/step - loss: 1.2513 - acc: 0.4149 - val_loss: 3.3571 - val_acc: 0.2679\n",
      "Epoch 2/30\n",
      "83/83 [==============================] - 3s 36ms/step - loss: 1.0895 - acc: 0.5348 - val_loss: 0.9624 - val_acc: 0.5814\n",
      "Epoch 3/30\n",
      "83/83 [==============================] - 3s 39ms/step - loss: 0.9877 - acc: 0.5501 - val_loss: 0.7992 - val_acc: 0.6210\n",
      "Epoch 4/30\n",
      "83/83 [==============================] - 3s 39ms/step - loss: 0.9919 - acc: 0.5657 - val_loss: 0.9915 - val_acc: 0.5769\n",
      "Epoch 5/30\n",
      "83/83 [==============================] - 3s 38ms/step - loss: 0.8893 - acc: 0.6049 - val_loss: 1.5669 - val_acc: 0.3029\n",
      "Epoch 6/30\n",
      "83/83 [==============================] - 3s 38ms/step - loss: 0.8953 - acc: 0.6018 - val_loss: 0.7151 - val_acc: 0.6301\n",
      "Epoch 7/30\n",
      "83/83 [==============================] - 3s 38ms/step - loss: 0.8275 - acc: 0.6407 - val_loss: 1.0418 - val_acc: 0.4612\n",
      "Epoch 8/30\n",
      "83/83 [==============================] - 3s 39ms/step - loss: 0.8480 - acc: 0.6551 - val_loss: 2.5425 - val_acc: 0.3851\n",
      "Epoch 9/30\n",
      "83/83 [==============================] - 3s 38ms/step - loss: 0.8192 - acc: 0.6654 - val_loss: 0.6033 - val_acc: 0.7580\n",
      "Epoch 10/30\n",
      "83/83 [==============================] - 3s 39ms/step - loss: 0.7404 - acc: 0.6837 - val_loss: 0.8767 - val_acc: 0.6180\n",
      "Epoch 11/30\n",
      "83/83 [==============================] - 3s 37ms/step - loss: 0.7246 - acc: 0.7004 - val_loss: 0.6635 - val_acc: 0.7032\n",
      "Epoch 12/30\n",
      "83/83 [==============================] - 3s 37ms/step - loss: 0.7369 - acc: 0.6920 - val_loss: 0.5518 - val_acc: 0.7336\n",
      "Epoch 13/30\n",
      "83/83 [==============================] - 3s 37ms/step - loss: 0.7454 - acc: 0.7092 - val_loss: 0.5670 - val_acc: 0.7428\n",
      "Epoch 14/30\n",
      "83/83 [==============================] - 3s 37ms/step - loss: 0.6906 - acc: 0.7229 - val_loss: 0.4840 - val_acc: 0.7641\n",
      "Epoch 15/30\n",
      "83/83 [==============================] - 3s 39ms/step - loss: 0.6907 - acc: 0.7096 - val_loss: 0.8442 - val_acc: 0.6164\n",
      "Epoch 16/30\n",
      "83/83 [==============================] - 3s 38ms/step - loss: 0.7381 - acc: 0.7016 - val_loss: 0.4553 - val_acc: 0.8021\n",
      "Epoch 17/30\n",
      "83/83 [==============================] - 3s 39ms/step - loss: 0.6822 - acc: 0.7297 - val_loss: 0.5083 - val_acc: 0.7808\n",
      "Epoch 18/30\n",
      "83/83 [==============================] - 3s 38ms/step - loss: 0.7113 - acc: 0.7214 - val_loss: 1.0719 - val_acc: 0.5814\n",
      "Epoch 19/30\n",
      "83/83 [==============================] - 3s 39ms/step - loss: 0.7423 - acc: 0.7126 - val_loss: 0.6851 - val_acc: 0.6788\n",
      "Epoch 20/30\n",
      "83/83 [==============================] - 3s 39ms/step - loss: 0.6608 - acc: 0.7358 - val_loss: 0.5202 - val_acc: 0.7900\n",
      "Epoch 21/30\n",
      "83/83 [==============================] - 3s 39ms/step - loss: 0.7044 - acc: 0.7214 - val_loss: 1.3673 - val_acc: 0.4840\n",
      "Epoch 22/30\n",
      "83/83 [==============================] - 3s 39ms/step - loss: 0.6355 - acc: 0.7415 - val_loss: 1.3876 - val_acc: 0.5525\n",
      "Epoch 23/30\n",
      "83/83 [==============================] - 3s 39ms/step - loss: 0.5971 - acc: 0.7571 - val_loss: 1.6278 - val_acc: 0.4581\n",
      "Epoch 24/30\n",
      "83/83 [==============================] - 3s 38ms/step - loss: 0.6034 - acc: 0.7556 - val_loss: 0.5059 - val_acc: 0.7352\n",
      "Epoch 25/30\n",
      "83/83 [==============================] - 3s 39ms/step - loss: 0.6428 - acc: 0.7526 - val_loss: 1.3507 - val_acc: 0.4947\n",
      "Epoch 26/30\n",
      "83/83 [==============================] - 3s 38ms/step - loss: 0.5698 - acc: 0.7663 - val_loss: 2.1418 - val_acc: 0.3760\n",
      "Epoch 27/30\n",
      "83/83 [==============================] - 3s 39ms/step - loss: 0.6433 - acc: 0.7549 - val_loss: 0.6239 - val_acc: 0.7032\n",
      "Epoch 28/30\n",
      "83/83 [==============================] - 3s 39ms/step - loss: 0.6401 - acc: 0.7533 - val_loss: 1.2012 - val_acc: 0.4551\n",
      "Epoch 29/30\n",
      "83/83 [==============================] - 3s 39ms/step - loss: 0.5750 - acc: 0.7674 - val_loss: 0.7064 - val_acc: 0.7291\n",
      "Epoch 30/30\n",
      "83/83 [==============================] - 3s 40ms/step - loss: 0.5664 - acc: 0.7769 - val_loss: 0.4868 - val_acc: 0.7869\n"
     ]
    }
   ],
   "source": [
    "# 模型训练\n",
    "tensorboard_callback = tf.keras.callbacks.TensorBoard(log_dir=log_dir, histogram_freq=1)\n",
    "history2 = cnnbilstm_model.fit(train_data2, train_label2,epochs=30, batch_size=32, validation_split=0.2,callbacks=[tensorboard_callback])"
   ]
  },
  {
   "cell_type": "code",
   "execution_count": 33,
   "metadata": {},
   "outputs": [
    {
     "name": "stdout",
     "output_type": "stream",
     "text": [
      "*****完成预处理，进行模型评估*****\n",
      "------------------测试集上得分：------------------------\n",
      "*****\n",
      "测试集准确率得分: 0.809\n",
      "*****\n",
      "准确率、召回率、f1-值测试报告如下:\n",
      "               precision    recall  f1-score   support\n",
      "\n",
      "           0       0.74      1.00      0.85       352\n",
      "           1       0.75      0.61      0.67       379\n",
      "           2       0.78      0.67      0.72       349\n",
      "           3       1.00      0.98      0.99       328\n",
      "\n",
      "    accuracy                           0.81      1408\n",
      "   macro avg       0.82      0.82      0.81      1408\n",
      "weighted avg       0.81      0.81      0.80      1408\n",
      "\n"
     ]
    }
   ],
   "source": [
    "from sklearn.metrics import roc_curve,roc_auc_score,classification_report,accuracy_score,log_loss\n",
    "print(\"*****完成预处理，进行模型评估*****\")\n",
    "y_pred2 = cnnbilstm_model.predict(val_data2)\n",
    "y_pred2= [np.argmax(x) for x in y_pred2]\n",
    "print('------------------测试集上得分：------------------------')\n",
    "print('*' * 5)\n",
    "print('测试集准确率得分:', round(accuracy_score(val_label2, y_pred2),3))\n",
    "print('*' * 5)\n",
    "print('准确率、召回率、f1-值测试报告如下:\\n', classification_report(val_label2, y_pred2))"
   ]
  },
  {
   "cell_type": "code",
   "execution_count": 36,
   "metadata": {},
   "outputs": [
    {
     "data": {
      "image/png": "[encoded data removed]",
      "text/plain": [
       "<Figure size 432x288 with 1 Axes>"
      ]
     },
     "metadata": {
      "needs_background": "light"
     },
     "output_type": "display_data"
    }
   ],
   "source": [
    "# 设置Y轴范围\n",
    "plt.ylim(0.1,1)\n",
    "# 训练准确率曲线\n",
    "show_data1_cnnbilstm2= history2.history['acc']\n",
    "# 测试准确率曲线\n",
    "plt.ylabel(\"Accuracy\")\n",
    "plt.xlabel(\"Epoch\")\n",
    "show_data2_cnnbilstm2= history2.history['val_acc']\n",
    "x_data2 = list(range(1,len(show_data1_cnnbilstm2)+1))\n",
    "ln1, = plt.plot(x_data2,show_data1_cnnbilstm2,color='blue',linewidth=2.0,linestyle='--')\n",
    "ln2, = plt.plot(x_data2,show_data2_cnnbilstm2,color='red',linewidth=3.0,linestyle='-.')\n",
    "plt.legend(handles=[ln1,ln2],labels=['train','val'])\n",
    "plt.show()"
   ]
  },
  {
   "cell_type": "code",
   "execution_count": null,
   "metadata": {},
   "outputs": [],
   "source": []
  }
 ],
 "metadata": {
  "kernelspec": {
   "display_name": "pytorch",
   "language": "python",
   "name": "pytorch"
  },
  "language_info": {
   "codemirror_mode": {
    "name": "ipython",
    "version": 3
   },
   "file_extension": ".py",
   "mimetype": "text/x-python",
   "name": "python",
   "nbconvert_exporter": "python",
   "pygments_lexer": "ipython3",
   "version": "3.6.13"
  }
 },
 "nbformat": 4,
 "nbformat_minor": 2
}
