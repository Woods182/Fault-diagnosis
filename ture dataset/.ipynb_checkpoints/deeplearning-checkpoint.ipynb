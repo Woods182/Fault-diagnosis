{
 "cells": [
  {
   "cell_type": "code",
   "execution_count": 1,
   "metadata": {},
   "outputs": [],
   "source": [
    "import os\n",
    "import matplotlib.pyplot as plt\n",
    "from collections import Counter\n",
    "import numpy as np\n",
    "import tensorflow as tf"
   ]
  },
  {
   "cell_type": "code",
   "execution_count": 2,
   "metadata": {},
   "outputs": [],
   "source": [
    "def load_data(data_name,label_name):\n",
    "    path_x=os.path.join('train_data',data_name)\n",
    "    path_y=os.path.join('train_data',label_name)\n",
    "    # 读取数据\n",
    "    x = np.load(path_x)\n",
    "    y = np.load(path_y)\n",
    "    num = len(Counter(y))\n",
    "    print(\"类别数量为：\", num)\n",
    "    return x, y, num"
   ]
  },
  {
   "cell_type": "code",
   "execution_count": 3,
   "metadata": {},
   "outputs": [],
   "source": [
    "def create_train_data(x, y, ratio=0.7):\n",
    "    \"\"\"\n",
    "    x:data\n",
    "    y:labal\n",
    "    ratio:生成训练集比率\n",
    "    \"\"\"\n",
    "    # 打乱顺序\n",
    "    # 读取data矩阵的第一维数（数据个数）\n",
    "    num_example = x.shape[0]\n",
    "    # 产生一个num_example范围，步长为1的序列\n",
    "    arr = np.arange(num_example)\n",
    "    # 调用函数，打乱顺序\n",
    "    np.random.seed(99)\n",
    "    np.random.shuffle(arr)\n",
    "    # 按照打乱的顺序，重新排序\n",
    "    arr_data = x[arr]\n",
    "    arr_label = y[arr]\n",
    "    # 将数据集分为训练集80%、测试集20%\n",
    "    s = int(num_example * ratio)\n",
    "    x_train = arr_data[:s]\n",
    "    y_train = arr_label[:s]\n",
    "    x_val = arr_data[s:]\n",
    "    y_val = arr_label[s:]\n",
    "    print(\"训练集shape\", x_train.shape)\n",
    "    print(\"训练集类别：\", Counter(y_train))\n",
    "    print(\"测试集shape\", x_val.shape)\n",
    "    print(\"测试集类别：\", Counter(y_val))\n",
    "    return x_train, y_train, x_val, y_val"
   ]
  },
  {
   "cell_type": "code",
   "execution_count": 4,
   "metadata": {},
   "outputs": [
    {
     "name": "stdout",
     "output_type": "stream",
     "text": [
      "类别数量为： 4\n",
      "训练集shape (3284, 2015, 1)\n",
      "训练集类别： Counter({1: 857, 2: 831, 0: 828, 3: 768})\n",
      "测试集shape (1408, 2015, 1)\n",
      "测试集类别： Counter({1: 379, 0: 352, 2: 349, 3: 328})\n",
      "**********\n",
      "训练集数量： 3284\n",
      "测试集数量： 1408\n"
     ]
    }
   ],
   "source": [
    "# 读取数据\n",
    "data, label, label_count = load_data('train_data_nodenoise.npy','label_nodenoise.npy')\n",
    "# 生成训练集测试集,70%用作训练，30%用作测试\n",
    "train_data, train_label, val_data, val_label = create_train_data(data, label, 0.7)\n",
    "print(\"*\"*10)\n",
    "print(\"训练集数量：\",len(train_label))\n",
    "print(\"测试集数量：\",len(val_label))"
   ]
  },
  {
   "cell_type": "markdown",
   "metadata": {},
   "source": [
    "# 模型训练"
   ]
  },
  {
   "cell_type": "code",
   "execution_count": 5,
   "metadata": {},
   "outputs": [
    {
     "name": "stdout",
     "output_type": "stream",
     "text": [
      "WARNING:tensorflow:From <ipython-input-5-3bf4ee66d380>:4: is_gpu_available (from tensorflow.python.framework.test_util) is deprecated and will be removed in a future version.\n",
      "Instructions for updating:\n",
      "Use `tf.config.list_physical_devices('GPU')` instead.\n",
      "True\n"
     ]
    }
   ],
   "source": [
    "from tensorflow import keras\n",
    "from tensorflow.keras import layers, models\n",
    "# 查看GPU是否可用\n",
    "print(tf.test.is_gpu_available())"
   ]
  },
  {
   "cell_type": "markdown",
   "metadata": {},
   "source": [
    "## CNN—BiLSTM"
   ]
  },
  {
   "cell_type": "code",
   "execution_count": 6,
   "metadata": {},
   "outputs": [],
   "source": [
    "from tensorflow.keras.layers import  LSTM,Bidirectional\n",
    "def cnnbilstm_create():\n",
    "    loss = 'sparse_categorical_crossentropy'\n",
    "    metrics = ['acc']\n",
    "    inputs = keras.Input(shape=(2015, 1))\n",
    "    #x = layers.Conv1D(32, 3, activation='relu')(inputs)\n",
    "    x = layers.Conv1D(64, 3, activation='relu')(inputs)\n",
    "    x = layers.MaxPooling1D(16)(x)\n",
    "    x = layers.Conv1D(64, 3, activation='relu')(x)\n",
    "    x=Bidirectional(LSTM(32))(x)\n",
    "    # 添加一个CNN层,return_sequences=True\n",
    "    #x = layers.Conv1D(64, 3, activation='relu')(x)\n",
    "    # 全局平均池化GAP层\n",
    "    #x = layers.GlobalAveragePooling1D()(x)\n",
    "        # 几个密集分类层\n",
    "    #x = layers.Dense(256, activation='relu')(x)\n",
    "    #x = layers.GlobalAveragePooling1D()(x)\n",
    "    # 几个密集分类层\n",
    "    #x = layers.Dense(32, activation='relu')(x)\n",
    "    # 退出层\n",
    "    x = layers.Dropout(0.1)(x)\n",
    "    outputs = layers.Dense(4, activation='softmax')(x)\n",
    "    model = keras.Model(inputs, outputs)\n",
    "    model.compile(optimizer='rmsprop',\n",
    "                  loss=loss,\n",
    "                  metrics=metrics)\n",
    "    print(\"实例化模型成功，参数如下：\")\n",
    "    print(model.summary())\n",
    "    return model"
   ]
  },
  {
   "cell_type": "code",
   "execution_count": 7,
   "metadata": {
    "scrolled": true
   },
   "outputs": [
    {
     "name": "stdout",
     "output_type": "stream",
     "text": [
      "实例化模型成功，参数如下：\n",
      "Model: \"functional_1\"\n",
      "_________________________________________________________________\n",
      "Layer (type)                 Output Shape              Param #   \n",
      "=================================================================\n",
      "input_1 (InputLayer)         [(None, 2015, 1)]         0         \n",
      "_________________________________________________________________\n",
      "conv1d (Conv1D)              (None, 2013, 64)          256       \n",
      "_________________________________________________________________\n",
      "max_pooling1d (MaxPooling1D) (None, 125, 64)           0         \n",
      "_________________________________________________________________\n",
      "conv1d_1 (Conv1D)            (None, 123, 64)           12352     \n",
      "_________________________________________________________________\n",
      "bidirectional (Bidirectional (None, 64)                24832     \n",
      "_________________________________________________________________\n",
      "dropout (Dropout)            (None, 64)                0         \n",
      "_________________________________________________________________\n",
      "dense (Dense)                (None, 4)                 260       \n",
      "=================================================================\n",
      "Total params: 37,700\n",
      "Trainable params: 37,700\n",
      "Non-trainable params: 0\n",
      "_________________________________________________________________\n",
      "None\n"
     ]
    }
   ],
   "source": [
    "# 实例化模型\n",
    "cnnbilstm_model = cnnbilstm_create()\n",
    "\n",
    "# 设置模型log输出地址\n",
    "log_dir = os.path.join(\"logs/CNN_BiLSTM2\")\n",
    "if not os.path.exists(log_dir):\n",
    "    os.mkdir(log_dir)"
   ]
  },
  {
   "cell_type": "code",
   "execution_count": 17,
   "metadata": {},
   "outputs": [
    {
     "name": "stdout",
     "output_type": "stream",
     "text": [
      "Epoch 1/30\n",
      " 2/83 [..............................] - ETA: 7s - loss: 2.0340 - acc: 0.3906WARNING:tensorflow:Callbacks method `on_train_batch_end` is slow compared to the batch time (batch time: 0.0359s vs `on_train_batch_end` time: 0.0989s). Check your callbacks.\n",
      "83/83 [==============================] - 3s 41ms/step - loss: 0.5770 - acc: 0.7092 - val_loss: 1.4516 - val_acc: 0.4947\n",
      "Epoch 2/30\n",
      "83/83 [==============================] - 3s 36ms/step - loss: 0.4738 - acc: 0.7583 - val_loss: 0.4287 - val_acc: 0.7306\n",
      "Epoch 3/30\n",
      "83/83 [==============================] - 3s 35ms/step - loss: 0.4549 - acc: 0.7769 - val_loss: 0.3510 - val_acc: 0.8143\n",
      "Epoch 4/30\n",
      "83/83 [==============================] - 3s 36ms/step - loss: 0.4767 - acc: 0.7705 - val_loss: 0.4802 - val_acc: 0.7702\n",
      "Epoch 5/30\n",
      "83/83 [==============================] - 3s 36ms/step - loss: 0.4300 - acc: 0.7887 - val_loss: 0.3734 - val_acc: 0.7747\n",
      "Epoch 6/30\n",
      "51/83 [=================>............] - ETA: 1s - loss: 0.3853 - acc: 0.8015"
     ]
    },
    {
     "ename": "KeyboardInterrupt",
     "evalue": "",
     "output_type": "error",
     "traceback": [
      "\u001b[1;31m---------------------------------------------------------------------------\u001b[0m",
      "\u001b[1;31mKeyboardInterrupt\u001b[0m                         Traceback (most recent call last)",
      "\u001b[1;32m<ipython-input-17-fe81f71b2391>\u001b[0m in \u001b[0;36m<module>\u001b[1;34m\u001b[0m\n\u001b[0;32m      1\u001b[0m \u001b[1;31m# 模型训练\u001b[0m\u001b[1;33m\u001b[0m\u001b[1;33m\u001b[0m\u001b[1;33m\u001b[0m\u001b[0m\n\u001b[0;32m      2\u001b[0m \u001b[0mtensorboard_callback\u001b[0m \u001b[1;33m=\u001b[0m \u001b[0mtf\u001b[0m\u001b[1;33m.\u001b[0m\u001b[0mkeras\u001b[0m\u001b[1;33m.\u001b[0m\u001b[0mcallbacks\u001b[0m\u001b[1;33m.\u001b[0m\u001b[0mTensorBoard\u001b[0m\u001b[1;33m(\u001b[0m\u001b[0mlog_dir\u001b[0m\u001b[1;33m=\u001b[0m\u001b[0mlog_dir\u001b[0m\u001b[1;33m,\u001b[0m \u001b[0mhistogram_freq\u001b[0m\u001b[1;33m=\u001b[0m\u001b[1;36m1\u001b[0m\u001b[1;33m)\u001b[0m\u001b[1;33m\u001b[0m\u001b[1;33m\u001b[0m\u001b[0m\n\u001b[1;32m----> 3\u001b[1;33m \u001b[0mhistory\u001b[0m \u001b[1;33m=\u001b[0m \u001b[0mcnnbilstm_model\u001b[0m\u001b[1;33m.\u001b[0m\u001b[0mfit\u001b[0m\u001b[1;33m(\u001b[0m\u001b[0mtrain_data\u001b[0m\u001b[1;33m,\u001b[0m \u001b[0mtrain_label\u001b[0m\u001b[1;33m,\u001b[0m\u001b[0mepochs\u001b[0m\u001b[1;33m=\u001b[0m\u001b[1;36m30\u001b[0m\u001b[1;33m,\u001b[0m \u001b[0mbatch_size\u001b[0m\u001b[1;33m=\u001b[0m\u001b[1;36m32\u001b[0m\u001b[1;33m,\u001b[0m \u001b[0mvalidation_split\u001b[0m\u001b[1;33m=\u001b[0m\u001b[1;36m0.2\u001b[0m\u001b[1;33m,\u001b[0m\u001b[0mcallbacks\u001b[0m\u001b[1;33m=\u001b[0m\u001b[1;33m[\u001b[0m\u001b[0mtensorboard_callback\u001b[0m\u001b[1;33m]\u001b[0m\u001b[1;33m)\u001b[0m\u001b[1;33m\u001b[0m\u001b[1;33m\u001b[0m\u001b[0m\n\u001b[0m",
      "\u001b[1;32m~\\AppData\\Roaming\\Python\\Python36\\site-packages\\tensorflow\\python\\keras\\engine\\training.py\u001b[0m in \u001b[0;36m_method_wrapper\u001b[1;34m(self, *args, **kwargs)\u001b[0m\n\u001b[0;32m    106\u001b[0m   \u001b[1;32mdef\u001b[0m \u001b[0m_method_wrapper\u001b[0m\u001b[1;33m(\u001b[0m\u001b[0mself\u001b[0m\u001b[1;33m,\u001b[0m \u001b[1;33m*\u001b[0m\u001b[0margs\u001b[0m\u001b[1;33m,\u001b[0m \u001b[1;33m**\u001b[0m\u001b[0mkwargs\u001b[0m\u001b[1;33m)\u001b[0m\u001b[1;33m:\u001b[0m\u001b[1;33m\u001b[0m\u001b[1;33m\u001b[0m\u001b[0m\n\u001b[0;32m    107\u001b[0m     \u001b[1;32mif\u001b[0m \u001b[1;32mnot\u001b[0m \u001b[0mself\u001b[0m\u001b[1;33m.\u001b[0m\u001b[0m_in_multi_worker_mode\u001b[0m\u001b[1;33m(\u001b[0m\u001b[1;33m)\u001b[0m\u001b[1;33m:\u001b[0m  \u001b[1;31m# pylint: disable=protected-access\u001b[0m\u001b[1;33m\u001b[0m\u001b[1;33m\u001b[0m\u001b[0m\n\u001b[1;32m--> 108\u001b[1;33m       \u001b[1;32mreturn\u001b[0m \u001b[0mmethod\u001b[0m\u001b[1;33m(\u001b[0m\u001b[0mself\u001b[0m\u001b[1;33m,\u001b[0m \u001b[1;33m*\u001b[0m\u001b[0margs\u001b[0m\u001b[1;33m,\u001b[0m \u001b[1;33m**\u001b[0m\u001b[0mkwargs\u001b[0m\u001b[1;33m)\u001b[0m\u001b[1;33m\u001b[0m\u001b[1;33m\u001b[0m\u001b[0m\n\u001b[0m\u001b[0;32m    109\u001b[0m \u001b[1;33m\u001b[0m\u001b[0m\n\u001b[0;32m    110\u001b[0m     \u001b[1;31m# Running inside `run_distribute_coordinator` already.\u001b[0m\u001b[1;33m\u001b[0m\u001b[1;33m\u001b[0m\u001b[1;33m\u001b[0m\u001b[0m\n",
      "\u001b[1;32m~\\AppData\\Roaming\\Python\\Python36\\site-packages\\tensorflow\\python\\keras\\engine\\training.py\u001b[0m in \u001b[0;36mfit\u001b[1;34m(self, x, y, batch_size, epochs, verbose, callbacks, validation_split, validation_data, shuffle, class_weight, sample_weight, initial_epoch, steps_per_epoch, validation_steps, validation_batch_size, validation_freq, max_queue_size, workers, use_multiprocessing)\u001b[0m\n\u001b[0;32m   1101\u001b[0m               \u001b[0mlogs\u001b[0m \u001b[1;33m=\u001b[0m \u001b[0mtmp_logs\u001b[0m  \u001b[1;31m# No error, now safe to assign to logs.\u001b[0m\u001b[1;33m\u001b[0m\u001b[1;33m\u001b[0m\u001b[0m\n\u001b[0;32m   1102\u001b[0m               \u001b[0mend_step\u001b[0m \u001b[1;33m=\u001b[0m \u001b[0mstep\u001b[0m \u001b[1;33m+\u001b[0m \u001b[0mdata_handler\u001b[0m\u001b[1;33m.\u001b[0m\u001b[0mstep_increment\u001b[0m\u001b[1;33m\u001b[0m\u001b[1;33m\u001b[0m\u001b[0m\n\u001b[1;32m-> 1103\u001b[1;33m               \u001b[0mcallbacks\u001b[0m\u001b[1;33m.\u001b[0m\u001b[0mon_train_batch_end\u001b[0m\u001b[1;33m(\u001b[0m\u001b[0mend_step\u001b[0m\u001b[1;33m,\u001b[0m \u001b[0mlogs\u001b[0m\u001b[1;33m)\u001b[0m\u001b[1;33m\u001b[0m\u001b[1;33m\u001b[0m\u001b[0m\n\u001b[0m\u001b[0;32m   1104\u001b[0m         \u001b[0mepoch_logs\u001b[0m \u001b[1;33m=\u001b[0m \u001b[0mcopy\u001b[0m\u001b[1;33m.\u001b[0m\u001b[0mcopy\u001b[0m\u001b[1;33m(\u001b[0m\u001b[0mlogs\u001b[0m\u001b[1;33m)\u001b[0m\u001b[1;33m\u001b[0m\u001b[1;33m\u001b[0m\u001b[0m\n\u001b[0;32m   1105\u001b[0m \u001b[1;33m\u001b[0m\u001b[0m\n",
      "\u001b[1;32m~\\AppData\\Roaming\\Python\\Python36\\site-packages\\tensorflow\\python\\keras\\callbacks.py\u001b[0m in \u001b[0;36mon_train_batch_end\u001b[1;34m(self, batch, logs)\u001b[0m\n\u001b[0;32m    438\u001b[0m     \"\"\"\n\u001b[0;32m    439\u001b[0m     \u001b[1;32mif\u001b[0m \u001b[0mself\u001b[0m\u001b[1;33m.\u001b[0m\u001b[0m_should_call_train_batch_hooks\u001b[0m\u001b[1;33m:\u001b[0m\u001b[1;33m\u001b[0m\u001b[1;33m\u001b[0m\u001b[0m\n\u001b[1;32m--> 440\u001b[1;33m       \u001b[0mself\u001b[0m\u001b[1;33m.\u001b[0m\u001b[0m_call_batch_hook\u001b[0m\u001b[1;33m(\u001b[0m\u001b[0mModeKeys\u001b[0m\u001b[1;33m.\u001b[0m\u001b[0mTRAIN\u001b[0m\u001b[1;33m,\u001b[0m \u001b[1;34m'end'\u001b[0m\u001b[1;33m,\u001b[0m \u001b[0mbatch\u001b[0m\u001b[1;33m,\u001b[0m \u001b[0mlogs\u001b[0m\u001b[1;33m=\u001b[0m\u001b[0mlogs\u001b[0m\u001b[1;33m)\u001b[0m\u001b[1;33m\u001b[0m\u001b[1;33m\u001b[0m\u001b[0m\n\u001b[0m\u001b[0;32m    441\u001b[0m \u001b[1;33m\u001b[0m\u001b[0m\n\u001b[0;32m    442\u001b[0m   \u001b[1;32mdef\u001b[0m \u001b[0mon_test_batch_begin\u001b[0m\u001b[1;33m(\u001b[0m\u001b[0mself\u001b[0m\u001b[1;33m,\u001b[0m \u001b[0mbatch\u001b[0m\u001b[1;33m,\u001b[0m \u001b[0mlogs\u001b[0m\u001b[1;33m=\u001b[0m\u001b[1;32mNone\u001b[0m\u001b[1;33m)\u001b[0m\u001b[1;33m:\u001b[0m\u001b[1;33m\u001b[0m\u001b[1;33m\u001b[0m\u001b[0m\n",
      "\u001b[1;32m~\\AppData\\Roaming\\Python\\Python36\\site-packages\\tensorflow\\python\\keras\\callbacks.py\u001b[0m in \u001b[0;36m_call_batch_hook\u001b[1;34m(self, mode, hook, batch, logs)\u001b[0m\n\u001b[0;32m    287\u001b[0m       \u001b[0mself\u001b[0m\u001b[1;33m.\u001b[0m\u001b[0m_call_batch_begin_hook\u001b[0m\u001b[1;33m(\u001b[0m\u001b[0mmode\u001b[0m\u001b[1;33m,\u001b[0m \u001b[0mbatch\u001b[0m\u001b[1;33m,\u001b[0m \u001b[0mlogs\u001b[0m\u001b[1;33m)\u001b[0m\u001b[1;33m\u001b[0m\u001b[1;33m\u001b[0m\u001b[0m\n\u001b[0;32m    288\u001b[0m     \u001b[1;32melif\u001b[0m \u001b[0mhook\u001b[0m \u001b[1;33m==\u001b[0m \u001b[1;34m'end'\u001b[0m\u001b[1;33m:\u001b[0m\u001b[1;33m\u001b[0m\u001b[1;33m\u001b[0m\u001b[0m\n\u001b[1;32m--> 289\u001b[1;33m       \u001b[0mself\u001b[0m\u001b[1;33m.\u001b[0m\u001b[0m_call_batch_end_hook\u001b[0m\u001b[1;33m(\u001b[0m\u001b[0mmode\u001b[0m\u001b[1;33m,\u001b[0m \u001b[0mbatch\u001b[0m\u001b[1;33m,\u001b[0m \u001b[0mlogs\u001b[0m\u001b[1;33m)\u001b[0m\u001b[1;33m\u001b[0m\u001b[1;33m\u001b[0m\u001b[0m\n\u001b[0m\u001b[0;32m    290\u001b[0m     \u001b[1;32melse\u001b[0m\u001b[1;33m:\u001b[0m\u001b[1;33m\u001b[0m\u001b[1;33m\u001b[0m\u001b[0m\n\u001b[0;32m    291\u001b[0m       \u001b[1;32mraise\u001b[0m \u001b[0mValueError\u001b[0m\u001b[1;33m(\u001b[0m\u001b[1;34m'Unrecognized hook: {}'\u001b[0m\u001b[1;33m.\u001b[0m\u001b[0mformat\u001b[0m\u001b[1;33m(\u001b[0m\u001b[0mhook\u001b[0m\u001b[1;33m)\u001b[0m\u001b[1;33m)\u001b[0m\u001b[1;33m\u001b[0m\u001b[1;33m\u001b[0m\u001b[0m\n",
      "\u001b[1;32m~\\AppData\\Roaming\\Python\\Python36\\site-packages\\tensorflow\\python\\keras\\callbacks.py\u001b[0m in \u001b[0;36m_call_batch_end_hook\u001b[1;34m(self, mode, batch, logs)\u001b[0m\n\u001b[0;32m    307\u001b[0m       \u001b[0mbatch_time\u001b[0m \u001b[1;33m=\u001b[0m \u001b[0mtime\u001b[0m\u001b[1;33m.\u001b[0m\u001b[0mtime\u001b[0m\u001b[1;33m(\u001b[0m\u001b[1;33m)\u001b[0m \u001b[1;33m-\u001b[0m \u001b[0mself\u001b[0m\u001b[1;33m.\u001b[0m\u001b[0m_batch_start_time\u001b[0m\u001b[1;33m\u001b[0m\u001b[1;33m\u001b[0m\u001b[0m\n\u001b[0;32m    308\u001b[0m \u001b[1;33m\u001b[0m\u001b[0m\n\u001b[1;32m--> 309\u001b[1;33m     \u001b[0mself\u001b[0m\u001b[1;33m.\u001b[0m\u001b[0m_call_batch_hook_helper\u001b[0m\u001b[1;33m(\u001b[0m\u001b[0mhook_name\u001b[0m\u001b[1;33m,\u001b[0m \u001b[0mbatch\u001b[0m\u001b[1;33m,\u001b[0m \u001b[0mlogs\u001b[0m\u001b[1;33m)\u001b[0m\u001b[1;33m\u001b[0m\u001b[1;33m\u001b[0m\u001b[0m\n\u001b[0m\u001b[0;32m    310\u001b[0m \u001b[1;33m\u001b[0m\u001b[0m\n\u001b[0;32m    311\u001b[0m     \u001b[1;32mif\u001b[0m \u001b[0mself\u001b[0m\u001b[1;33m.\u001b[0m\u001b[0m_check_timing\u001b[0m\u001b[1;33m:\u001b[0m\u001b[1;33m\u001b[0m\u001b[1;33m\u001b[0m\u001b[0m\n",
      "\u001b[1;32m~\\AppData\\Roaming\\Python\\Python36\\site-packages\\tensorflow\\python\\keras\\callbacks.py\u001b[0m in \u001b[0;36m_call_batch_hook_helper\u001b[1;34m(self, hook_name, batch, logs)\u001b[0m\n\u001b[0;32m    340\u001b[0m       \u001b[0mhook\u001b[0m \u001b[1;33m=\u001b[0m \u001b[0mgetattr\u001b[0m\u001b[1;33m(\u001b[0m\u001b[0mcallback\u001b[0m\u001b[1;33m,\u001b[0m \u001b[0mhook_name\u001b[0m\u001b[1;33m)\u001b[0m\u001b[1;33m\u001b[0m\u001b[1;33m\u001b[0m\u001b[0m\n\u001b[0;32m    341\u001b[0m       \u001b[1;32mif\u001b[0m \u001b[0mgetattr\u001b[0m\u001b[1;33m(\u001b[0m\u001b[0mcallback\u001b[0m\u001b[1;33m,\u001b[0m \u001b[1;34m'_supports_tf_logs'\u001b[0m\u001b[1;33m,\u001b[0m \u001b[1;32mFalse\u001b[0m\u001b[1;33m)\u001b[0m\u001b[1;33m:\u001b[0m\u001b[1;33m\u001b[0m\u001b[1;33m\u001b[0m\u001b[0m\n\u001b[1;32m--> 342\u001b[1;33m         \u001b[0mhook\u001b[0m\u001b[1;33m(\u001b[0m\u001b[0mbatch\u001b[0m\u001b[1;33m,\u001b[0m \u001b[0mlogs\u001b[0m\u001b[1;33m)\u001b[0m\u001b[1;33m\u001b[0m\u001b[1;33m\u001b[0m\u001b[0m\n\u001b[0m\u001b[0;32m    343\u001b[0m       \u001b[1;32melse\u001b[0m\u001b[1;33m:\u001b[0m\u001b[1;33m\u001b[0m\u001b[1;33m\u001b[0m\u001b[0m\n\u001b[0;32m    344\u001b[0m         \u001b[1;32mif\u001b[0m \u001b[0mnumpy_logs\u001b[0m \u001b[1;32mis\u001b[0m \u001b[1;32mNone\u001b[0m\u001b[1;33m:\u001b[0m  \u001b[1;31m# Only convert once.\u001b[0m\u001b[1;33m\u001b[0m\u001b[1;33m\u001b[0m\u001b[0m\n",
      "\u001b[1;32m~\\AppData\\Roaming\\Python\\Python36\\site-packages\\tensorflow\\python\\keras\\callbacks.py\u001b[0m in \u001b[0;36mon_train_batch_end\u001b[1;34m(self, batch, logs)\u001b[0m\n\u001b[0;32m    959\u001b[0m \u001b[1;33m\u001b[0m\u001b[0m\n\u001b[0;32m    960\u001b[0m   \u001b[1;32mdef\u001b[0m \u001b[0mon_train_batch_end\u001b[0m\u001b[1;33m(\u001b[0m\u001b[0mself\u001b[0m\u001b[1;33m,\u001b[0m \u001b[0mbatch\u001b[0m\u001b[1;33m,\u001b[0m \u001b[0mlogs\u001b[0m\u001b[1;33m=\u001b[0m\u001b[1;32mNone\u001b[0m\u001b[1;33m)\u001b[0m\u001b[1;33m:\u001b[0m\u001b[1;33m\u001b[0m\u001b[1;33m\u001b[0m\u001b[0m\n\u001b[1;32m--> 961\u001b[1;33m     \u001b[0mself\u001b[0m\u001b[1;33m.\u001b[0m\u001b[0m_batch_update_progbar\u001b[0m\u001b[1;33m(\u001b[0m\u001b[0mbatch\u001b[0m\u001b[1;33m,\u001b[0m \u001b[0mlogs\u001b[0m\u001b[1;33m)\u001b[0m\u001b[1;33m\u001b[0m\u001b[1;33m\u001b[0m\u001b[0m\n\u001b[0m\u001b[0;32m    962\u001b[0m \u001b[1;33m\u001b[0m\u001b[0m\n\u001b[0;32m    963\u001b[0m   \u001b[1;32mdef\u001b[0m \u001b[0mon_test_batch_end\u001b[0m\u001b[1;33m(\u001b[0m\u001b[0mself\u001b[0m\u001b[1;33m,\u001b[0m \u001b[0mbatch\u001b[0m\u001b[1;33m,\u001b[0m \u001b[0mlogs\u001b[0m\u001b[1;33m=\u001b[0m\u001b[1;32mNone\u001b[0m\u001b[1;33m)\u001b[0m\u001b[1;33m:\u001b[0m\u001b[1;33m\u001b[0m\u001b[1;33m\u001b[0m\u001b[0m\n",
      "\u001b[1;32m~\\AppData\\Roaming\\Python\\Python36\\site-packages\\tensorflow\\python\\keras\\callbacks.py\u001b[0m in \u001b[0;36m_batch_update_progbar\u001b[1;34m(self, batch, logs)\u001b[0m\n\u001b[0;32m   1014\u001b[0m     \u001b[1;32mif\u001b[0m \u001b[0mself\u001b[0m\u001b[1;33m.\u001b[0m\u001b[0mverbose\u001b[0m \u001b[1;33m==\u001b[0m \u001b[1;36m1\u001b[0m\u001b[1;33m:\u001b[0m\u001b[1;33m\u001b[0m\u001b[1;33m\u001b[0m\u001b[0m\n\u001b[0;32m   1015\u001b[0m       \u001b[1;31m# Only block async when verbose = 1.\u001b[0m\u001b[1;33m\u001b[0m\u001b[1;33m\u001b[0m\u001b[1;33m\u001b[0m\u001b[0m\n\u001b[1;32m-> 1016\u001b[1;33m       \u001b[0mlogs\u001b[0m \u001b[1;33m=\u001b[0m \u001b[0mtf_utils\u001b[0m\u001b[1;33m.\u001b[0m\u001b[0mto_numpy_or_python_type\u001b[0m\u001b[1;33m(\u001b[0m\u001b[0mlogs\u001b[0m\u001b[1;33m)\u001b[0m\u001b[1;33m\u001b[0m\u001b[1;33m\u001b[0m\u001b[0m\n\u001b[0m\u001b[0;32m   1017\u001b[0m       \u001b[0mself\u001b[0m\u001b[1;33m.\u001b[0m\u001b[0mprogbar\u001b[0m\u001b[1;33m.\u001b[0m\u001b[0mupdate\u001b[0m\u001b[1;33m(\u001b[0m\u001b[0mself\u001b[0m\u001b[1;33m.\u001b[0m\u001b[0mseen\u001b[0m\u001b[1;33m,\u001b[0m \u001b[0mlist\u001b[0m\u001b[1;33m(\u001b[0m\u001b[0mlogs\u001b[0m\u001b[1;33m.\u001b[0m\u001b[0mitems\u001b[0m\u001b[1;33m(\u001b[0m\u001b[1;33m)\u001b[0m\u001b[1;33m)\u001b[0m\u001b[1;33m,\u001b[0m \u001b[0mfinalize\u001b[0m\u001b[1;33m=\u001b[0m\u001b[1;32mFalse\u001b[0m\u001b[1;33m)\u001b[0m\u001b[1;33m\u001b[0m\u001b[1;33m\u001b[0m\u001b[0m\n\u001b[0;32m   1018\u001b[0m \u001b[1;33m\u001b[0m\u001b[0m\n",
      "\u001b[1;32m~\\AppData\\Roaming\\Python\\Python36\\site-packages\\tensorflow\\python\\keras\\utils\\tf_utils.py\u001b[0m in \u001b[0;36mto_numpy_or_python_type\u001b[1;34m(tensors)\u001b[0m\n\u001b[0;32m    535\u001b[0m     \u001b[1;32mreturn\u001b[0m \u001b[0mt\u001b[0m  \u001b[1;31m# Don't turn ragged or sparse tensors to NumPy.\u001b[0m\u001b[1;33m\u001b[0m\u001b[1;33m\u001b[0m\u001b[0m\n\u001b[0;32m    536\u001b[0m \u001b[1;33m\u001b[0m\u001b[0m\n\u001b[1;32m--> 537\u001b[1;33m   \u001b[1;32mreturn\u001b[0m \u001b[0mnest\u001b[0m\u001b[1;33m.\u001b[0m\u001b[0mmap_structure\u001b[0m\u001b[1;33m(\u001b[0m\u001b[0m_to_single_numpy_or_python_type\u001b[0m\u001b[1;33m,\u001b[0m \u001b[0mtensors\u001b[0m\u001b[1;33m)\u001b[0m\u001b[1;33m\u001b[0m\u001b[1;33m\u001b[0m\u001b[0m\n\u001b[0m\u001b[0;32m    538\u001b[0m \u001b[1;33m\u001b[0m\u001b[0m\n\u001b[0;32m    539\u001b[0m \u001b[1;33m\u001b[0m\u001b[0m\n",
      "\u001b[1;32m~\\AppData\\Roaming\\Python\\Python36\\site-packages\\tensorflow\\python\\util\\nest.py\u001b[0m in \u001b[0;36mmap_structure\u001b[1;34m(func, *structure, **kwargs)\u001b[0m\n\u001b[0;32m    633\u001b[0m \u001b[1;33m\u001b[0m\u001b[0m\n\u001b[0;32m    634\u001b[0m   return pack_sequence_as(\n\u001b[1;32m--> 635\u001b[1;33m       \u001b[0mstructure\u001b[0m\u001b[1;33m[\u001b[0m\u001b[1;36m0\u001b[0m\u001b[1;33m]\u001b[0m\u001b[1;33m,\u001b[0m \u001b[1;33m[\u001b[0m\u001b[0mfunc\u001b[0m\u001b[1;33m(\u001b[0m\u001b[1;33m*\u001b[0m\u001b[0mx\u001b[0m\u001b[1;33m)\u001b[0m \u001b[1;32mfor\u001b[0m \u001b[0mx\u001b[0m \u001b[1;32min\u001b[0m \u001b[0mentries\u001b[0m\u001b[1;33m]\u001b[0m\u001b[1;33m,\u001b[0m\u001b[1;33m\u001b[0m\u001b[1;33m\u001b[0m\u001b[0m\n\u001b[0m\u001b[0;32m    636\u001b[0m       expand_composites=expand_composites)\n\u001b[0;32m    637\u001b[0m \u001b[1;33m\u001b[0m\u001b[0m\n",
      "\u001b[1;32m~\\AppData\\Roaming\\Python\\Python36\\site-packages\\tensorflow\\python\\util\\nest.py\u001b[0m in \u001b[0;36m<listcomp>\u001b[1;34m(.0)\u001b[0m\n\u001b[0;32m    633\u001b[0m \u001b[1;33m\u001b[0m\u001b[0m\n\u001b[0;32m    634\u001b[0m   return pack_sequence_as(\n\u001b[1;32m--> 635\u001b[1;33m       \u001b[0mstructure\u001b[0m\u001b[1;33m[\u001b[0m\u001b[1;36m0\u001b[0m\u001b[1;33m]\u001b[0m\u001b[1;33m,\u001b[0m \u001b[1;33m[\u001b[0m\u001b[0mfunc\u001b[0m\u001b[1;33m(\u001b[0m\u001b[1;33m*\u001b[0m\u001b[0mx\u001b[0m\u001b[1;33m)\u001b[0m \u001b[1;32mfor\u001b[0m \u001b[0mx\u001b[0m \u001b[1;32min\u001b[0m \u001b[0mentries\u001b[0m\u001b[1;33m]\u001b[0m\u001b[1;33m,\u001b[0m\u001b[1;33m\u001b[0m\u001b[1;33m\u001b[0m\u001b[0m\n\u001b[0m\u001b[0;32m    636\u001b[0m       expand_composites=expand_composites)\n\u001b[0;32m    637\u001b[0m \u001b[1;33m\u001b[0m\u001b[0m\n",
      "\u001b[1;32m~\\AppData\\Roaming\\Python\\Python36\\site-packages\\tensorflow\\python\\keras\\utils\\tf_utils.py\u001b[0m in \u001b[0;36m_to_single_numpy_or_python_type\u001b[1;34m(t)\u001b[0m\n\u001b[0;32m    531\u001b[0m   \u001b[1;32mdef\u001b[0m \u001b[0m_to_single_numpy_or_python_type\u001b[0m\u001b[1;33m(\u001b[0m\u001b[0mt\u001b[0m\u001b[1;33m)\u001b[0m\u001b[1;33m:\u001b[0m\u001b[1;33m\u001b[0m\u001b[1;33m\u001b[0m\u001b[0m\n\u001b[0;32m    532\u001b[0m     \u001b[1;32mif\u001b[0m \u001b[0misinstance\u001b[0m\u001b[1;33m(\u001b[0m\u001b[0mt\u001b[0m\u001b[1;33m,\u001b[0m \u001b[0mops\u001b[0m\u001b[1;33m.\u001b[0m\u001b[0mTensor\u001b[0m\u001b[1;33m)\u001b[0m\u001b[1;33m:\u001b[0m\u001b[1;33m\u001b[0m\u001b[1;33m\u001b[0m\u001b[0m\n\u001b[1;32m--> 533\u001b[1;33m       \u001b[0mx\u001b[0m \u001b[1;33m=\u001b[0m \u001b[0mt\u001b[0m\u001b[1;33m.\u001b[0m\u001b[0mnumpy\u001b[0m\u001b[1;33m(\u001b[0m\u001b[1;33m)\u001b[0m\u001b[1;33m\u001b[0m\u001b[1;33m\u001b[0m\u001b[0m\n\u001b[0m\u001b[0;32m    534\u001b[0m       \u001b[1;32mreturn\u001b[0m \u001b[0mx\u001b[0m\u001b[1;33m.\u001b[0m\u001b[0mitem\u001b[0m\u001b[1;33m(\u001b[0m\u001b[1;33m)\u001b[0m \u001b[1;32mif\u001b[0m \u001b[0mnp\u001b[0m\u001b[1;33m.\u001b[0m\u001b[0mndim\u001b[0m\u001b[1;33m(\u001b[0m\u001b[0mx\u001b[0m\u001b[1;33m)\u001b[0m \u001b[1;33m==\u001b[0m \u001b[1;36m0\u001b[0m \u001b[1;32melse\u001b[0m \u001b[0mx\u001b[0m\u001b[1;33m\u001b[0m\u001b[1;33m\u001b[0m\u001b[0m\n\u001b[0;32m    535\u001b[0m     \u001b[1;32mreturn\u001b[0m \u001b[0mt\u001b[0m  \u001b[1;31m# Don't turn ragged or sparse tensors to NumPy.\u001b[0m\u001b[1;33m\u001b[0m\u001b[1;33m\u001b[0m\u001b[0m\n",
      "\u001b[1;32m~\\AppData\\Roaming\\Python\\Python36\\site-packages\\tensorflow\\python\\framework\\ops.py\u001b[0m in \u001b[0;36mnumpy\u001b[1;34m(self)\u001b[0m\n\u001b[0;32m   1061\u001b[0m     \"\"\"\n\u001b[0;32m   1062\u001b[0m     \u001b[1;31m# TODO(slebedev): Consider avoiding a copy for non-CPU or remote tensors.\u001b[0m\u001b[1;33m\u001b[0m\u001b[1;33m\u001b[0m\u001b[1;33m\u001b[0m\u001b[0m\n\u001b[1;32m-> 1063\u001b[1;33m     \u001b[0mmaybe_arr\u001b[0m \u001b[1;33m=\u001b[0m \u001b[0mself\u001b[0m\u001b[1;33m.\u001b[0m\u001b[0m_numpy\u001b[0m\u001b[1;33m(\u001b[0m\u001b[1;33m)\u001b[0m  \u001b[1;31m# pylint: disable=protected-access\u001b[0m\u001b[1;33m\u001b[0m\u001b[1;33m\u001b[0m\u001b[0m\n\u001b[0m\u001b[0;32m   1064\u001b[0m     \u001b[1;32mreturn\u001b[0m \u001b[0mmaybe_arr\u001b[0m\u001b[1;33m.\u001b[0m\u001b[0mcopy\u001b[0m\u001b[1;33m(\u001b[0m\u001b[1;33m)\u001b[0m \u001b[1;32mif\u001b[0m \u001b[0misinstance\u001b[0m\u001b[1;33m(\u001b[0m\u001b[0mmaybe_arr\u001b[0m\u001b[1;33m,\u001b[0m \u001b[0mnp\u001b[0m\u001b[1;33m.\u001b[0m\u001b[0mndarray\u001b[0m\u001b[1;33m)\u001b[0m \u001b[1;32melse\u001b[0m \u001b[0mmaybe_arr\u001b[0m\u001b[1;33m\u001b[0m\u001b[1;33m\u001b[0m\u001b[0m\n\u001b[0;32m   1065\u001b[0m \u001b[1;33m\u001b[0m\u001b[0m\n",
      "\u001b[1;32m~\\AppData\\Roaming\\Python\\Python36\\site-packages\\tensorflow\\python\\framework\\ops.py\u001b[0m in \u001b[0;36m_numpy\u001b[1;34m(self)\u001b[0m\n\u001b[0;32m   1027\u001b[0m   \u001b[1;32mdef\u001b[0m \u001b[0m_numpy\u001b[0m\u001b[1;33m(\u001b[0m\u001b[0mself\u001b[0m\u001b[1;33m)\u001b[0m\u001b[1;33m:\u001b[0m\u001b[1;33m\u001b[0m\u001b[1;33m\u001b[0m\u001b[0m\n\u001b[0;32m   1028\u001b[0m     \u001b[1;32mtry\u001b[0m\u001b[1;33m:\u001b[0m\u001b[1;33m\u001b[0m\u001b[1;33m\u001b[0m\u001b[0m\n\u001b[1;32m-> 1029\u001b[1;33m       \u001b[1;32mreturn\u001b[0m \u001b[0mself\u001b[0m\u001b[1;33m.\u001b[0m\u001b[0m_numpy_internal\u001b[0m\u001b[1;33m(\u001b[0m\u001b[1;33m)\u001b[0m\u001b[1;33m\u001b[0m\u001b[1;33m\u001b[0m\u001b[0m\n\u001b[0m\u001b[0;32m   1030\u001b[0m     \u001b[1;32mexcept\u001b[0m \u001b[0mcore\u001b[0m\u001b[1;33m.\u001b[0m\u001b[0m_NotOkStatusException\u001b[0m \u001b[1;32mas\u001b[0m \u001b[0me\u001b[0m\u001b[1;33m:\u001b[0m  \u001b[1;31m# pylint: disable=protected-access\u001b[0m\u001b[1;33m\u001b[0m\u001b[1;33m\u001b[0m\u001b[0m\n\u001b[0;32m   1031\u001b[0m       \u001b[0msix\u001b[0m\u001b[1;33m.\u001b[0m\u001b[0mraise_from\u001b[0m\u001b[1;33m(\u001b[0m\u001b[0mcore\u001b[0m\u001b[1;33m.\u001b[0m\u001b[0m_status_to_exception\u001b[0m\u001b[1;33m(\u001b[0m\u001b[0me\u001b[0m\u001b[1;33m.\u001b[0m\u001b[0mcode\u001b[0m\u001b[1;33m,\u001b[0m \u001b[0me\u001b[0m\u001b[1;33m.\u001b[0m\u001b[0mmessage\u001b[0m\u001b[1;33m)\u001b[0m\u001b[1;33m,\u001b[0m \u001b[1;32mNone\u001b[0m\u001b[1;33m)\u001b[0m  \u001b[1;31m# pylint: disable=protected-access\u001b[0m\u001b[1;33m\u001b[0m\u001b[1;33m\u001b[0m\u001b[0m\n",
      "\u001b[1;31mKeyboardInterrupt\u001b[0m: "
     ]
    }
   ],
   "source": [
    "# 模型训练\n",
    "tensorboard_callback = tf.keras.callbacks.TensorBoard(log_dir=log_dir, histogram_freq=1)\n",
    "history = cnnbilstm_model.fit(train_data, train_label,epochs=30, batch_size=32, validation_split=0.2,callbacks=[tensorboard_callback])"
   ]
  },
  {
   "cell_type": "code",
   "execution_count": 37,
   "metadata": {},
   "outputs": [
    {
     "name": "stdout",
     "output_type": "stream",
     "text": [
      "*****完成预处理，进行模型评估*****\n",
      "------------------测试集上得分：------------------------\n",
      "*****\n",
      "测试集准确率得分: 0.737\n",
      "*****\n",
      "准确率、召回率、f1-值测试报告如下:\n",
      "               precision    recall  f1-score   support\n",
      "\n",
      "           0       0.99      0.95      0.97       352\n",
      "           1       0.52      0.99      0.68       379\n",
      "           2       0.40      0.01      0.01       349\n",
      "           3       0.96      1.00      0.98       328\n",
      "\n",
      "    accuracy                           0.74      1408\n",
      "   macro avg       0.72      0.73      0.66      1408\n",
      "weighted avg       0.71      0.74      0.66      1408\n",
      "\n"
     ]
    }
   ],
   "source": [
    "from sklearn.metrics import roc_curve,roc_auc_score,classification_report,accuracy_score,log_loss\n",
    "print(\"*****完成预处理，进行模型评估*****\")\n",
    "y_pred = cnnbilstm_model.predict(val_data)\n",
    "y_pred = [np.argmax(x) for x in y_pred]\n",
    "print('------------------测试集上得分：------------------------')\n",
    "print('*' * 5)\n",
    "print('测试集准确率得分:', round(accuracy_score(val_label, y_pred),3))\n",
    "print('*' * 5)\n",
    "print('准确率、召回率、f1-值测试报告如下:\\n', classification_report(val_label, y_pred))"
   ]
  },
  {
   "cell_type": "code",
   "execution_count": 38,
   "metadata": {},
   "outputs": [
    {
     "data": {
      "image/png": "[encoded data removed]",
      "text/plain": [
       "<Figure size 432x288 with 1 Axes>"
      ]
     },
     "metadata": {
      "needs_background": "light"
     },
     "output_type": "display_data"
    }
   ],
   "source": [
    "# 设置Y轴范围\n",
    "plt.ylim(0.3,1)\n",
    "# 训练准确率曲线\n",
    "show_data1_cnnbilstm= history.history['acc']\n",
    "# 测试准确率曲线\n",
    "plt.ylabel(\"Accuracy\")\n",
    "plt.xlabel(\"Epoch\")\n",
    "show_data2_cnnbilstm= history.history['val_acc']\n",
    "x_data = list(range(1,len(show_data1_cnnbilstm)+1))\n",
    "ln1, = plt.plot(x_data,show_data1_cnnbilstm,color='blue',linewidth=2.0,linestyle='--')\n",
    "ln2, = plt.plot(x_data,show_data2_cnnbilstm,color='red',linewidth=3.0,linestyle='-.')\n",
    "plt.legend(handles=[ln1,ln2],labels=['train','val'])\n",
    "plt.show()"
   ]
  },
  {
   "cell_type": "markdown",
   "metadata": {},
   "source": [
    "# 小波变换数据"
   ]
  },
  {
   "cell_type": "code",
   "execution_count": 11,
   "metadata": {},
   "outputs": [
    {
     "name": "stdout",
     "output_type": "stream",
     "text": [
      "类别数量为： 4\n",
      "训练集shape (3284, 2014, 1)\n",
      "训练集类别： Counter({1: 857, 2: 831, 0: 828, 3: 768})\n",
      "测试集shape (1408, 2014, 1)\n",
      "测试集类别： Counter({1: 379, 0: 352, 2: 349, 3: 328})\n",
      "**********\n",
      "训练集数量： 3284\n",
      "测试集数量： 1408\n"
     ]
    }
   ],
   "source": [
    "# 读取数据\n",
    "data1, label1, label_count1 = load_data('train_data_wavelet.npy','label_wavelet.npy')\n",
    "# 生成训练集测试集,70%用作训练，30%用作测试\n",
    "train_data1, train_label1, val_data1, val_label1 = create_train_data(data1, label1, 0.7)\n",
    "print(\"*\"*10)\n",
    "print(\"训练集数量：\",len(train_label1))\n",
    "print(\"测试集数量：\",len(val_label1))"
   ]
  },
  {
   "cell_type": "code",
   "execution_count": 12,
   "metadata": {},
   "outputs": [
    {
     "name": "stdout",
     "output_type": "stream",
     "text": [
      "Epoch 1/30\n",
      "WARNING:tensorflow:Model was constructed with shape (None, 2015, 1) for input Tensor(\"input_1:0\", shape=(None, 2015, 1), dtype=float32), but it was called on an input with incompatible shape (None, 2014, 1).\n",
      " 2/83 [..............................] - ETA: 11s - loss: 0.5152 - acc: 0.7500WARNING:tensorflow:Callbacks method `on_train_batch_end` is slow compared to the batch time (batch time: 0.0300s vs `on_train_batch_end` time: 0.2415s). Check your callbacks.\n",
      "82/83 [============================>.] - ETA: 0s - loss: 0.5102 - acc: 0.7492WARNING:tensorflow:Model was constructed with shape (None, 2015, 1) for input Tensor(\"input_1:0\", shape=(None, 2015, 1), dtype=float32), but it was called on an input with incompatible shape (None, 2014, 1).\n",
      "83/83 [==============================] - 4s 52ms/step - loss: 0.5097 - acc: 0.7495 - val_loss: 0.4811 - val_acc: 0.7139\n",
      "Epoch 2/30\n",
      "83/83 [==============================] - 3s 37ms/step - loss: 0.4628 - acc: 0.7659 - val_loss: 0.4589 - val_acc: 0.7595\n",
      "Epoch 3/30\n",
      "83/83 [==============================] - 3s 38ms/step - loss: 0.4640 - acc: 0.7564 - val_loss: 0.6083 - val_acc: 0.6910\n",
      "Epoch 4/30\n",
      "83/83 [==============================] - 3s 36ms/step - loss: 0.4735 - acc: 0.7472 - val_loss: 0.4405 - val_acc: 0.7215\n",
      "Epoch 5/30\n",
      "83/83 [==============================] - 3s 37ms/step - loss: 0.4555 - acc: 0.7682 - val_loss: 0.3863 - val_acc: 0.7763\n",
      "Epoch 6/30\n",
      "83/83 [==============================] - 3s 37ms/step - loss: 0.4413 - acc: 0.7731 - val_loss: 0.4156 - val_acc: 0.7489\n",
      "Epoch 7/30\n",
      "83/83 [==============================] - 3s 37ms/step - loss: 0.4561 - acc: 0.7667 - val_loss: 0.4890 - val_acc: 0.7291\n",
      "Epoch 8/30\n",
      "83/83 [==============================] - 3s 37ms/step - loss: 0.4309 - acc: 0.7762 - val_loss: 0.5821 - val_acc: 0.7123\n",
      "Epoch 9/30\n",
      "83/83 [==============================] - 3s 37ms/step - loss: 0.4737 - acc: 0.7678 - val_loss: 0.8175 - val_acc: 0.5525\n",
      "Epoch 10/30\n",
      "83/83 [==============================] - 3s 36ms/step - loss: 0.4296 - acc: 0.7754 - val_loss: 0.7464 - val_acc: 0.6591\n",
      "Epoch 11/30\n",
      "83/83 [==============================] - 3s 36ms/step - loss: 0.4541 - acc: 0.7621 - val_loss: 0.4829 - val_acc: 0.7321\n",
      "Epoch 12/30\n",
      "83/83 [==============================] - 3s 38ms/step - loss: 0.4184 - acc: 0.7823 - val_loss: 0.6214 - val_acc: 0.7108\n",
      "Epoch 13/30\n",
      "83/83 [==============================] - 3s 37ms/step - loss: 0.4336 - acc: 0.7785 - val_loss: 0.3887 - val_acc: 0.7397\n",
      "Epoch 14/30\n",
      "83/83 [==============================] - 3s 36ms/step - loss: 0.4279 - acc: 0.7830 - val_loss: 0.3741 - val_acc: 0.7808\n",
      "Epoch 15/30\n",
      "83/83 [==============================] - 3s 36ms/step - loss: 0.3986 - acc: 0.7876 - val_loss: 0.3671 - val_acc: 0.7976\n",
      "Epoch 16/30\n",
      "83/83 [==============================] - 3s 36ms/step - loss: 0.4267 - acc: 0.7918 - val_loss: 0.6336 - val_acc: 0.6956: 1s\n",
      "Epoch 17/30\n",
      "83/83 [==============================] - 3s 37ms/step - loss: 0.4137 - acc: 0.8009 - val_loss: 0.4142 - val_acc: 0.7412\n",
      "Epoch 18/30\n",
      "83/83 [==============================] - 3s 36ms/step - loss: 0.4275 - acc: 0.7948 - val_loss: 0.3539 - val_acc: 0.8204\n",
      "Epoch 19/30\n",
      "83/83 [==============================] - 3s 36ms/step - loss: 0.4242 - acc: 0.7956 - val_loss: 0.3630 - val_acc: 0.8204\n",
      "Epoch 20/30\n",
      "83/83 [==============================] - 3s 35ms/step - loss: 0.4373 - acc: 0.7933 - val_loss: 0.8152 - val_acc: 0.6682\n",
      "Epoch 21/30\n",
      "83/83 [==============================] - 3s 36ms/step - loss: 0.3988 - acc: 0.7994 - val_loss: 0.3999 - val_acc: 0.7823\n",
      "Epoch 22/30\n",
      "83/83 [==============================] - 3s 36ms/step - loss: 0.3979 - acc: 0.8013 - val_loss: 0.3457 - val_acc: 0.7960\n",
      "Epoch 23/30\n",
      "83/83 [==============================] - 3s 35ms/step - loss: 0.3851 - acc: 0.8081 - val_loss: 0.3863 - val_acc: 0.7686\n",
      "Epoch 24/30\n",
      "83/83 [==============================] - 3s 35ms/step - loss: 0.3942 - acc: 0.8009 - val_loss: 0.3308 - val_acc: 0.8265\n",
      "Epoch 25/30\n",
      "83/83 [==============================] - 3s 35ms/step - loss: 0.4230 - acc: 0.7982 - val_loss: 0.4492 - val_acc: 0.7352\n",
      "Epoch 26/30\n",
      "83/83 [==============================] - 3s 35ms/step - loss: 0.4399 - acc: 0.7952 - val_loss: 0.4343 - val_acc: 0.7580\n",
      "Epoch 27/30\n",
      "83/83 [==============================] - 3s 36ms/step - loss: 0.4007 - acc: 0.7975 - val_loss: 0.3345 - val_acc: 0.8189\n",
      "Epoch 28/30\n",
      "83/83 [==============================] - 3s 36ms/step - loss: 0.3843 - acc: 0.8158 - val_loss: 0.7756 - val_acc: 0.6301\n",
      "Epoch 29/30\n",
      "83/83 [==============================] - 3s 36ms/step - loss: 0.4228 - acc: 0.7952 - val_loss: 0.3437 - val_acc: 0.8234\n",
      "Epoch 30/30\n",
      "83/83 [==============================] - 3s 36ms/step - loss: 0.3735 - acc: 0.8142 - val_loss: 0.4045 - val_acc: 0.7793\n"
     ]
    }
   ],
   "source": [
    "# 模型训练\n",
    "tensorboard_callback = tf.keras.callbacks.TensorBoard(log_dir=log_dir, histogram_freq=1)\n",
    "history1 = cnnbilstm_model.fit(train_data1, train_label1,epochs=30, batch_size=32, validation_split=0.2,callbacks=[tensorboard_callback])"
   ]
  },
  {
   "cell_type": "code",
   "execution_count": 13,
   "metadata": {},
   "outputs": [
    {
     "name": "stdout",
     "output_type": "stream",
     "text": [
      "*****完成预处理，进行模型评估*****\n",
      "WARNING:tensorflow:Model was constructed with shape (None, 2015, 1) for input Tensor(\"input_1:0\", shape=(None, 2015, 1), dtype=float32), but it was called on an input with incompatible shape (32, 2014, 1).\n",
      "------------------测试集上得分：------------------------\n",
      "*****\n",
      "测试集准确率得分: 0.808\n",
      "*****\n",
      "准确率、召回率、f1-值测试报告如下:\n",
      "               precision    recall  f1-score   support\n",
      "\n",
      "           0       0.99      0.99      0.99       352\n",
      "           1       0.97      0.30      0.46       379\n",
      "           2       0.57      1.00      0.72       349\n",
      "           3       1.00      1.00      1.00       328\n",
      "\n",
      "    accuracy                           0.81      1408\n",
      "   macro avg       0.88      0.82      0.79      1408\n",
      "weighted avg       0.88      0.81      0.78      1408\n",
      "\n"
     ]
    }
   ],
   "source": [
    "from sklearn.metrics import roc_curve,roc_auc_score,classification_report,accuracy_score,log_loss\n",
    "print(\"*****完成预处理，进行模型评估*****\")\n",
    "y_pred1 = cnnbilstm_model.predict(val_data1)\n",
    "y_pred1 = [np.argmax(x) for x in y_pred1]\n",
    "print('------------------测试集上得分：------------------------')\n",
    "print('*' * 5)\n",
    "print('测试集准确率得分:', round(accuracy_score(val_label1, y_pred1),3))\n",
    "print('*' * 5)\n",
    "print('准确率、召回率、f1-值测试报告如下:\\n', classification_report(val_label1, y_pred1))"
   ]
  },
  {
   "cell_type": "markdown",
   "metadata": {},
   "source": [
    "# NLM"
   ]
  },
  {
   "cell_type": "code",
   "execution_count": 14,
   "metadata": {},
   "outputs": [
    {
     "name": "stdout",
     "output_type": "stream",
     "text": [
      "类别数量为： 4\n",
      "训练集shape (3284, 2015, 1)\n",
      "训练集类别： Counter({1: 857, 2: 831, 0: 828, 3: 768})\n",
      "测试集shape (1408, 2015, 1)\n",
      "测试集类别： Counter({1: 379, 0: 352, 2: 349, 3: 328})\n",
      "**********\n",
      "训练集数量： 3284\n",
      "测试集数量： 1408\n"
     ]
    }
   ],
   "source": [
    "# 读取数据\n",
    "data2, label2, label_count2 = load_data('train_data_nlm.npy','label_nml.npy')\n",
    "# 生成训练集测试集,70%用作训练，30%用作测试\n",
    "train_data2, train_label2, val_data2, val_label2 = create_train_data(data2, label2, 0.7)\n",
    "print(\"*\"*10)\n",
    "print(\"训练集数量：\",len(train_label2))\n",
    "print(\"测试集数量：\",len(val_label2))"
   ]
  },
  {
   "cell_type": "code",
   "execution_count": 15,
   "metadata": {},
   "outputs": [
    {
     "name": "stdout",
     "output_type": "stream",
     "text": [
      "Epoch 1/30\n",
      " 2/83 [..............................] - ETA: 10s - loss: 4.3638 - acc: 0.2500WARNING:tensorflow:Callbacks method `on_train_batch_end` is slow compared to the batch time (batch time: 0.0307s vs `on_train_batch_end` time: 0.2386s). Check your callbacks.\n",
      "83/83 [==============================] - 4s 54ms/step - loss: 1.3215 - acc: 0.4260 - val_loss: 1.4008 - val_acc: 0.3135\n",
      "Epoch 2/30\n",
      "83/83 [==============================] - 3s 36ms/step - loss: 1.0744 - acc: 0.5333 - val_loss: 0.8382 - val_acc: 0.6012\n",
      "Epoch 3/30\n",
      "83/83 [==============================] - 3s 36ms/step - loss: 1.0644 - acc: 0.5706 - val_loss: 1.0611 - val_acc: 0.5084\n",
      "Epoch 4/30\n",
      "83/83 [==============================] - 3s 36ms/step - loss: 0.9748 - acc: 0.5942 - val_loss: 0.9645 - val_acc: 0.5632\n",
      "Epoch 5/30\n",
      "83/83 [==============================] - 3s 36ms/step - loss: 0.8973 - acc: 0.6117 - val_loss: 0.7169 - val_acc: 0.6454\n",
      "Epoch 6/30\n",
      "83/83 [==============================] - 3s 36ms/step - loss: 0.9045 - acc: 0.6254 - val_loss: 0.6707 - val_acc: 0.7139\n",
      "Epoch 7/30\n",
      "83/83 [==============================] - 3s 36ms/step - loss: 0.8734 - acc: 0.6201 - val_loss: 0.6084 - val_acc: 0.7108\n",
      "Epoch 8/30\n",
      "83/83 [==============================] - 3s 36ms/step - loss: 0.8447 - acc: 0.6388 - val_loss: 1.3022 - val_acc: 0.4795\n",
      "Epoch 9/30\n",
      "83/83 [==============================] - 3s 37ms/step - loss: 0.9297 - acc: 0.6193 - val_loss: 0.8011 - val_acc: 0.5982\n",
      "Epoch 10/30\n",
      "83/83 [==============================] - 3s 36ms/step - loss: 0.7928 - acc: 0.6585 - val_loss: 0.6985 - val_acc: 0.6834\n",
      "Epoch 11/30\n",
      "83/83 [==============================] - 3s 37ms/step - loss: 0.7511 - acc: 0.6734 - val_loss: 0.6478 - val_acc: 0.7306\n",
      "Epoch 12/30\n",
      "83/83 [==============================] - 3s 36ms/step - loss: 0.7578 - acc: 0.6802 - val_loss: 1.0189 - val_acc: 0.5662\n",
      "Epoch 13/30\n",
      "83/83 [==============================] - 3s 36ms/step - loss: 0.7452 - acc: 0.6852 - val_loss: 3.2102 - val_acc: 0.3866\n",
      "Epoch 14/30\n",
      "83/83 [==============================] - 3s 37ms/step - loss: 0.7098 - acc: 0.6947 - val_loss: 0.8357 - val_acc: 0.6104\n",
      "Epoch 15/30\n",
      "83/83 [==============================] - 3s 36ms/step - loss: 0.7047 - acc: 0.6959 - val_loss: 0.6461 - val_acc: 0.6849\n",
      "Epoch 16/30\n",
      "83/83 [==============================] - 3s 36ms/step - loss: 0.8337 - acc: 0.6654 - val_loss: 2.3659 - val_acc: 0.3866\n",
      "Epoch 17/30\n",
      "83/83 [==============================] - 3s 37ms/step - loss: 0.6691 - acc: 0.7172 - val_loss: 0.6198 - val_acc: 0.7017\n",
      "Epoch 18/30\n",
      "83/83 [==============================] - 3s 36ms/step - loss: 0.6560 - acc: 0.7252 - val_loss: 0.4590 - val_acc: 0.7869\n",
      "Epoch 19/30\n",
      "83/83 [==============================] - 3s 36ms/step - loss: 0.6698 - acc: 0.7175 - val_loss: 0.6952 - val_acc: 0.7123\n",
      "Epoch 20/30\n",
      "83/83 [==============================] - 3s 36ms/step - loss: 0.6415 - acc: 0.7267 - val_loss: 0.6645 - val_acc: 0.7047\n",
      "Epoch 21/30\n",
      "83/83 [==============================] - 3s 37ms/step - loss: 0.6476 - acc: 0.7225 - val_loss: 0.6001 - val_acc: 0.7062\n",
      "Epoch 22/30\n",
      "83/83 [==============================] - 3s 37ms/step - loss: 0.6241 - acc: 0.7297 - val_loss: 1.2084 - val_acc: 0.6104\n",
      "Epoch 23/30\n",
      "83/83 [==============================] - 3s 37ms/step - loss: 0.6048 - acc: 0.7431 - val_loss: 0.9426 - val_acc: 0.6073\n",
      "Epoch 24/30\n",
      "83/83 [==============================] - 3s 36ms/step - loss: 0.6676 - acc: 0.7225 - val_loss: 0.4746 - val_acc: 0.7717\n",
      "Epoch 25/30\n",
      "83/83 [==============================] - 3s 36ms/step - loss: 0.5730 - acc: 0.7461 - val_loss: 0.4295 - val_acc: 0.7839\n",
      "Epoch 26/30\n",
      "83/83 [==============================] - 3s 38ms/step - loss: 0.6286 - acc: 0.7446 - val_loss: 0.5669 - val_acc: 0.7321\n",
      "Epoch 27/30\n",
      "83/83 [==============================] - 3s 36ms/step - loss: 0.5807 - acc: 0.7518 - val_loss: 0.4674 - val_acc: 0.7869\n",
      "Epoch 28/30\n",
      "83/83 [==============================] - 3s 37ms/step - loss: 0.5613 - acc: 0.7640 - val_loss: 0.5691 - val_acc: 0.7169\n",
      "Epoch 29/30\n",
      "83/83 [==============================] - 3s 36ms/step - loss: 0.5610 - acc: 0.7602 - val_loss: 0.6181 - val_acc: 0.7032\n",
      "Epoch 30/30\n",
      "83/83 [==============================] - 3s 37ms/step - loss: 0.5585 - acc: 0.7579 - val_loss: 0.6928 - val_acc: 0.6393\n"
     ]
    }
   ],
   "source": [
    "# 模型训练\n",
    "tensorboard_callback = tf.keras.callbacks.TensorBoard(log_dir=log_dir, histogram_freq=1)\n",
    "history2 = cnnbilstm_model.fit(train_data2, train_label2,epochs=30, batch_size=32, validation_split=0.2,callbacks=[tensorboard_callback])"
   ]
  },
  {
   "cell_type": "code",
   "execution_count": 16,
   "metadata": {},
   "outputs": [
    {
     "name": "stdout",
     "output_type": "stream",
     "text": [
      "*****完成预处理，进行模型评估*****\n",
      "------------------测试集上得分：------------------------\n",
      "*****\n",
      "测试集准确率得分: 0.624\n",
      "*****\n",
      "准确率、召回率、f1-值测试报告如下:\n",
      "               precision    recall  f1-score   support\n",
      "\n",
      "           0       1.00      0.47      0.64       352\n",
      "           1       0.42      0.99      0.59       379\n",
      "           2       0.75      0.02      0.03       349\n",
      "           3       0.96      1.00      0.98       328\n",
      "\n",
      "    accuracy                           0.62      1408\n",
      "   macro avg       0.78      0.62      0.56      1408\n",
      "weighted avg       0.77      0.62      0.56      1408\n",
      "\n"
     ]
    }
   ],
   "source": [
    "from sklearn.metrics import roc_curve,roc_auc_score,classification_report,accuracy_score,log_loss\n",
    "print(\"*****完成预处理，进行模型评估*****\")\n",
    "y_pred2 = cnnbilstm_model.predict(val_data2)\n",
    "y_pred2= [np.argmax(x) for x in y_pred2]\n",
    "print('------------------测试集上得分：------------------------')\n",
    "print('*' * 5)\n",
    "print('测试集准确率得分:', round(accuracy_score(val_label2, y_pred2),3))\n",
    "print('*' * 5)\n",
    "print('准确率、召回率、f1-值测试报告如下:\\n', classification_report(val_label2, y_pred2))"
   ]
  },
  {
   "cell_type": "code",
   "execution_count": null,
   "metadata": {},
   "outputs": [],
   "source": []
  },
  {
   "cell_type": "code",
   "execution_count": null,
   "metadata": {},
   "outputs": [],
   "source": []
  }
 ],
 "metadata": {
  "kernelspec": {
   "display_name": "pytorch",
   "language": "python",
   "name": "pytorch"
  },
  "language_info": {
   "codemirror_mode": {
    "name": "ipython",
    "version": 3
   },
   "file_extension": ".py",
   "mimetype": "text/x-python",
   "name": "python",
   "nbconvert_exporter": "python",
   "pygments_lexer": "ipython3",
   "version": "3.6.13"
  }
 },
 "nbformat": 4,
 "nbformat_minor": 2
}
