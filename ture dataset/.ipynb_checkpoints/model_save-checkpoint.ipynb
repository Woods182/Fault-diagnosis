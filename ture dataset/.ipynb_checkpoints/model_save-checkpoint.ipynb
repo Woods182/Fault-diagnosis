{
 "cells": [
  {
   "cell_type": "code",
   "execution_count": 2,
   "id": "57ddea4c",
   "metadata": {},
   "outputs": [
    {
     "name": "stdout",
     "output_type": "stream",
     "text": [
      "WARNING:tensorflow:From /tmp/ipykernel_334/91628235.py:10: is_gpu_available (from tensorflow.python.framework.test_util) is deprecated and will be removed in a future version.\n",
      "Instructions for updating:\n",
      "Use `tf.config.list_physical_devices('GPU')` instead.\n",
      "True\n"
     ]
    },
    {
     "name": "stderr",
     "output_type": "stream",
     "text": [
      "2022-04-22 14:21:48.595580: I tensorflow/core/platform/cpu_feature_guard.cc:151] This TensorFlow binary is optimized with oneAPI Deep Neural Network Library (oneDNN) to use the following CPU instructions in performance-critical operations:  AVX2 FMA\n",
      "To enable them in other operations, rebuild TensorFlow with the appropriate compiler flags.\n",
      "2022-04-22 14:21:48.641018: I tensorflow/stream_executor/cuda/cuda_gpu_executor.cc:936] successful NUMA node read from SysFS had negative value (-1), but there must be at least one NUMA node, so returning NUMA node zero\n",
      "2022-04-22 14:21:48.692068: I tensorflow/stream_executor/cuda/cuda_gpu_executor.cc:936] successful NUMA node read from SysFS had negative value (-1), but there must be at least one NUMA node, so returning NUMA node zero\n",
      "2022-04-22 14:21:48.692340: I tensorflow/stream_executor/cuda/cuda_gpu_executor.cc:936] successful NUMA node read from SysFS had negative value (-1), but there must be at least one NUMA node, so returning NUMA node zero\n",
      "2022-04-22 14:21:49.237100: I tensorflow/stream_executor/cuda/cuda_gpu_executor.cc:936] successful NUMA node read from SysFS had negative value (-1), but there must be at least one NUMA node, so returning NUMA node zero\n",
      "2022-04-22 14:21:49.237318: I tensorflow/stream_executor/cuda/cuda_gpu_executor.cc:936] successful NUMA node read from SysFS had negative value (-1), but there must be at least one NUMA node, so returning NUMA node zero\n",
      "2022-04-22 14:21:49.237489: I tensorflow/stream_executor/cuda/cuda_gpu_executor.cc:936] successful NUMA node read from SysFS had negative value (-1), but there must be at least one NUMA node, so returning NUMA node zero\n",
      "2022-04-22 14:21:49.241722: I tensorflow/core/common_runtime/gpu/gpu_device.cc:1525] Created device /device:GPU:0 with 22334 MB memory:  -> device: 0, name: NVIDIA RTX A5000, pci bus id: 0000:23:00.0, compute capability: 8.6\n"
     ]
    }
   ],
   "source": [
    "import os\n",
    "import matplotlib.pyplot as plt\n",
    "from collections import Counter\n",
    "import numpy as np\n",
    "import tensorflow as tf\n",
    "from tensorflow import keras\n",
    "from sklearn.preprocessing import MinMaxScaler\n",
    "from tensorflow.keras import layers, models\n",
    "# 查看GPU是否可用\n",
    "print(tf.test.is_gpu_available())"
   ]
  },
  {
   "cell_type": "code",
   "execution_count": 3,
   "id": "4e2c8874",
   "metadata": {},
   "outputs": [],
   "source": [
    "from sklearn.preprocessing import scale\n",
    "def load_data(data_name,label_name):\n",
    "    # path_x=os.path.join('train_data',data_name)\n",
    "    # path_y=os.path.join('train_data',label_name)\n",
    "    # # 读取数据\n",
    "    x = np.load(data_name)\n",
    "#     scaler = MinMaxScaler()\n",
    "#      x = scaler.fit_transform(x)\n",
    "    x=scale(x)\n",
    "    y = np.load(label_name)\n",
    "    num = len(Counter(y))\n",
    "    print(\"类别数量为：\", num)\n",
    "    return x, y, num"
   ]
  },
  {
   "cell_type": "code",
   "execution_count": 4,
   "id": "a75074f7",
   "metadata": {},
   "outputs": [],
   "source": [
    "def create_train_data(x, y, ratio=0.7):\n",
    "    \"\"\"\n",
    "    x:data\n",
    "    y:labal\n",
    "    ratio:生成训练集比率\n",
    "    \"\"\"\n",
    "    # 打乱顺序\n",
    "    # 读取data矩阵的第一维数（数据个数）\n",
    "    num_example = x.shape[0]\n",
    "    # 产生一个num_example范围，步长为1的序列\n",
    "    arr = np.arange(num_example)\n",
    "    # 调用函数，打乱顺序\n",
    "    np.random.seed(99)\n",
    "    np.random.shuffle(arr)\n",
    "    # 按照打乱的顺序，重新排序\n",
    "    arr_data = x[arr]\n",
    "    arr_label = y[arr]\n",
    "    # 将数据集分为训练集80%、测试集20%\n",
    "    s = int(num_example * ratio)\n",
    "    x_train = arr_data[:s]\n",
    "    y_train = arr_label[:s]\n",
    "    x_val = arr_data[s:]\n",
    "    y_val = arr_label[s:]\n",
    "    print(\"训练集shape\", x_train.shape)\n",
    "    print(\"训练集类别：\", Counter(y_train))\n",
    "    print(\"测试集shape\", x_val.shape)\n",
    "    print(\"测试集类别：\", Counter(y_val))\n",
    "    return x_train, y_train, x_val, y_val"
   ]
  },
  {
   "cell_type": "code",
   "execution_count": 5,
   "id": "8a6b4668",
   "metadata": {},
   "outputs": [
    {
     "name": "stdout",
     "output_type": "stream",
     "text": [
      "类别数量为： 4\n",
      "训练集shape (3753, 2014)\n",
      "训练集类别： Counter({1: 995, 0: 950, 2: 941, 3: 867})\n",
      "测试集shape (939, 2014)\n",
      "测试集类别： Counter({1: 241, 2: 239, 0: 230, 3: 229})\n",
      "**********\n",
      "训练集数量： 3753\n",
      "测试集数量： 939\n"
     ]
    }
   ],
   "source": [
    "# 读取数据\n",
    "data, label, label_count= load_data('train_data_wavelet.npy','label_wavelet.npy')\n",
    "# 生成训练集测试集,70%用作训练，30%用作测试\n",
    "train_data, train_label, val_data, val_label= create_train_data(data, label, 0.8)\n",
    "print(\"*\"*10)\n",
    "print(\"训练集数量：\",len(train_label))\n",
    "print(\"测试集数量：\",len(val_label))"
   ]
  },
  {
   "cell_type": "code",
   "execution_count": 6,
   "id": "4a00ce14",
   "metadata": {},
   "outputs": [],
   "source": [
    "from tensorflow.keras.layers import  LSTM,Bidirectional"
   ]
  },
  {
   "cell_type": "markdown",
   "id": "a7c02a95",
   "metadata": {},
   "source": [
    "#  卷积结构"
   ]
  },
  {
   "cell_type": "code",
   "execution_count": 11,
   "id": "26c502b3",
   "metadata": {},
   "outputs": [],
   "source": [
    "def cnnbilstm_optimize1():\n",
    "    loss = 'sparse_categorical_crossentropy'\n",
    "    metrics = ['acc']\n",
    "    inputs = keras.Input(shape=(2014,1))\n",
    "    #CNN+POOLING\n",
    "    x = layers.Conv1D(128, 3, activation='relu')(inputs)\n",
    "    #x = layers.Conv1D(128, 3, activation='relu')(x)\n",
    "    x = layers.MaxPooling1D(16)(x)\n",
    "    x = layers.Conv1D(64, 3, activation='relu')(x)\n",
    "    #x = layers.MaxPooling1D(16)(x)\n",
    "    #BiLSTM\n",
    "    #x=Bidirectional(LSTM(128,return_sequences=True))(x)\n",
    "    x=Bidirectional(LSTM(128))(x)\n",
    "    outputs = layers.Dense(4, activation='softmax')(x)\n",
    "    model = keras.Model(inputs, outputs)\n",
    "    model.compile(optimizer='adam',\n",
    "                  loss=loss,\n",
    "                  metrics=metrics)\n",
    "    print(\"实例化模型成功，参数如下：\")\n",
    "    print(model.summary())\n",
    "    return model"
   ]
  },
  {
   "cell_type": "code",
   "execution_count": 12,
   "id": "41ccb5eb",
   "metadata": {},
   "outputs": [
    {
     "name": "stdout",
     "output_type": "stream",
     "text": [
      "实例化模型成功，参数如下：\n",
      "Model: \"model_1\"\n",
      "_________________________________________________________________\n",
      " Layer (type)                Output Shape              Param #   \n",
      "=================================================================\n",
      " input_3 (InputLayer)        [(None, 2014, 1)]         0         \n",
      "                                                                 \n",
      " conv1d_3 (Conv1D)           (None, 2012, 128)         512       \n",
      "                                                                 \n",
      " max_pooling1d_1 (MaxPooling  (None, 125, 128)         0         \n",
      " 1D)                                                             \n",
      "                                                                 \n",
      " conv1d_4 (Conv1D)           (None, 123, 64)           24640     \n",
      "                                                                 \n",
      " bidirectional_1 (Bidirectio  (None, 256)              197632    \n",
      " nal)                                                            \n",
      "                                                                 \n",
      " dense_1 (Dense)             (None, 4)                 1028      \n",
      "                                                                 \n",
      "=================================================================\n",
      "Total params: 223,812\n",
      "Trainable params: 223,812\n",
      "Non-trainable params: 0\n",
      "_________________________________________________________________\n",
      "None\n"
     ]
    },
    {
     "ename": "FileNotFoundError",
     "evalue": "[Errno 2] No such file or directory: 'logs/optimize1'",
     "output_type": "error",
     "traceback": [
      "\u001b[0;31m---------------------------------------------------------------------------\u001b[0m",
      "\u001b[0;31mFileNotFoundError\u001b[0m                         Traceback (most recent call last)",
      "Input \u001b[0;32mIn [12]\u001b[0m, in \u001b[0;36m<cell line: 6>\u001b[0;34m()\u001b[0m\n\u001b[1;32m      5\u001b[0m log_dir \u001b[38;5;241m=\u001b[39m os\u001b[38;5;241m.\u001b[39mpath\u001b[38;5;241m.\u001b[39mjoin(\u001b[38;5;124m\"\u001b[39m\u001b[38;5;124mlogs/optimize1\u001b[39m\u001b[38;5;124m\"\u001b[39m)\n\u001b[1;32m      6\u001b[0m \u001b[38;5;28;01mif\u001b[39;00m \u001b[38;5;129;01mnot\u001b[39;00m os\u001b[38;5;241m.\u001b[39mpath\u001b[38;5;241m.\u001b[39mexists(log_dir):\n\u001b[0;32m----> 7\u001b[0m     \u001b[43mos\u001b[49m\u001b[38;5;241;43m.\u001b[39;49m\u001b[43mmkdir\u001b[49m\u001b[43m(\u001b[49m\u001b[43mlog_dir\u001b[49m\u001b[43m)\u001b[49m\n",
      "\u001b[0;31mFileNotFoundError\u001b[0m: [Errno 2] No such file or directory: 'logs/optimize1'"
     ]
    }
   ],
   "source": [
    "# 实例化模型\n",
    "cnnbilstm_model = cnnbilstm_optimize1()\n",
    "\n",
    "# 设置模型log输出地址\n",
    "log_dir = os.path.join(\"logs/optimize1\")\n",
    "if not os.path.exists(log_dir):\n",
    "    os.mkdir(log_dir)"
   ]
  },
  {
   "cell_type": "code",
   "execution_count": 13,
   "id": "4fb01003",
   "metadata": {
    "scrolled": true
   },
   "outputs": [
    {
     "name": "stdout",
     "output_type": "stream",
     "text": [
      "Epoch 1/40\n"
     ]
    },
    {
     "name": "stderr",
     "output_type": "stream",
     "text": [
      "2022-04-22 14:23:49.047909: I tensorflow/stream_executor/cuda/cuda_dnn.cc:368] Loaded cuDNN version 8301\n",
      "2022-04-22 14:23:50.734551: I tensorflow/stream_executor/cuda/cuda_blas.cc:1786] TensorFloat-32 will be used for the matrix multiplication. This will only be logged once.\n"
     ]
    },
    {
     "name": "stdout",
     "output_type": "stream",
     "text": [
      "94/94 [==============================] - 7s 19ms/step - loss: 0.7372 - acc: 0.6289 - val_loss: 0.5582 - val_acc: 0.7617\n",
      "Epoch 2/40\n",
      "94/94 [==============================] - 1s 13ms/step - loss: 0.3984 - acc: 0.7528 - val_loss: 0.3681 - val_acc: 0.7630\n",
      "Epoch 3/40\n",
      "94/94 [==============================] - 1s 13ms/step - loss: 0.3631 - acc: 0.7532 - val_loss: 0.3668 - val_acc: 0.7736\n",
      "Epoch 4/40\n",
      "94/94 [==============================] - 1s 13ms/step - loss: 0.3548 - acc: 0.7678 - val_loss: 0.3677 - val_acc: 0.7443\n",
      "Epoch 5/40\n",
      "94/94 [==============================] - 1s 13ms/step - loss: 0.3540 - acc: 0.7688 - val_loss: 0.3736 - val_acc: 0.7417\n",
      "Epoch 6/40\n",
      "94/94 [==============================] - 1s 13ms/step - loss: 0.3544 - acc: 0.7672 - val_loss: 0.3633 - val_acc: 0.7763\n",
      "Epoch 7/40\n",
      "94/94 [==============================] - 1s 13ms/step - loss: 0.3516 - acc: 0.7725 - val_loss: 0.3720 - val_acc: 0.7403\n",
      "Epoch 8/40\n",
      "94/94 [==============================] - 1s 13ms/step - loss: 0.3511 - acc: 0.7811 - val_loss: 0.3607 - val_acc: 0.7617\n",
      "Epoch 9/40\n",
      "94/94 [==============================] - 1s 13ms/step - loss: 0.3562 - acc: 0.7875 - val_loss: 1.1840 - val_acc: 0.6485\n",
      "Epoch 10/40\n",
      "94/94 [==============================] - 1s 13ms/step - loss: 0.3953 - acc: 0.7748 - val_loss: 0.3494 - val_acc: 0.8003\n",
      "Epoch 11/40\n",
      "94/94 [==============================] - 1s 13ms/step - loss: 0.3391 - acc: 0.7971 - val_loss: 0.3314 - val_acc: 0.8069\n",
      "Epoch 12/40\n",
      "94/94 [==============================] - 1s 13ms/step - loss: 0.3661 - acc: 0.7795 - val_loss: 0.3659 - val_acc: 0.7656\n",
      "Epoch 13/40\n",
      "94/94 [==============================] - 1s 13ms/step - loss: 0.3394 - acc: 0.7941 - val_loss: 0.3559 - val_acc: 0.7909\n",
      "Epoch 14/40\n",
      "94/94 [==============================] - 1s 13ms/step - loss: 0.3255 - acc: 0.8145 - val_loss: 0.3051 - val_acc: 0.8176\n",
      "Epoch 15/40\n",
      "94/94 [==============================] - 1s 13ms/step - loss: 0.3159 - acc: 0.8248 - val_loss: 0.3479 - val_acc: 0.8256\n",
      "Epoch 16/40\n",
      "94/94 [==============================] - 1s 13ms/step - loss: 0.3929 - acc: 0.7871 - val_loss: 0.4382 - val_acc: 0.7470\n",
      "Epoch 17/40\n",
      "94/94 [==============================] - 1s 13ms/step - loss: 0.3503 - acc: 0.7955 - val_loss: 0.3422 - val_acc: 0.7936\n",
      "Epoch 18/40\n",
      "94/94 [==============================] - 1s 13ms/step - loss: 0.3298 - acc: 0.8031 - val_loss: 0.3204 - val_acc: 0.8123\n",
      "Epoch 19/40\n",
      "94/94 [==============================] - 1s 13ms/step - loss: 0.3032 - acc: 0.8324 - val_loss: 0.3138 - val_acc: 0.8176\n",
      "Epoch 20/40\n",
      "94/94 [==============================] - 1s 13ms/step - loss: 0.2904 - acc: 0.8408 - val_loss: 0.3003 - val_acc: 0.8282\n",
      "Epoch 21/40\n",
      "94/94 [==============================] - 1s 13ms/step - loss: 0.3211 - acc: 0.8284 - val_loss: 0.3032 - val_acc: 0.8362\n",
      "Epoch 22/40\n",
      "94/94 [==============================] - 1s 13ms/step - loss: 0.2855 - acc: 0.8488 - val_loss: 0.2869 - val_acc: 0.8322\n",
      "Epoch 23/40\n",
      "94/94 [==============================] - 1s 13ms/step - loss: 0.2734 - acc: 0.8558 - val_loss: 0.3244 - val_acc: 0.8043\n",
      "Epoch 24/40\n",
      "94/94 [==============================] - 1s 13ms/step - loss: 0.2716 - acc: 0.8594 - val_loss: 0.3017 - val_acc: 0.8429\n",
      "Epoch 25/40\n",
      "94/94 [==============================] - 1s 13ms/step - loss: 0.2709 - acc: 0.8614 - val_loss: 0.2860 - val_acc: 0.8375\n",
      "Epoch 26/40\n",
      "94/94 [==============================] - 1s 14ms/step - loss: 0.2743 - acc: 0.8558 - val_loss: 0.2815 - val_acc: 0.8482\n",
      "Epoch 27/40\n",
      "94/94 [==============================] - 1s 13ms/step - loss: 0.2770 - acc: 0.8521 - val_loss: 0.2764 - val_acc: 0.8349\n",
      "Epoch 28/40\n",
      "94/94 [==============================] - 1s 13ms/step - loss: 0.2632 - acc: 0.8658 - val_loss: 0.2703 - val_acc: 0.8389\n",
      "Epoch 29/40\n",
      "94/94 [==============================] - 1s 13ms/step - loss: 0.2630 - acc: 0.8661 - val_loss: 0.2967 - val_acc: 0.8309\n",
      "Epoch 30/40\n",
      "94/94 [==============================] - 1s 14ms/step - loss: 0.2645 - acc: 0.8681 - val_loss: 0.3000 - val_acc: 0.8282\n",
      "Epoch 31/40\n",
      "94/94 [==============================] - 1s 13ms/step - loss: 0.2651 - acc: 0.8604 - val_loss: 0.2973 - val_acc: 0.8349\n",
      "Epoch 32/40\n",
      "94/94 [==============================] - 1s 13ms/step - loss: 0.2627 - acc: 0.8691 - val_loss: 0.2803 - val_acc: 0.8389\n",
      "Epoch 33/40\n",
      "94/94 [==============================] - 1s 13ms/step - loss: 0.2571 - acc: 0.8661 - val_loss: 0.2863 - val_acc: 0.8375\n",
      "Epoch 34/40\n",
      "94/94 [==============================] - 1s 13ms/step - loss: 0.2556 - acc: 0.8688 - val_loss: 0.2671 - val_acc: 0.8509\n",
      "Epoch 35/40\n",
      "94/94 [==============================] - 1s 13ms/step - loss: 0.2505 - acc: 0.8694 - val_loss: 0.2656 - val_acc: 0.8535\n",
      "Epoch 36/40\n",
      "94/94 [==============================] - 1s 13ms/step - loss: 0.2403 - acc: 0.8751 - val_loss: 0.2949 - val_acc: 0.8415\n",
      "Epoch 37/40\n",
      "94/94 [==============================] - 1s 13ms/step - loss: 0.2460 - acc: 0.8767 - val_loss: 0.2762 - val_acc: 0.8482\n",
      "Epoch 38/40\n",
      "94/94 [==============================] - 1s 13ms/step - loss: 0.2417 - acc: 0.8764 - val_loss: 0.2741 - val_acc: 0.8415\n",
      "Epoch 39/40\n",
      "94/94 [==============================] - 1s 13ms/step - loss: 0.2344 - acc: 0.8857 - val_loss: 0.2294 - val_acc: 0.8828\n",
      "Epoch 40/40\n",
      "94/94 [==============================] - 1s 13ms/step - loss: 0.2161 - acc: 0.8921 - val_loss: 0.2584 - val_acc: 0.8748\n"
     ]
    }
   ],
   "source": [
    "# 模型训练\n",
    "tensorboard_callback = tf.keras.callbacks.TensorBoard(log_dir=log_dir, histogram_freq=1)\n",
    "history = cnnbilstm_model.fit(train_data, train_label,epochs=40, batch_size=32, validation_split=0.2,callbacks=[tensorboard_callback])"
   ]
  },
  {
   "cell_type": "code",
   "execution_count": 14,
   "id": "9764c7ff",
   "metadata": {},
   "outputs": [
    {
     "name": "stdout",
     "output_type": "stream",
     "text": [
      "*****完成预处理，进行模型评估*****\n",
      "------------------测试集上得分：------------------------\n",
      "*****\n",
      "测试集准确率得分: 0.902\n",
      "*****\n",
      "准确率、召回率、f1-值测试报告如下:\n",
      "               precision    recall  f1-score   support\n",
      "\n",
      "           0       1.00      1.00      1.00       230\n",
      "           1       0.98      0.63      0.77       241\n",
      "           2       0.73      0.99      0.84       239\n",
      "           3       1.00      1.00      1.00       229\n",
      "\n",
      "    accuracy                           0.90       939\n",
      "   macro avg       0.93      0.90      0.90       939\n",
      "weighted avg       0.93      0.90      0.90       939\n",
      "\n"
     ]
    }
   ],
   "source": [
    "from sklearn.metrics import roc_curve,roc_auc_score,classification_report,accuracy_score,log_loss\n",
    "print(\"*****完成预处理，进行模型评估*****\")\n",
    "y_pred = cnnbilstm_model.predict(val_data)\n",
    "y_pred = [np.argmax(x) for x in y_pred]\n",
    "print('------------------测试集上得分：------------------------')\n",
    "print('*' * 5)\n",
    "print('测试集准确率得分:', round(accuracy_score(val_label, y_pred),3))\n",
    "print('*' * 5)\n",
    "print('准确率、召回率、f1-值测试报告如下:\\n', classification_report(val_label, y_pred))"
   ]
  },
  {
   "cell_type": "code",
   "execution_count": 15,
   "id": "49ed4988",
   "metadata": {},
   "outputs": [
    {
     "data": {
      "image/png": "[encoded data removed]",
      "text/plain": [
       "<Figure size 432x288 with 1 Axes>"
      ]
     },
     "metadata": {
      "needs_background": "light"
     },
     "output_type": "display_data"
    }
   ],
   "source": [
    "#本网络的acc\n",
    "# 设置Y轴范围\n",
    "plt.ylim(0.3,1.2)\n",
    "# 训练准确率曲线\n",
    "show_data1_cnnbilstm= history.history['acc']\n",
    "# 测试准确率曲线\n",
    "plt.ylabel(\"Accuracy\")\n",
    "plt.xlabel(\"Epoch\")\n",
    "show_data2_cnnbilstm= history.history['val_acc']\n",
    "x_data = list(range(1,len(show_data1_cnnbilstm)+1))\n",
    "ln1, = plt.plot(x_data,show_data1_cnnbilstm,color='blue',linewidth=2.0,linestyle='--')\n",
    "ln2, = plt.plot(x_data,show_data2_cnnbilstm,color='red',linewidth=3.0,linestyle='-.')\n",
    "plt.legend(handles=[ln1,ln2],labels=['train','val'])\n",
    "plt.show()"
   ]
  },
  {
   "cell_type": "code",
   "execution_count": 16,
   "id": "3804c3de",
   "metadata": {},
   "outputs": [
    {
     "data": {
      "image/png": "[encoded data removed]",
      "text/plain": [
       "<Figure size 432x288 with 1 Axes>"
      ]
     },
     "metadata": {
      "needs_background": "light"
     },
     "output_type": "display_data"
    }
   ],
   "source": [
    "#本网络的loss\n",
    "# 设置Y轴范围\n",
    "#plt.ylim(0.3,1)\n",
    "# 训练准确率曲线\n",
    "show_data1_cnnbilstm= history.history['loss']\n",
    "# 测试准确率曲线\n",
    "plt.ylabel(\"Loss\")\n",
    "plt.xlabel(\"Epoch\")\n",
    "show_data2_cnnbilstm= history.history['val_loss']\n",
    "x_data = list(range(1,len(show_data1_cnnbilstm)+1))\n",
    "ln1, = plt.plot(x_data,show_data1_cnnbilstm,color='blue',linewidth=2.0,linestyle='--')\n",
    "ln2, = plt.plot(x_data,show_data2_cnnbilstm,color='red',linewidth=3.0,linestyle='-.')\n",
    "plt.legend(handles=[ln1,ln2],labels=['train','val'])\n",
    "plt.show()"
   ]
  },
  {
   "cell_type": "markdown",
   "id": "2846f952",
   "metadata": {},
   "source": [
    "##  卷积层2"
   ]
  },
  {
   "cell_type": "code",
   "execution_count": 17,
   "id": "a2de6120",
   "metadata": {},
   "outputs": [],
   "source": [
    "def cnnbilstm_optimize2():\n",
    "    loss = 'sparse_categorical_crossentropy'\n",
    "    metrics = ['acc']\n",
    "    inputs = keras.Input(shape=(2014,1))\n",
    "    #CNN+POOLING\n",
    "    x = layers.Conv1D(128, 3, activation='relu')(inputs)\n",
    "    x = layers.Conv1D(128, 3, activation='relu')(x)\n",
    "    x = layers.MaxPooling1D(16)(x)\n",
    "    x = layers.Conv1D(64, 3, activation='relu')(x)\n",
    "    x = layers.MaxPooling1D(16)(x)\n",
    "    #BiLSTM\n",
    "    #x=Bidirectional(LSTM(128,return_sequences=True))(x)\n",
    "    x=Bidirectional(LSTM(128))(x)\n",
    "    outputs = layers.Dense(4, activation='softmax')(x)\n",
    "    model = keras.Model(inputs, outputs)\n",
    "    model.compile(optimizer='adam',\n",
    "                  loss=loss,\n",
    "                  metrics=metrics)\n",
    "    print(\"实例化模型成功，参数如下：\")\n",
    "    print(model.summary())\n",
    "    return model"
   ]
  },
  {
   "cell_type": "code",
   "execution_count": 18,
   "id": "82b8d5a0",
   "metadata": {},
   "outputs": [
    {
     "name": "stdout",
     "output_type": "stream",
     "text": [
      "实例化模型成功，参数如下：\n",
      "Model: \"model_2\"\n",
      "_________________________________________________________________\n",
      " Layer (type)                Output Shape              Param #   \n",
      "=================================================================\n",
      " input_4 (InputLayer)        [(None, 2014, 1)]         0         \n",
      "                                                                 \n",
      " conv1d_5 (Conv1D)           (None, 2012, 128)         512       \n",
      "                                                                 \n",
      " conv1d_6 (Conv1D)           (None, 2010, 128)         49280     \n",
      "                                                                 \n",
      " max_pooling1d_2 (MaxPooling  (None, 125, 128)         0         \n",
      " 1D)                                                             \n",
      "                                                                 \n",
      " conv1d_7 (Conv1D)           (None, 123, 64)           24640     \n",
      "                                                                 \n",
      " max_pooling1d_3 (MaxPooling  (None, 7, 64)            0         \n",
      " 1D)                                                             \n",
      "                                                                 \n",
      " bidirectional_2 (Bidirectio  (None, 256)              197632    \n",
      " nal)                                                            \n",
      "                                                                 \n",
      " dense_2 (Dense)             (None, 4)                 1028      \n",
      "                                                                 \n",
      "=================================================================\n",
      "Total params: 273,092\n",
      "Trainable params: 273,092\n",
      "Non-trainable params: 0\n",
      "_________________________________________________________________\n",
      "None\n"
     ]
    }
   ],
   "source": [
    "# 实例化模型\n",
    "cnnbilstm_model1= cnnbilstm_optimize2()\n",
    "\n",
    "# 设置模型log输出地址\n",
    "log_dir = os.path.join(\"logs/optimizer2\")\n",
    "if not os.path.exists(log_dir):\n",
    "    os.mkdir(log_dir)"
   ]
  },
  {
   "cell_type": "code",
   "execution_count": 19,
   "id": "36f1f9ad",
   "metadata": {},
   "outputs": [
    {
     "name": "stdout",
     "output_type": "stream",
     "text": [
      "Epoch 1/40\n",
      "94/94 [==============================] - 3s 13ms/step - loss: 0.5678 - acc: 0.6809 - val_loss: 0.3456 - val_acc: 0.8296\n",
      "Epoch 2/40\n",
      "94/94 [==============================] - 1s 8ms/step - loss: 0.3204 - acc: 0.8155 - val_loss: 0.2970 - val_acc: 0.8296\n",
      "Epoch 3/40\n",
      "94/94 [==============================] - 1s 8ms/step - loss: 0.2921 - acc: 0.8378 - val_loss: 0.2812 - val_acc: 0.8375\n",
      "Epoch 4/40\n",
      "94/94 [==============================] - 1s 8ms/step - loss: 0.2733 - acc: 0.8531 - val_loss: 0.2803 - val_acc: 0.8375\n",
      "Epoch 5/40\n",
      "94/94 [==============================] - 1s 8ms/step - loss: 0.2658 - acc: 0.8598 - val_loss: 0.2657 - val_acc: 0.8655\n",
      "Epoch 6/40\n",
      "94/94 [==============================] - 1s 8ms/step - loss: 0.2449 - acc: 0.8728 - val_loss: 0.2898 - val_acc: 0.8256\n",
      "Epoch 7/40\n",
      "94/94 [==============================] - 1s 8ms/step - loss: 0.1725 - acc: 0.9244 - val_loss: 0.1517 - val_acc: 0.9387\n",
      "Epoch 8/40\n",
      "94/94 [==============================] - 1s 8ms/step - loss: 0.1223 - acc: 0.9467 - val_loss: 0.0694 - val_acc: 0.9734\n",
      "Epoch 9/40\n",
      "94/94 [==============================] - 1s 8ms/step - loss: 0.1036 - acc: 0.9577 - val_loss: 0.0838 - val_acc: 0.9814\n",
      "Epoch 10/40\n",
      "94/94 [==============================] - 1s 8ms/step - loss: 0.0872 - acc: 0.9667 - val_loss: 0.0703 - val_acc: 0.9734\n",
      "Epoch 11/40\n",
      "94/94 [==============================] - 1s 8ms/step - loss: 0.0675 - acc: 0.9717 - val_loss: 0.1315 - val_acc: 0.9348\n",
      "Epoch 12/40\n",
      "94/94 [==============================] - 1s 8ms/step - loss: 0.0669 - acc: 0.9760 - val_loss: 0.0414 - val_acc: 0.9893\n",
      "Epoch 13/40\n",
      "94/94 [==============================] - 1s 8ms/step - loss: 0.0599 - acc: 0.9744 - val_loss: 0.0318 - val_acc: 0.9907\n",
      "Epoch 14/40\n",
      "94/94 [==============================] - 1s 8ms/step - loss: 0.0784 - acc: 0.9670 - val_loss: 0.0575 - val_acc: 0.9774\n",
      "Epoch 15/40\n",
      "94/94 [==============================] - 1s 9ms/step - loss: 0.0438 - acc: 0.9813 - val_loss: 0.0778 - val_acc: 0.9561\n",
      "Epoch 16/40\n",
      "94/94 [==============================] - 1s 8ms/step - loss: 0.0622 - acc: 0.9767 - val_loss: 0.0455 - val_acc: 0.9840\n",
      "Epoch 17/40\n",
      "94/94 [==============================] - 1s 8ms/step - loss: 0.0515 - acc: 0.9780 - val_loss: 0.0240 - val_acc: 0.9920\n",
      "Epoch 18/40\n",
      "94/94 [==============================] - 1s 8ms/step - loss: 0.0351 - acc: 0.9853 - val_loss: 0.0451 - val_acc: 0.9814\n",
      "Epoch 19/40\n",
      "94/94 [==============================] - 1s 8ms/step - loss: 0.0302 - acc: 0.9913 - val_loss: 0.0452 - val_acc: 0.9827\n",
      "Epoch 20/40\n",
      "94/94 [==============================] - 1s 8ms/step - loss: 0.0333 - acc: 0.9847 - val_loss: 0.0314 - val_acc: 0.9880\n",
      "Epoch 21/40\n",
      "94/94 [==============================] - 1s 8ms/step - loss: 0.0309 - acc: 0.9863 - val_loss: 0.0232 - val_acc: 0.9867\n",
      "Epoch 22/40\n",
      "94/94 [==============================] - 1s 8ms/step - loss: 0.0359 - acc: 0.9850 - val_loss: 0.0710 - val_acc: 0.9694\n",
      "Epoch 23/40\n",
      "94/94 [==============================] - 1s 8ms/step - loss: 0.0264 - acc: 0.9900 - val_loss: 0.0235 - val_acc: 0.9947\n",
      "Epoch 24/40\n",
      "94/94 [==============================] - 1s 8ms/step - loss: 0.0108 - acc: 0.9960 - val_loss: 0.0449 - val_acc: 0.9867\n",
      "Epoch 25/40\n",
      "94/94 [==============================] - 1s 8ms/step - loss: 0.0071 - acc: 0.9980 - val_loss: 0.0441 - val_acc: 0.9893\n",
      "Epoch 26/40\n",
      "94/94 [==============================] - 1s 8ms/step - loss: 0.0688 - acc: 0.9694 - val_loss: 0.0463 - val_acc: 0.9774\n",
      "Epoch 27/40\n",
      "94/94 [==============================] - 1s 8ms/step - loss: 0.0131 - acc: 0.9967 - val_loss: 0.0265 - val_acc: 0.9907\n",
      "Epoch 28/40\n",
      "94/94 [==============================] - 1s 8ms/step - loss: 0.0117 - acc: 0.9957 - val_loss: 0.0320 - val_acc: 0.9880\n",
      "Epoch 29/40\n",
      "94/94 [==============================] - 1s 8ms/step - loss: 0.0158 - acc: 0.9947 - val_loss: 0.0563 - val_acc: 0.9787\n",
      "Epoch 30/40\n",
      "94/94 [==============================] - 1s 8ms/step - loss: 0.0052 - acc: 0.9983 - val_loss: 0.0184 - val_acc: 0.9933\n",
      "Epoch 31/40\n",
      "94/94 [==============================] - 1s 8ms/step - loss: 0.0064 - acc: 0.9977 - val_loss: 0.0263 - val_acc: 0.9933\n",
      "Epoch 32/40\n",
      "94/94 [==============================] - 1s 8ms/step - loss: 0.0471 - acc: 0.9833 - val_loss: 0.0259 - val_acc: 0.9893\n",
      "Epoch 33/40\n",
      "94/94 [==============================] - 1s 8ms/step - loss: 0.0104 - acc: 0.9963 - val_loss: 0.0749 - val_acc: 0.9694\n",
      "Epoch 34/40\n",
      "94/94 [==============================] - 1s 8ms/step - loss: 0.0146 - acc: 0.9940 - val_loss: 0.1205 - val_acc: 0.9640\n",
      "Epoch 35/40\n",
      "94/94 [==============================] - 1s 8ms/step - loss: 0.0112 - acc: 0.9973 - val_loss: 0.0187 - val_acc: 0.9920\n",
      "Epoch 36/40\n",
      "94/94 [==============================] - 1s 8ms/step - loss: 0.0018 - acc: 1.0000 - val_loss: 0.0320 - val_acc: 0.9854\n",
      "Epoch 37/40\n",
      "94/94 [==============================] - 1s 8ms/step - loss: 0.0205 - acc: 0.9933 - val_loss: 0.0225 - val_acc: 0.9933\n",
      "Epoch 38/40\n",
      "94/94 [==============================] - 1s 8ms/step - loss: 0.0092 - acc: 0.9973 - val_loss: 0.0176 - val_acc: 0.9933\n",
      "Epoch 39/40\n",
      "94/94 [==============================] - 1s 8ms/step - loss: 8.4624e-04 - acc: 1.0000 - val_loss: 0.0238 - val_acc: 0.9893\n",
      "Epoch 40/40\n",
      "94/94 [==============================] - 1s 8ms/step - loss: 4.3505e-04 - acc: 1.0000 - val_loss: 0.0120 - val_acc: 0.9947\n"
     ]
    }
   ],
   "source": [
    "# 模型训练\n",
    "tensorboard_callback = tf.keras.callbacks.TensorBoard(log_dir=log_dir, histogram_freq=1)\n",
    "history2 = cnnbilstm_model1.fit(train_data, train_label,epochs=40, batch_size=32, validation_split=0.2,callbacks=[tensorboard_callback])"
   ]
  },
  {
   "cell_type": "code",
   "execution_count": 20,
   "id": "dc85c927",
   "metadata": {},
   "outputs": [
    {
     "name": "stdout",
     "output_type": "stream",
     "text": [
      "*****完成预处理，进行模型评估*****\n",
      "------------------测试集上得分：------------------------\n",
      "*****\n",
      "测试集准确率得分: 0.991\n",
      "*****\n",
      "准确率、召回率、f1-值测试报告如下:\n",
      "               precision    recall  f1-score   support\n",
      "\n",
      "           0       1.00      1.00      1.00       230\n",
      "           1       0.98      0.98      0.98       241\n",
      "           2       0.98      0.98      0.98       239\n",
      "           3       1.00      1.00      1.00       229\n",
      "\n",
      "    accuracy                           0.99       939\n",
      "   macro avg       0.99      0.99      0.99       939\n",
      "weighted avg       0.99      0.99      0.99       939\n",
      "\n"
     ]
    }
   ],
   "source": [
    "from sklearn.metrics import roc_curve,roc_auc_score,classification_report,accuracy_score,log_loss\n",
    "print(\"*****完成预处理，进行模型评估*****\")\n",
    "y_pred = cnnbilstm_model1.predict(val_data)\n",
    "y_pred = [np.argmax(x) for x in y_pred]\n",
    "print('------------------测试集上得分：------------------------')\n",
    "print('*' * 5)\n",
    "print('测试集准确率得分:', round(accuracy_score(val_label, y_pred),3))\n",
    "print('*' * 5)\n",
    "print('准确率、召回率、f1-值测试报告如下:\\n', classification_report(val_label, y_pred))"
   ]
  },
  {
   "cell_type": "code",
   "execution_count": 21,
   "id": "2564963a",
   "metadata": {},
   "outputs": [
    {
     "data": {
      "image/png": "[encoded data removed]",
      "text/plain": [
       "<Figure size 432x288 with 1 Axes>"
      ]
     },
     "metadata": {
      "needs_background": "light"
     },
     "output_type": "display_data"
    }
   ],
   "source": [
    "#本网络的acc\n",
    "plt.ylim(0.3,1.2)\n",
    "# 训练准确率曲线\n",
    "show_data1_cnnbilstm= history2.history['acc']\n",
    "# 测试准确率曲线\n",
    "plt.ylabel(\"Accuracy\")\n",
    "plt.xlabel(\"Epoch\")\n",
    "show_data2_cnnbilstm= history2.history['val_acc']\n",
    "x_data = list(range(1,len(show_data1_cnnbilstm)+1))\n",
    "ln1, = plt.plot(x_data,show_data1_cnnbilstm,color='blue',linewidth=2.0,linestyle='--')\n",
    "ln2, = plt.plot(x_data,show_data2_cnnbilstm,color='red',linewidth=3.0,linestyle='solid')\n",
    "plt.legend(handles=[ln1,ln2],labels=['train','val'])\n",
    "plt.show()"
   ]
  },
  {
   "cell_type": "code",
   "execution_count": 22,
   "id": "95d95963",
   "metadata": {},
   "outputs": [
    {
     "data": {
      "image/png": "[encoded data removed]",
      "text/plain": [
       "<Figure size 432x288 with 1 Axes>"
      ]
     },
     "metadata": {
      "needs_background": "light"
     },
     "output_type": "display_data"
    }
   ],
   "source": [
    "#本网络的loss\n",
    "# 设置Y轴范围\n",
    "#plt.ylim(0.3,1)\n",
    "# 训练准确率曲线\n",
    "show_data1_cnnbilstm= history2.history['loss']\n",
    "# 测试准确率曲线\n",
    "plt.ylabel(\"Loss\")\n",
    "plt.xlabel(\"Epoch\")\n",
    "show_data2_cnnbilstm= history2.history['val_loss']\n",
    "x_data = list(range(1,len(show_data1_cnnbilstm)+1))\n",
    "ln1, = plt.plot(x_data,show_data1_cnnbilstm,color='blue',linewidth=2.0,linestyle='--')\n",
    "ln2, = plt.plot(x_data,show_data2_cnnbilstm,color='red',linewidth=3.0,linestyle='solid')\n",
    "plt.legend(handles=[ln1,ln2],labels=['train','val'])\n",
    "plt.show()"
   ]
  },
  {
   "cell_type": "markdown",
   "id": "b1e32557",
   "metadata": {},
   "source": [
    "## 对比测试集"
   ]
  },
  {
   "cell_type": "code",
   "execution_count": 23,
   "id": "51a7a426",
   "metadata": {},
   "outputs": [],
   "source": [
    "plt.rcParams['font.sans-serif']=['SimHei']\n",
    "plt.rcParams['axes.unicode_minus'] = False"
   ]
  },
  {
   "cell_type": "code",
   "execution_count": 24,
   "id": "291ab16a",
   "metadata": {},
   "outputs": [
    {
     "data": {
      "image/png": "[encoded data removed]",
      "text/plain": [
       "<Figure size 432x288 with 1 Axes>"
      ]
     },
     "metadata": {
      "needs_background": "light"
     },
     "output_type": "display_data"
    }
   ],
   "source": [
    "#acc\n",
    "plt.ylim(0.3,1.2)\n",
    "# 训练准确率曲线\n",
    "show_data1_cnnbilstm= history.history['val_acc']\n",
    "# 测试准确率曲线\n",
    "plt.ylabel(\"Accuracy\")\n",
    "plt.xlabel(\"Epoch\")\n",
    "show_data2_cnnbilstm= history2.history['val_acc']\n",
    "x_data = list(range(1,len(show_data1_cnnbilstm)+1))\n",
    "ln1, = plt.plot(x_data,show_data1_cnnbilstm,color='blue',linewidth=2.0,linestyle='--')\n",
    "ln2, = plt.plot(x_data,show_data2_cnnbilstm,color='red',linewidth=3.0,linestyle='solid')\n",
    "plt.legend(handles=[ln1,ln2],labels=['单卷积池化','两层卷积池化'])\n",
    "plt.show()"
   ]
  },
  {
   "cell_type": "code",
   "execution_count": 25,
   "id": "5decc78f",
   "metadata": {},
   "outputs": [
    {
     "data": {
      "image/png": "[encoded data removed]",
      "text/plain": [
       "<Figure size 432x288 with 1 Axes>"
      ]
     },
     "metadata": {
      "needs_background": "light"
     },
     "output_type": "display_data"
    }
   ],
   "source": [
    "#loss\n",
    "# 设置Y轴范围\n",
    "#plt.ylim(0.3,1)\n",
    "# 训练准确率曲线\n",
    "show_data1_cnnbilstm= history.history['val_loss']\n",
    "# 测试准确率曲线\n",
    "plt.ylabel(\"Loss\")\n",
    "plt.xlabel(\"Epoch\")\n",
    "show_data2_cnnbilstm= history2.history['val_loss']\n",
    "x_data = list(range(1,len(show_data1_cnnbilstm)+1))\n",
    "ln1, = plt.plot(x_data,show_data1_cnnbilstm,color='blue',linewidth=2.0,linestyle='--')\n",
    "ln2, = plt.plot(x_data,show_data2_cnnbilstm,color='red',linewidth=3.0,linestyle='solid')\n",
    "plt.legend(handles=[ln1,ln2],labels=['单卷积池化','两层卷积池化'])\n",
    "plt.show()"
   ]
  },
  {
   "cell_type": "markdown",
   "id": "d88018d3",
   "metadata": {},
   "source": [
    "## dropout层"
   ]
  },
  {
   "cell_type": "code",
   "execution_count": 26,
   "id": "0a1e78c8",
   "metadata": {},
   "outputs": [],
   "source": [
    "def cnnbilstm_optimize3():\n",
    "    loss = 'sparse_categorical_crossentropy'\n",
    "    metrics = ['acc']\n",
    "    inputs = keras.Input(shape=(2014,1))\n",
    "    #CNN+POOLING\n",
    "    x = layers.Conv1D(128, 3, activation='relu')(inputs)\n",
    "    x = layers.Conv1D(128, 3, activation='relu')(x)\n",
    "    x = layers.MaxPooling1D(16)(x)\n",
    "    x = layers.Conv1D(64, 3, activation='relu')(x)\n",
    "    x = layers.MaxPooling1D(16)(x)\n",
    "    #BiLSTM\n",
    "    #x=Bidirectional(LSTM(128,return_sequences=True))(x)\n",
    "    x=Bidirectional(LSTM(128))(x)\n",
    "    x = layers.Dropout(0.1)(x)\n",
    "    outputs = layers.Dense(4, activation='softmax')(x)\n",
    "    model = keras.Model(inputs, outputs)\n",
    "    model.compile(optimizer='adam',\n",
    "                  loss=loss,\n",
    "                  metrics=metrics)\n",
    "    print(\"实例化模型成功，参数如下：\")\n",
    "    print(model.summary())\n",
    "    return model"
   ]
  },
  {
   "cell_type": "code",
   "execution_count": 27,
   "id": "dcf4a6a5",
   "metadata": {},
   "outputs": [
    {
     "name": "stdout",
     "output_type": "stream",
     "text": [
      "实例化模型成功，参数如下：\n",
      "Model: \"model_3\"\n",
      "_________________________________________________________________\n",
      " Layer (type)                Output Shape              Param #   \n",
      "=================================================================\n",
      " input_5 (InputLayer)        [(None, 2014, 1)]         0         \n",
      "                                                                 \n",
      " conv1d_8 (Conv1D)           (None, 2012, 128)         512       \n",
      "                                                                 \n",
      " conv1d_9 (Conv1D)           (None, 2010, 128)         49280     \n",
      "                                                                 \n",
      " max_pooling1d_4 (MaxPooling  (None, 125, 128)         0         \n",
      " 1D)                                                             \n",
      "                                                                 \n",
      " conv1d_10 (Conv1D)          (None, 123, 64)           24640     \n",
      "                                                                 \n",
      " max_pooling1d_5 (MaxPooling  (None, 7, 64)            0         \n",
      " 1D)                                                             \n",
      "                                                                 \n",
      " bidirectional_3 (Bidirectio  (None, 256)              197632    \n",
      " nal)                                                            \n",
      "                                                                 \n",
      " dropout (Dropout)           (None, 256)               0         \n",
      "                                                                 \n",
      " dense_3 (Dense)             (None, 4)                 1028      \n",
      "                                                                 \n",
      "=================================================================\n",
      "Total params: 273,092\n",
      "Trainable params: 273,092\n",
      "Non-trainable params: 0\n",
      "_________________________________________________________________\n",
      "None\n"
     ]
    }
   ],
   "source": [
    "# 实例化模型\n",
    "cnnbilstm_model2= cnnbilstm_optimize3()\n",
    "\n",
    "# 设置模型log输出地址\n",
    "log_dir = os.path.join(\"logs/optimizer4\")\n",
    "if not os.path.exists(log_dir):\n",
    "    os.mkdir(log_dir)"
   ]
  },
  {
   "cell_type": "code",
   "execution_count": 28,
   "id": "1dab19c3",
   "metadata": {
    "scrolled": true
   },
   "outputs": [
    {
     "name": "stdout",
     "output_type": "stream",
     "text": [
      "Epoch 1/40\n",
      "94/94 [==============================] - 3s 13ms/step - loss: 0.5451 - acc: 0.6975 - val_loss: 0.3397 - val_acc: 0.7816\n",
      "Epoch 2/40\n",
      "94/94 [==============================] - 1s 8ms/step - loss: 0.3162 - acc: 0.8248 - val_loss: 0.2814 - val_acc: 0.8682\n",
      "Epoch 3/40\n",
      "94/94 [==============================] - 1s 8ms/step - loss: 0.2894 - acc: 0.8448 - val_loss: 0.2922 - val_acc: 0.8455\n",
      "Epoch 4/40\n",
      "94/94 [==============================] - 1s 8ms/step - loss: 0.2724 - acc: 0.8544 - val_loss: 0.2958 - val_acc: 0.8269\n",
      "Epoch 5/40\n",
      "94/94 [==============================] - 1s 9ms/step - loss: 0.2813 - acc: 0.8504 - val_loss: 0.2637 - val_acc: 0.8482\n",
      "Epoch 6/40\n",
      "94/94 [==============================] - 1s 9ms/step - loss: 0.2276 - acc: 0.8924 - val_loss: 0.1696 - val_acc: 0.9241\n",
      "Epoch 7/40\n",
      "94/94 [==============================] - 1s 8ms/step - loss: 0.1964 - acc: 0.9057 - val_loss: 0.1256 - val_acc: 0.9427\n",
      "Epoch 8/40\n",
      "94/94 [==============================] - 1s 8ms/step - loss: 0.1571 - acc: 0.9280 - val_loss: 0.1090 - val_acc: 0.9427\n",
      "Epoch 9/40\n",
      "94/94 [==============================] - 1s 8ms/step - loss: 0.1070 - acc: 0.9574 - val_loss: 0.1583 - val_acc: 0.9268\n",
      "Epoch 10/40\n",
      "94/94 [==============================] - 1s 8ms/step - loss: 0.1037 - acc: 0.9590 - val_loss: 0.0444 - val_acc: 0.9787\n",
      "Epoch 11/40\n",
      "94/94 [==============================] - 1s 8ms/step - loss: 0.0732 - acc: 0.9714 - val_loss: 0.1068 - val_acc: 0.9601\n",
      "Epoch 12/40\n",
      "94/94 [==============================] - 1s 8ms/step - loss: 0.0523 - acc: 0.9787 - val_loss: 0.3190 - val_acc: 0.8948\n",
      "Epoch 13/40\n",
      "94/94 [==============================] - 1s 8ms/step - loss: 0.0998 - acc: 0.9554 - val_loss: 0.0620 - val_acc: 0.9694\n",
      "Epoch 14/40\n",
      "94/94 [==============================] - 1s 8ms/step - loss: 0.0427 - acc: 0.9833 - val_loss: 0.0745 - val_acc: 0.9734\n",
      "Epoch 15/40\n",
      "94/94 [==============================] - 1s 8ms/step - loss: 0.0565 - acc: 0.9760 - val_loss: 0.1241 - val_acc: 0.9427\n",
      "Epoch 16/40\n",
      "94/94 [==============================] - 1s 8ms/step - loss: 0.0289 - acc: 0.9883 - val_loss: 0.1517 - val_acc: 0.9387\n",
      "Epoch 17/40\n",
      "94/94 [==============================] - 1s 8ms/step - loss: 0.0365 - acc: 0.9830 - val_loss: 0.0191 - val_acc: 0.9947\n",
      "Epoch 18/40\n",
      "94/94 [==============================] - 1s 8ms/step - loss: 0.0326 - acc: 0.9867 - val_loss: 0.0352 - val_acc: 0.9867\n",
      "Epoch 19/40\n",
      "94/94 [==============================] - 1s 8ms/step - loss: 0.0485 - acc: 0.9827 - val_loss: 0.0345 - val_acc: 0.9854\n",
      "Epoch 20/40\n",
      "94/94 [==============================] - 1s 8ms/step - loss: 0.0350 - acc: 0.9870 - val_loss: 0.0217 - val_acc: 0.9947\n",
      "Epoch 21/40\n",
      "94/94 [==============================] - 1s 8ms/step - loss: 0.0280 - acc: 0.9890 - val_loss: 0.1055 - val_acc: 0.9574\n",
      "Epoch 22/40\n",
      "94/94 [==============================] - 1s 8ms/step - loss: 0.0197 - acc: 0.9927 - val_loss: 0.0137 - val_acc: 0.9973\n",
      "Epoch 23/40\n",
      "94/94 [==============================] - 1s 9ms/step - loss: 0.0094 - acc: 0.9973 - val_loss: 0.0658 - val_acc: 0.9800\n",
      "Epoch 24/40\n",
      "94/94 [==============================] - 1s 9ms/step - loss: 0.0223 - acc: 0.9917 - val_loss: 0.1121 - val_acc: 0.9561\n",
      "Epoch 25/40\n",
      "94/94 [==============================] - 1s 8ms/step - loss: 0.0154 - acc: 0.9957 - val_loss: 0.0201 - val_acc: 0.9907\n",
      "Epoch 26/40\n",
      "94/94 [==============================] - 1s 8ms/step - loss: 0.0117 - acc: 0.9947 - val_loss: 0.0166 - val_acc: 0.9947\n",
      "Epoch 27/40\n",
      "94/94 [==============================] - 1s 8ms/step - loss: 0.0826 - acc: 0.9660 - val_loss: 0.0529 - val_acc: 0.9800\n",
      "Epoch 28/40\n",
      "94/94 [==============================] - 1s 8ms/step - loss: 0.0212 - acc: 0.9920 - val_loss: 0.0180 - val_acc: 0.9960\n",
      "Epoch 29/40\n",
      "94/94 [==============================] - 1s 8ms/step - loss: 0.0063 - acc: 0.9973 - val_loss: 0.0139 - val_acc: 0.9920\n",
      "Epoch 30/40\n",
      "94/94 [==============================] - 1s 8ms/step - loss: 0.0251 - acc: 0.9897 - val_loss: 0.0311 - val_acc: 0.9880\n",
      "Epoch 31/40\n",
      "94/94 [==============================] - 1s 9ms/step - loss: 0.0087 - acc: 0.9973 - val_loss: 0.0145 - val_acc: 0.9933\n",
      "Epoch 32/40\n",
      "94/94 [==============================] - 1s 8ms/step - loss: 0.0041 - acc: 0.9987 - val_loss: 0.0179 - val_acc: 0.9933\n",
      "Epoch 33/40\n",
      "94/94 [==============================] - 1s 9ms/step - loss: 0.0185 - acc: 0.9933 - val_loss: 0.0366 - val_acc: 0.9867\n",
      "Epoch 34/40\n",
      "94/94 [==============================] - 1s 9ms/step - loss: 0.1315 - acc: 0.9624 - val_loss: 0.1298 - val_acc: 0.9401\n",
      "Epoch 35/40\n",
      "94/94 [==============================] - 1s 8ms/step - loss: 0.0294 - acc: 0.9893 - val_loss: 0.0675 - val_acc: 0.9680\n",
      "Epoch 36/40\n",
      "94/94 [==============================] - 1s 8ms/step - loss: 0.0188 - acc: 0.9930 - val_loss: 0.0886 - val_acc: 0.9680\n",
      "Epoch 37/40\n",
      "94/94 [==============================] - 1s 8ms/step - loss: 0.0091 - acc: 0.9960 - val_loss: 0.0219 - val_acc: 0.9933\n",
      "Epoch 38/40\n",
      "94/94 [==============================] - 1s 8ms/step - loss: 0.0107 - acc: 0.9953 - val_loss: 0.0398 - val_acc: 0.9867\n",
      "Epoch 39/40\n",
      "94/94 [==============================] - 1s 8ms/step - loss: 0.0159 - acc: 0.9940 - val_loss: 0.0126 - val_acc: 0.9960\n",
      "Epoch 40/40\n",
      "94/94 [==============================] - 1s 8ms/step - loss: 0.0058 - acc: 0.9983 - val_loss: 0.0134 - val_acc: 0.9933\n"
     ]
    }
   ],
   "source": [
    "# 模型训练\n",
    "tensorboard_callback = tf.keras.callbacks.TensorBoard(log_dir=log_dir, histogram_freq=1)\n",
    "history3 = cnnbilstm_model2.fit(train_data, train_label,epochs=40, batch_size=32, validation_split=0.2,callbacks=[tensorboard_callback])"
   ]
  },
  {
   "cell_type": "code",
   "execution_count": 29,
   "id": "a35c148d",
   "metadata": {},
   "outputs": [
    {
     "name": "stdout",
     "output_type": "stream",
     "text": [
      "*****完成预处理，进行模型评估*****\n",
      "------------------测试集上得分：------------------------\n",
      "*****\n",
      "测试集准确率得分: 0.991\n",
      "*****\n",
      "准确率、召回率、f1-值测试报告如下:\n",
      "               precision    recall  f1-score   support\n",
      "\n",
      "           0       1.00      1.00      1.00       230\n",
      "           1       0.98      0.98      0.98       241\n",
      "           2       0.98      0.98      0.98       239\n",
      "           3       1.00      1.00      1.00       229\n",
      "\n",
      "    accuracy                           0.99       939\n",
      "   macro avg       0.99      0.99      0.99       939\n",
      "weighted avg       0.99      0.99      0.99       939\n",
      "\n"
     ]
    }
   ],
   "source": [
    "from sklearn.metrics import roc_curve,roc_auc_score,classification_report,accuracy_score,log_loss\n",
    "print(\"*****完成预处理，进行模型评估*****\")\n",
    "y_pred = cnnbilstm_model2.predict(val_data)\n",
    "y_pred = [np.argmax(x) for x in y_pred]\n",
    "print('------------------测试集上得分：------------------------')\n",
    "print('*' * 5)\n",
    "print('测试集准确率得分:', round(accuracy_score(val_label, y_pred),3))\n",
    "print('*' * 5)\n",
    "print('准确率、召回率、f1-值测试报告如下:\\n', classification_report(val_label, y_pred))"
   ]
  },
  {
   "cell_type": "code",
   "execution_count": 30,
   "id": "d24c5bb4",
   "metadata": {},
   "outputs": [
    {
     "data": {
      "image/png": "[encoded data removed]",
      "text/plain": [
       "<Figure size 432x288 with 1 Axes>"
      ]
     },
     "metadata": {
      "needs_background": "light"
     },
     "output_type": "display_data"
    }
   ],
   "source": [
    "#acc\n",
    "plt.ylim(0.3,1.2)\n",
    "# 训练准确率曲线\n",
    "show_data1_cnnbilstm= history3.history['val_acc']\n",
    "# 测试准确率曲线\n",
    "plt.ylabel(\"Accuracy\")\n",
    "plt.xlabel(\"Epoch\")\n",
    "show_data2_cnnbilstm= history2.history['val_acc']\n",
    "x_data = list(range(1,len(show_data1_cnnbilstm)+1))\n",
    "ln1, = plt.plot(x_data,show_data1_cnnbilstm,color='blue',linewidth=2.0,linestyle='--')\n",
    "ln2, = plt.plot(x_data,show_data2_cnnbilstm,color='red',linewidth=3.0,linestyle='solid')\n",
    "plt.legend(handles=[ln1,ln2],labels=['有dropout','无dropout'])\n",
    "plt.show()"
   ]
  },
  {
   "cell_type": "code",
   "execution_count": 31,
   "id": "39afa37b",
   "metadata": {},
   "outputs": [
    {
     "data": {
      "image/png": "[encoded data removed]",
      "text/plain": [
       "<Figure size 432x288 with 1 Axes>"
      ]
     },
     "metadata": {
      "needs_background": "light"
     },
     "output_type": "display_data"
    }
   ],
   "source": [
    "#loss\n",
    "# 设置Y轴范围\n",
    "#plt.ylim(0.3,1)\n",
    "# 训练准确率曲线\n",
    "show_data1_cnnbilstm= history3.history['val_loss']\n",
    "# 测试准确率曲线\n",
    "plt.ylabel(\"Loss\")\n",
    "plt.xlabel(\"Epoch\")\n",
    "show_data2_cnnbilstm= history2.history['val_loss']\n",
    "x_data = list(range(1,len(show_data1_cnnbilstm)+1))\n",
    "ln1, = plt.plot(x_data,show_data1_cnnbilstm,color='blue',linewidth=2.0,linestyle='--')\n",
    "ln2, = plt.plot(x_data,show_data2_cnnbilstm,color='red',linewidth=3.0,linestyle='solid')\n",
    "plt.legend(handles=[ln1,ln2],labels=['有dropout','无dropout'])\n",
    "plt.show()"
   ]
  },
  {
   "cell_type": "code",
   "execution_count": null,
   "id": "bbc68f96",
   "metadata": {},
   "outputs": [],
   "source": []
  },
  {
   "cell_type": "code",
   "execution_count": null,
   "id": "a312d7dd",
   "metadata": {},
   "outputs": [],
   "source": []
  }
 ],
 "metadata": {
  "kernelspec": {
   "display_name": "Python 3",
   "language": "python",
   "name": "python3"
  },
  "language_info": {
   "codemirror_mode": {
    "name": "ipython",
    "version": 3
   },
   "file_extension": ".py",
   "mimetype": "text/x-python",
   "name": "python",
   "nbconvert_exporter": "python",
   "pygments_lexer": "ipython3",
   "version": "3.6.13"
  }
 },
 "nbformat": 4,
 "nbformat_minor": 5
}
